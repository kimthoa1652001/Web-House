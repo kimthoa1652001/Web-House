{
  "cells": [
    {
      "cell_type": "markdown",
      "metadata": {
        "id": "JwquyMPigE7j"
      },
      "source": [
        "#**Step1: Import Library**"
      ]
    },
    {
      "cell_type": "code",
      "execution_count": null,
      "metadata": {
        "id": "0FaBKIe7oQJn"
      },
      "outputs": [],
      "source": [
        "import numpy as np\n",
        "import pandas as pd \n",
        "import os\n",
        "from sklearn.model_selection import train_test_split\n",
        "from sklearn.preprocessing import StandardScaler\n",
        "import seaborn as sns\n",
        "import matplotlib.pyplot as plt \n",
        "from sklearn.metrics import r2_score\n",
        "from sklearn import model_selection\n",
        "from sklearn.model_selection import GridSearchCV"
      ]
    },
    {
      "cell_type": "code",
      "execution_count": null,
      "metadata": {
        "colab": {
          "base_uri": "https://localhost:8080/"
        },
        "id": "7ZFycyVFJ0aL",
        "outputId": "349962ff-6f24-43b8-fe4c-15d47b2dd65a"
      },
      "outputs": [
        {
          "name": "stdout",
          "output_type": "stream",
          "text": [
            "Mounted at /gdrive\n"
          ]
        }
      ],
      "source": [
        "from google.colab import drive\n",
        "drive.mount('/gdrive')"
      ]
    },
    {
      "cell_type": "code",
      "execution_count": null,
      "metadata": {
        "colab": {
          "base_uri": "https://localhost:8080/"
        },
        "id": "d69eEQfrOb8H",
        "outputId": "75271977-89db-4cf0-fd9d-a2a13f3ad388"
      },
      "outputs": [
        {
          "name": "stdout",
          "output_type": "stream",
          "text": [
            "Mounted at /content/drive\n"
          ]
        }
      ],
      "source": [
        "from google.colab import drive\n",
        "drive.mount('/content/drive')"
      ]
    },
    {
      "cell_type": "markdown",
      "metadata": {
        "id": "h5NZL4N1gIlk"
      },
      "source": [
        "#**Step2: Reading File**"
      ]
    },
    {
      "cell_type": "code",
      "execution_count": null,
      "metadata": {
        "id": "cBwqpOz_9uZL"
      },
      "outputs": [],
      "source": [
        "df3 = pd.read_excel(\"/content/drive/MyDrive/NCKH/Data_Gianha/HCM/Ho_chi_minh_24_9_v2.xlsx\", sheet_name=0)\n",
        "df4 = pd.read_excel(\"/content/drive/MyDrive/NCKH/Data_Gianha/HCM/Data_16_10.xlsx\", sheet_name=0)"
      ]
    },
    {
      "cell_type": "code",
      "execution_count": null,
      "metadata": {
        "id": "SS4clC61CF1_"
      },
      "outputs": [],
      "source": [
        "df3 = pd.concat([df3,df4])"
      ]
    },
    {
      "cell_type": "code",
      "execution_count": null,
      "metadata": {
        "colab": {
          "base_uri": "https://localhost:8080/",
          "height": 877
        },
        "id": "g0SmJq6_8GJU",
        "outputId": "c69acb6a-0dec-4dd4-ef94-c3e11e59ced3"
      },
      "outputs": [
        {
          "data": {
            "text/html": [
              "\n",
              "  <div id=\"df-66afc9b8-687f-41bd-8188-d6287e5150a8\">\n",
              "    <div class=\"colab-df-container\">\n",
              "      <div>\n",
              "<style scoped>\n",
              "    .dataframe tbody tr th:only-of-type {\n",
              "        vertical-align: middle;\n",
              "    }\n",
              "\n",
              "    .dataframe tbody tr th {\n",
              "        vertical-align: top;\n",
              "    }\n",
              "\n",
              "    .dataframe thead th {\n",
              "        text-align: right;\n",
              "    }\n",
              "</style>\n",
              "<table border=\"1\" class=\"dataframe\">\n",
              "  <thead>\n",
              "    <tr style=\"text-align: right;\">\n",
              "      <th></th>\n",
              "      <th>ID</th>\n",
              "      <th>Date</th>\n",
              "      <th>District</th>\n",
              "      <th>Province</th>\n",
              "      <th>Hsdieuchinh</th>\n",
              "      <th>Type_of_house</th>\n",
              "      <th>Legal_paper</th>\n",
              "      <th>WOS</th>\n",
              "      <th>WOS_Segment</th>\n",
              "      <th>Direction</th>\n",
              "      <th>Area</th>\n",
              "      <th>Length</th>\n",
              "      <th>Width</th>\n",
              "      <th>Rooms</th>\n",
              "      <th>Floors</th>\n",
              "      <th>Price</th>\n",
              "      <th>Address</th>\n",
              "      <th>Weight</th>\n",
              "    </tr>\n",
              "  </thead>\n",
              "  <tbody>\n",
              "    <tr>\n",
              "      <th>0</th>\n",
              "      <td>0.0</td>\n",
              "      <td>2022-09-24</td>\n",
              "      <td>Thành phố Thủ Đức</td>\n",
              "      <td>HCM</td>\n",
              "      <td>2.1</td>\n",
              "      <td>Nhà mặt tiền</td>\n",
              "      <td>No</td>\n",
              "      <td>7.0</td>\n",
              "      <td>Dưới 10</td>\n",
              "      <td>NaN</td>\n",
              "      <td>65.0</td>\n",
              "      <td>15.5</td>\n",
              "      <td>4.15</td>\n",
              "      <td>4.0</td>\n",
              "      <td>3.0</td>\n",
              "      <td>6.55 tỷ</td>\n",
              "      <td>Đường Số 10, Phường Hiệp Bình Phước, Thành ph...</td>\n",
              "      <td>3.0</td>\n",
              "    </tr>\n",
              "    <tr>\n",
              "      <th>1</th>\n",
              "      <td>1.0</td>\n",
              "      <td>2022-09-24</td>\n",
              "      <td>Thành phố Thủ Đức</td>\n",
              "      <td>HCM</td>\n",
              "      <td>2.1</td>\n",
              "      <td>Nhà mặt tiền</td>\n",
              "      <td>Yes</td>\n",
              "      <td>14.0</td>\n",
              "      <td>10-15m</td>\n",
              "      <td>NaN</td>\n",
              "      <td>87.0</td>\n",
              "      <td>21.0</td>\n",
              "      <td>4.10</td>\n",
              "      <td>8.0</td>\n",
              "      <td>5.0</td>\n",
              "      <td>14.7 tỷ</td>\n",
              "      <td>Đường Gò Dưa, Phường Tam Bình, Thành phố Thủ ...</td>\n",
              "      <td>2.0</td>\n",
              "    </tr>\n",
              "    <tr>\n",
              "      <th>2</th>\n",
              "      <td>2.0</td>\n",
              "      <td>2022-09-24</td>\n",
              "      <td>Thành phố Thủ Đức</td>\n",
              "      <td>HCM</td>\n",
              "      <td>2.1</td>\n",
              "      <td>Nhà mặt tiền</td>\n",
              "      <td>Yes</td>\n",
              "      <td>8.0</td>\n",
              "      <td>Dưới 10</td>\n",
              "      <td>NaN</td>\n",
              "      <td>80.0</td>\n",
              "      <td>16.0</td>\n",
              "      <td>5.00</td>\n",
              "      <td>4.0</td>\n",
              "      <td>4.0</td>\n",
              "      <td>7.2 tỷ</td>\n",
              "      <td>Đường Số 8, Phường Hiệp Bình Chánh, Thành phố...</td>\n",
              "      <td>2.0</td>\n",
              "    </tr>\n",
              "    <tr>\n",
              "      <th>3</th>\n",
              "      <td>3.0</td>\n",
              "      <td>2022-09-24</td>\n",
              "      <td>Huyện Hóc Môn</td>\n",
              "      <td>HCM</td>\n",
              "      <td>1.9</td>\n",
              "      <td>Đất thổ cư, đất ở</td>\n",
              "      <td>Yes</td>\n",
              "      <td>6.0</td>\n",
              "      <td>Dưới 10</td>\n",
              "      <td>Đông Nam</td>\n",
              "      <td>100.0</td>\n",
              "      <td>25.0</td>\n",
              "      <td>4.00</td>\n",
              "      <td>0.0</td>\n",
              "      <td>0.0</td>\n",
              "      <td>480 triệu</td>\n",
              "      <td>Đường Nguyễn Văn Bứa, Xã Xuân Thới Sơn, Huyện...</td>\n",
              "      <td>2.0</td>\n",
              "    </tr>\n",
              "    <tr>\n",
              "      <th>4</th>\n",
              "      <td>4.0</td>\n",
              "      <td>2022-09-24</td>\n",
              "      <td>Thành phố Thủ Đức</td>\n",
              "      <td>HCM</td>\n",
              "      <td>2.1</td>\n",
              "      <td>Nhà mặt tiền</td>\n",
              "      <td>Yes</td>\n",
              "      <td>8.0</td>\n",
              "      <td>Dưới 10</td>\n",
              "      <td>Tây Bắc</td>\n",
              "      <td>58.0</td>\n",
              "      <td>15.0</td>\n",
              "      <td>4.00</td>\n",
              "      <td>4.0</td>\n",
              "      <td>4.0</td>\n",
              "      <td>8.2 tỷ</td>\n",
              "      <td>Quốc Lộ 13, Phường Hiệp Bình Phước, Thành phố...</td>\n",
              "      <td>2.0</td>\n",
              "    </tr>\n",
              "  </tbody>\n",
              "</table>\n",
              "</div>\n",
              "      <button class=\"colab-df-convert\" onclick=\"convertToInteractive('df-66afc9b8-687f-41bd-8188-d6287e5150a8')\"\n",
              "              title=\"Convert this dataframe to an interactive table.\"\n",
              "              style=\"display:none;\">\n",
              "        \n",
              "  <svg xmlns=\"http://www.w3.org/2000/svg\" height=\"24px\"viewBox=\"0 0 24 24\"\n",
              "       width=\"24px\">\n",
              "    <path d=\"M0 0h24v24H0V0z\" fill=\"none\"/>\n",
              "    <path d=\"M18.56 5.44l.94 2.06.94-2.06 2.06-.94-2.06-.94-.94-2.06-.94 2.06-2.06.94zm-11 1L8.5 8.5l.94-2.06 2.06-.94-2.06-.94L8.5 2.5l-.94 2.06-2.06.94zm10 10l.94 2.06.94-2.06 2.06-.94-2.06-.94-.94-2.06-.94 2.06-2.06.94z\"/><path d=\"M17.41 7.96l-1.37-1.37c-.4-.4-.92-.59-1.43-.59-.52 0-1.04.2-1.43.59L10.3 9.45l-7.72 7.72c-.78.78-.78 2.05 0 2.83L4 21.41c.39.39.9.59 1.41.59.51 0 1.02-.2 1.41-.59l7.78-7.78 2.81-2.81c.8-.78.8-2.07 0-2.86zM5.41 20L4 18.59l7.72-7.72 1.47 1.35L5.41 20z\"/>\n",
              "  </svg>\n",
              "      </button>\n",
              "      \n",
              "  <style>\n",
              "    .colab-df-container {\n",
              "      display:flex;\n",
              "      flex-wrap:wrap;\n",
              "      gap: 12px;\n",
              "    }\n",
              "\n",
              "    .colab-df-convert {\n",
              "      background-color: #E8F0FE;\n",
              "      border: none;\n",
              "      border-radius: 50%;\n",
              "      cursor: pointer;\n",
              "      display: none;\n",
              "      fill: #1967D2;\n",
              "      height: 32px;\n",
              "      padding: 0 0 0 0;\n",
              "      width: 32px;\n",
              "    }\n",
              "\n",
              "    .colab-df-convert:hover {\n",
              "      background-color: #E2EBFA;\n",
              "      box-shadow: 0px 1px 2px rgba(60, 64, 67, 0.3), 0px 1px 3px 1px rgba(60, 64, 67, 0.15);\n",
              "      fill: #174EA6;\n",
              "    }\n",
              "\n",
              "    [theme=dark] .colab-df-convert {\n",
              "      background-color: #3B4455;\n",
              "      fill: #D2E3FC;\n",
              "    }\n",
              "\n",
              "    [theme=dark] .colab-df-convert:hover {\n",
              "      background-color: #434B5C;\n",
              "      box-shadow: 0px 1px 3px 1px rgba(0, 0, 0, 0.15);\n",
              "      filter: drop-shadow(0px 1px 2px rgba(0, 0, 0, 0.3));\n",
              "      fill: #FFFFFF;\n",
              "    }\n",
              "  </style>\n",
              "\n",
              "      <script>\n",
              "        const buttonEl =\n",
              "          document.querySelector('#df-66afc9b8-687f-41bd-8188-d6287e5150a8 button.colab-df-convert');\n",
              "        buttonEl.style.display =\n",
              "          google.colab.kernel.accessAllowed ? 'block' : 'none';\n",
              "\n",
              "        async function convertToInteractive(key) {\n",
              "          const element = document.querySelector('#df-66afc9b8-687f-41bd-8188-d6287e5150a8');\n",
              "          const dataTable =\n",
              "            await google.colab.kernel.invokeFunction('convertToInteractive',\n",
              "                                                     [key], {});\n",
              "          if (!dataTable) return;\n",
              "\n",
              "          const docLinkHtml = 'Like what you see? Visit the ' +\n",
              "            '<a target=\"_blank\" href=https://colab.research.google.com/notebooks/data_table.ipynb>data table notebook</a>'\n",
              "            + ' to learn more about interactive tables.';\n",
              "          element.innerHTML = '';\n",
              "          dataTable['output_type'] = 'display_data';\n",
              "          await google.colab.output.renderOutput(dataTable, element);\n",
              "          const docLink = document.createElement('div');\n",
              "          docLink.innerHTML = docLinkHtml;\n",
              "          element.appendChild(docLink);\n",
              "        }\n",
              "      </script>\n",
              "    </div>\n",
              "  </div>\n",
              "  "
            ],
            "text/plain": [
              "    ID       Date           District Province  Hsdieuchinh      Type_of_house  \\\n",
              "0  0.0 2022-09-24  Thành phố Thủ Đức      HCM          2.1       Nhà mặt tiền   \n",
              "1  1.0 2022-09-24  Thành phố Thủ Đức      HCM          2.1       Nhà mặt tiền   \n",
              "2  2.0 2022-09-24  Thành phố Thủ Đức      HCM          2.1       Nhà mặt tiền   \n",
              "3  3.0 2022-09-24      Huyện Hóc Môn      HCM          1.9  Đất thổ cư, đất ở   \n",
              "4  4.0 2022-09-24  Thành phố Thủ Đức      HCM          2.1       Nhà mặt tiền   \n",
              "\n",
              "  Legal_paper   WOS WOS_Segment Direction   Area  Length  Width  Rooms  \\\n",
              "0          No   7.0     Dưới 10       NaN   65.0    15.5   4.15    4.0   \n",
              "1         Yes  14.0      10-15m       NaN   87.0    21.0   4.10    8.0   \n",
              "2         Yes   8.0     Dưới 10       NaN   80.0    16.0   5.00    4.0   \n",
              "3         Yes   6.0     Dưới 10  Đông Nam  100.0    25.0   4.00    0.0   \n",
              "4         Yes   8.0     Dưới 10   Tây Bắc   58.0    15.0   4.00    4.0   \n",
              "\n",
              "   Floors      Price                                            Address  \\\n",
              "0     3.0    6.55 tỷ   Đường Số 10, Phường Hiệp Bình Phước, Thành ph...   \n",
              "1     5.0    14.7 tỷ   Đường Gò Dưa, Phường Tam Bình, Thành phố Thủ ...   \n",
              "2     4.0     7.2 tỷ   Đường Số 8, Phường Hiệp Bình Chánh, Thành phố...   \n",
              "3     0.0  480 triệu   Đường Nguyễn Văn Bứa, Xã Xuân Thới Sơn, Huyện...   \n",
              "4     4.0     8.2 tỷ   Quốc Lộ 13, Phường Hiệp Bình Phước, Thành phố...   \n",
              "\n",
              "   Weight  \n",
              "0     3.0  \n",
              "1     2.0  \n",
              "2     2.0  \n",
              "3     2.0  \n",
              "4     2.0  "
            ]
          },
          "execution_count": 6,
          "metadata": {},
          "output_type": "execute_result"
        }
      ],
      "source": [
        "df3.head()"
      ]
    },
    {
      "cell_type": "code",
      "execution_count": null,
      "metadata": {
        "id": "kviL8FV021Fw"
      },
      "outputs": [],
      "source": [
        "df = df3.copy()"
      ]
    },
    {
      "cell_type": "code",
      "execution_count": null,
      "metadata": {
        "colab": {
          "base_uri": "https://localhost:8080/"
        },
        "id": "35wbQB4mhPEE",
        "outputId": "ea9fba68-c247-462d-cf15-4134159a2334"
      },
      "outputs": [
        {
          "name": "stdout",
          "output_type": "stream",
          "text": [
            "<class 'pandas.core.frame.DataFrame'>\n",
            "Int64Index: 27004 entries, 0 to 7023\n",
            "Data columns (total 18 columns):\n",
            " #   Column         Non-Null Count  Dtype         \n",
            "---  ------         --------------  -----         \n",
            " 0   ID             27004 non-null  float64       \n",
            " 1   Date           27004 non-null  datetime64[ns]\n",
            " 2   District       27004 non-null  object        \n",
            " 3   Province       27004 non-null  object        \n",
            " 4   Hsdieuchinh    27004 non-null  float64       \n",
            " 5   Type_of_house  27004 non-null  object        \n",
            " 6   Legal_paper    27004 non-null  object        \n",
            " 7   WOS            27004 non-null  float64       \n",
            " 8   WOS_Segment    27004 non-null  object        \n",
            " 9   Direction      3074 non-null   object        \n",
            " 10  Area           26987 non-null  float64       \n",
            " 11  Length         20939 non-null  float64       \n",
            " 12  Width          21622 non-null  float64       \n",
            " 13  Rooms          23699 non-null  float64       \n",
            " 14  Floors         21779 non-null  float64       \n",
            " 15  Price          26989 non-null  object        \n",
            " 16  Address        27004 non-null  object        \n",
            " 17  Weight         27004 non-null  float64       \n",
            "dtypes: datetime64[ns](1), float64(9), object(8)\n",
            "memory usage: 3.9+ MB\n"
          ]
        }
      ],
      "source": [
        "df.info()"
      ]
    },
    {
      "cell_type": "code",
      "execution_count": null,
      "metadata": {
        "colab": {
          "base_uri": "https://localhost:8080/",
          "height": 877
        },
        "id": "OycQFdQ8EGlw",
        "outputId": "0ce1197b-a1c9-4bc3-e5d4-4fab19f7a8cf"
      },
      "outputs": [
        {
          "data": {
            "text/html": [
              "\n",
              "  <div id=\"df-bb5d7a41-7026-4b0a-99df-65380dcad2be\">\n",
              "    <div class=\"colab-df-container\">\n",
              "      <div>\n",
              "<style scoped>\n",
              "    .dataframe tbody tr th:only-of-type {\n",
              "        vertical-align: middle;\n",
              "    }\n",
              "\n",
              "    .dataframe tbody tr th {\n",
              "        vertical-align: top;\n",
              "    }\n",
              "\n",
              "    .dataframe thead th {\n",
              "        text-align: right;\n",
              "    }\n",
              "</style>\n",
              "<table border=\"1\" class=\"dataframe\">\n",
              "  <thead>\n",
              "    <tr style=\"text-align: right;\">\n",
              "      <th></th>\n",
              "      <th>ID</th>\n",
              "      <th>Date</th>\n",
              "      <th>District</th>\n",
              "      <th>Province</th>\n",
              "      <th>Hsdieuchinh</th>\n",
              "      <th>Type_of_house</th>\n",
              "      <th>Legal_paper</th>\n",
              "      <th>WOS</th>\n",
              "      <th>WOS_Segment</th>\n",
              "      <th>Direction</th>\n",
              "      <th>Area</th>\n",
              "      <th>Length</th>\n",
              "      <th>Width</th>\n",
              "      <th>Rooms</th>\n",
              "      <th>Floors</th>\n",
              "      <th>Price</th>\n",
              "      <th>Address</th>\n",
              "      <th>Weight</th>\n",
              "    </tr>\n",
              "  </thead>\n",
              "  <tbody>\n",
              "    <tr>\n",
              "      <th>7019</th>\n",
              "      <td>26999.0</td>\n",
              "      <td>2022-09-14</td>\n",
              "      <td>Quận 1</td>\n",
              "      <td>HCM</td>\n",
              "      <td>2.5</td>\n",
              "      <td>Văn phòng</td>\n",
              "      <td>No</td>\n",
              "      <td>14.45</td>\n",
              "      <td>10-15m</td>\n",
              "      <td>NaN</td>\n",
              "      <td>231.0</td>\n",
              "      <td>NaN</td>\n",
              "      <td>NaN</td>\n",
              "      <td>NaN</td>\n",
              "      <td>NaN</td>\n",
              "      <td>112 tỷ</td>\n",
              "      <td>Đường Nguyễn Công Trứ, Phường Nguyễn Thái Bìn...</td>\n",
              "      <td>4.0</td>\n",
              "    </tr>\n",
              "    <tr>\n",
              "      <th>7020</th>\n",
              "      <td>27000.0</td>\n",
              "      <td>2022-09-09</td>\n",
              "      <td>Huyện Nhà Bè</td>\n",
              "      <td>HCM</td>\n",
              "      <td>1.9</td>\n",
              "      <td>Văn phòng</td>\n",
              "      <td>No</td>\n",
              "      <td>14.45</td>\n",
              "      <td>10-15m</td>\n",
              "      <td>NaN</td>\n",
              "      <td>40.0</td>\n",
              "      <td>NaN</td>\n",
              "      <td>NaN</td>\n",
              "      <td>NaN</td>\n",
              "      <td>NaN</td>\n",
              "      <td>1.9 tỷ</td>\n",
              "      <td>Đường Nguyễn Hữu Thọ, Xã Phước Lộc, Huyện Nhà...</td>\n",
              "      <td>2.0</td>\n",
              "    </tr>\n",
              "    <tr>\n",
              "      <th>7021</th>\n",
              "      <td>27001.0</td>\n",
              "      <td>2022-09-05</td>\n",
              "      <td>Quận Bình Thạnh</td>\n",
              "      <td>HCM</td>\n",
              "      <td>2.3</td>\n",
              "      <td>Văn phòng</td>\n",
              "      <td>Yes</td>\n",
              "      <td>30.00</td>\n",
              "      <td>30-40m</td>\n",
              "      <td>NaN</td>\n",
              "      <td>196.0</td>\n",
              "      <td>NaN</td>\n",
              "      <td>NaN</td>\n",
              "      <td>10.0</td>\n",
              "      <td>8.0</td>\n",
              "      <td>55 tỷ</td>\n",
              "      <td>Đường Điện Biên Phủ, Phường 25, Quận Bình Thạ...</td>\n",
              "      <td>4.0</td>\n",
              "    </tr>\n",
              "    <tr>\n",
              "      <th>7022</th>\n",
              "      <td>27002.0</td>\n",
              "      <td>2022-08-29</td>\n",
              "      <td>Thành phố Thủ Đức</td>\n",
              "      <td>HCM</td>\n",
              "      <td>2.1</td>\n",
              "      <td>Văn phòng</td>\n",
              "      <td>No</td>\n",
              "      <td>12.00</td>\n",
              "      <td>10-15m</td>\n",
              "      <td>NaN</td>\n",
              "      <td>559.0</td>\n",
              "      <td>NaN</td>\n",
              "      <td>NaN</td>\n",
              "      <td>10.0</td>\n",
              "      <td>5.0</td>\n",
              "      <td>145 tỷ</td>\n",
              "      <td>Đường Lê Văn Miến, Phường Thảo Điền, Thành ph...</td>\n",
              "      <td>2.0</td>\n",
              "    </tr>\n",
              "    <tr>\n",
              "      <th>7023</th>\n",
              "      <td>27003.0</td>\n",
              "      <td>2022-08-21</td>\n",
              "      <td>Quận Tân Bình</td>\n",
              "      <td>HCM</td>\n",
              "      <td>2.5</td>\n",
              "      <td>Văn phòng</td>\n",
              "      <td>No</td>\n",
              "      <td>20.00</td>\n",
              "      <td>20-30m</td>\n",
              "      <td>NaN</td>\n",
              "      <td>845.0</td>\n",
              "      <td>17.0</td>\n",
              "      <td>7.1</td>\n",
              "      <td>7.0</td>\n",
              "      <td>7.0</td>\n",
              "      <td>35 tỷ</td>\n",
              "      <td>Đường Ba Vì, Phường 4, Quận Tân Bình, HCM</td>\n",
              "      <td>4.0</td>\n",
              "    </tr>\n",
              "  </tbody>\n",
              "</table>\n",
              "</div>\n",
              "      <button class=\"colab-df-convert\" onclick=\"convertToInteractive('df-bb5d7a41-7026-4b0a-99df-65380dcad2be')\"\n",
              "              title=\"Convert this dataframe to an interactive table.\"\n",
              "              style=\"display:none;\">\n",
              "        \n",
              "  <svg xmlns=\"http://www.w3.org/2000/svg\" height=\"24px\"viewBox=\"0 0 24 24\"\n",
              "       width=\"24px\">\n",
              "    <path d=\"M0 0h24v24H0V0z\" fill=\"none\"/>\n",
              "    <path d=\"M18.56 5.44l.94 2.06.94-2.06 2.06-.94-2.06-.94-.94-2.06-.94 2.06-2.06.94zm-11 1L8.5 8.5l.94-2.06 2.06-.94-2.06-.94L8.5 2.5l-.94 2.06-2.06.94zm10 10l.94 2.06.94-2.06 2.06-.94-2.06-.94-.94-2.06-.94 2.06-2.06.94z\"/><path d=\"M17.41 7.96l-1.37-1.37c-.4-.4-.92-.59-1.43-.59-.52 0-1.04.2-1.43.59L10.3 9.45l-7.72 7.72c-.78.78-.78 2.05 0 2.83L4 21.41c.39.39.9.59 1.41.59.51 0 1.02-.2 1.41-.59l7.78-7.78 2.81-2.81c.8-.78.8-2.07 0-2.86zM5.41 20L4 18.59l7.72-7.72 1.47 1.35L5.41 20z\"/>\n",
              "  </svg>\n",
              "      </button>\n",
              "      \n",
              "  <style>\n",
              "    .colab-df-container {\n",
              "      display:flex;\n",
              "      flex-wrap:wrap;\n",
              "      gap: 12px;\n",
              "    }\n",
              "\n",
              "    .colab-df-convert {\n",
              "      background-color: #E8F0FE;\n",
              "      border: none;\n",
              "      border-radius: 50%;\n",
              "      cursor: pointer;\n",
              "      display: none;\n",
              "      fill: #1967D2;\n",
              "      height: 32px;\n",
              "      padding: 0 0 0 0;\n",
              "      width: 32px;\n",
              "    }\n",
              "\n",
              "    .colab-df-convert:hover {\n",
              "      background-color: #E2EBFA;\n",
              "      box-shadow: 0px 1px 2px rgba(60, 64, 67, 0.3), 0px 1px 3px 1px rgba(60, 64, 67, 0.15);\n",
              "      fill: #174EA6;\n",
              "    }\n",
              "\n",
              "    [theme=dark] .colab-df-convert {\n",
              "      background-color: #3B4455;\n",
              "      fill: #D2E3FC;\n",
              "    }\n",
              "\n",
              "    [theme=dark] .colab-df-convert:hover {\n",
              "      background-color: #434B5C;\n",
              "      box-shadow: 0px 1px 3px 1px rgba(0, 0, 0, 0.15);\n",
              "      filter: drop-shadow(0px 1px 2px rgba(0, 0, 0, 0.3));\n",
              "      fill: #FFFFFF;\n",
              "    }\n",
              "  </style>\n",
              "\n",
              "      <script>\n",
              "        const buttonEl =\n",
              "          document.querySelector('#df-bb5d7a41-7026-4b0a-99df-65380dcad2be button.colab-df-convert');\n",
              "        buttonEl.style.display =\n",
              "          google.colab.kernel.accessAllowed ? 'block' : 'none';\n",
              "\n",
              "        async function convertToInteractive(key) {\n",
              "          const element = document.querySelector('#df-bb5d7a41-7026-4b0a-99df-65380dcad2be');\n",
              "          const dataTable =\n",
              "            await google.colab.kernel.invokeFunction('convertToInteractive',\n",
              "                                                     [key], {});\n",
              "          if (!dataTable) return;\n",
              "\n",
              "          const docLinkHtml = 'Like what you see? Visit the ' +\n",
              "            '<a target=\"_blank\" href=https://colab.research.google.com/notebooks/data_table.ipynb>data table notebook</a>'\n",
              "            + ' to learn more about interactive tables.';\n",
              "          element.innerHTML = '';\n",
              "          dataTable['output_type'] = 'display_data';\n",
              "          await google.colab.output.renderOutput(dataTable, element);\n",
              "          const docLink = document.createElement('div');\n",
              "          docLink.innerHTML = docLinkHtml;\n",
              "          element.appendChild(docLink);\n",
              "        }\n",
              "      </script>\n",
              "    </div>\n",
              "  </div>\n",
              "  "
            ],
            "text/plain": [
              "           ID       Date           District Province  Hsdieuchinh  \\\n",
              "7019  26999.0 2022-09-14             Quận 1      HCM          2.5   \n",
              "7020  27000.0 2022-09-09       Huyện Nhà Bè      HCM          1.9   \n",
              "7021  27001.0 2022-09-05    Quận Bình Thạnh      HCM          2.3   \n",
              "7022  27002.0 2022-08-29  Thành phố Thủ Đức      HCM          2.1   \n",
              "7023  27003.0 2022-08-21      Quận Tân Bình      HCM          2.5   \n",
              "\n",
              "     Type_of_house Legal_paper    WOS WOS_Segment Direction   Area  Length  \\\n",
              "7019     Văn phòng          No  14.45      10-15m       NaN  231.0     NaN   \n",
              "7020     Văn phòng          No  14.45      10-15m       NaN   40.0     NaN   \n",
              "7021     Văn phòng         Yes  30.00      30-40m       NaN  196.0     NaN   \n",
              "7022     Văn phòng          No  12.00      10-15m       NaN  559.0     NaN   \n",
              "7023     Văn phòng          No  20.00      20-30m       NaN  845.0    17.0   \n",
              "\n",
              "      Width  Rooms  Floors     Price  \\\n",
              "7019    NaN    NaN     NaN    112 tỷ   \n",
              "7020    NaN    NaN     NaN   1.9 tỷ    \n",
              "7021    NaN   10.0     8.0     55 tỷ   \n",
              "7022    NaN   10.0     5.0    145 tỷ   \n",
              "7023    7.1    7.0     7.0     35 tỷ   \n",
              "\n",
              "                                                Address  Weight  \n",
              "7019   Đường Nguyễn Công Trứ, Phường Nguyễn Thái Bìn...     4.0  \n",
              "7020   Đường Nguyễn Hữu Thọ, Xã Phước Lộc, Huyện Nhà...     2.0  \n",
              "7021   Đường Điện Biên Phủ, Phường 25, Quận Bình Thạ...     4.0  \n",
              "7022   Đường Lê Văn Miến, Phường Thảo Điền, Thành ph...     2.0  \n",
              "7023          Đường Ba Vì, Phường 4, Quận Tân Bình, HCM     4.0  "
            ]
          },
          "execution_count": 9,
          "metadata": {},
          "output_type": "execute_result"
        }
      ],
      "source": [
        "df.tail()"
      ]
    },
    {
      "cell_type": "code",
      "execution_count": null,
      "metadata": {
        "id": "48NyfZMswIw1"
      },
      "outputs": [],
      "source": [
        "df = df.drop(['Direction'], axis=1)"
      ]
    },
    {
      "cell_type": "markdown",
      "metadata": {
        "id": "8BS8aT8Tg5PN"
      },
      "source": [
        "##**Let's do some statistics**"
      ]
    },
    {
      "cell_type": "code",
      "execution_count": null,
      "metadata": {
        "colab": {
          "base_uri": "https://localhost:8080/",
          "height": 300
        },
        "id": "Hgo0EN0Nak5g",
        "outputId": "e8755e15-440f-4943-ba62-081cf0573385"
      },
      "outputs": [
        {
          "data": {
            "text/html": [
              "\n",
              "  <div id=\"df-a15a56ab-9491-40f3-b739-d8063667c21b\">\n",
              "    <div class=\"colab-df-container\">\n",
              "      <div>\n",
              "<style scoped>\n",
              "    .dataframe tbody tr th:only-of-type {\n",
              "        vertical-align: middle;\n",
              "    }\n",
              "\n",
              "    .dataframe tbody tr th {\n",
              "        vertical-align: top;\n",
              "    }\n",
              "\n",
              "    .dataframe thead th {\n",
              "        text-align: right;\n",
              "    }\n",
              "</style>\n",
              "<table border=\"1\" class=\"dataframe\">\n",
              "  <thead>\n",
              "    <tr style=\"text-align: right;\">\n",
              "      <th></th>\n",
              "      <th>ID</th>\n",
              "      <th>Hsdieuchinh</th>\n",
              "      <th>WOS</th>\n",
              "      <th>Area</th>\n",
              "      <th>Length</th>\n",
              "      <th>Width</th>\n",
              "      <th>Rooms</th>\n",
              "      <th>Floors</th>\n",
              "      <th>Weight</th>\n",
              "    </tr>\n",
              "  </thead>\n",
              "  <tbody>\n",
              "    <tr>\n",
              "      <th>count</th>\n",
              "      <td>27004.000000</td>\n",
              "      <td>27004.000000</td>\n",
              "      <td>27004.000000</td>\n",
              "      <td>2.698700e+04</td>\n",
              "      <td>20939.000000</td>\n",
              "      <td>21622.000000</td>\n",
              "      <td>23699.000000</td>\n",
              "      <td>21779.000000</td>\n",
              "      <td>27004.000000</td>\n",
              "    </tr>\n",
              "    <tr>\n",
              "      <th>mean</th>\n",
              "      <td>13501.500000</td>\n",
              "      <td>2.283906</td>\n",
              "      <td>11.274934</td>\n",
              "      <td>4.832645e+02</td>\n",
              "      <td>19.413970</td>\n",
              "      <td>7.731309</td>\n",
              "      <td>6.568421</td>\n",
              "      <td>3.161164</td>\n",
              "      <td>3.553585</td>\n",
              "    </tr>\n",
              "    <tr>\n",
              "      <th>std</th>\n",
              "      <td>7795.527671</td>\n",
              "      <td>0.192155</td>\n",
              "      <td>9.360062</td>\n",
              "      <td>9.950696e+03</td>\n",
              "      <td>50.880722</td>\n",
              "      <td>12.763597</td>\n",
              "      <td>12.380661</td>\n",
              "      <td>2.310047</td>\n",
              "      <td>1.120478</td>\n",
              "    </tr>\n",
              "    <tr>\n",
              "      <th>min</th>\n",
              "      <td>0.000000</td>\n",
              "      <td>1.700000</td>\n",
              "      <td>0.000000</td>\n",
              "      <td>4.000000e+00</td>\n",
              "      <td>1.000000</td>\n",
              "      <td>1.000000</td>\n",
              "      <td>0.000000</td>\n",
              "      <td>0.000000</td>\n",
              "      <td>1.000000</td>\n",
              "    </tr>\n",
              "    <tr>\n",
              "      <th>25%</th>\n",
              "      <td>6750.750000</td>\n",
              "      <td>2.100000</td>\n",
              "      <td>5.000000</td>\n",
              "      <td>6.200000e+01</td>\n",
              "      <td>11.000000</td>\n",
              "      <td>4.000000</td>\n",
              "      <td>2.000000</td>\n",
              "      <td>2.000000</td>\n",
              "      <td>3.000000</td>\n",
              "    </tr>\n",
              "    <tr>\n",
              "      <th>50%</th>\n",
              "      <td>13501.500000</td>\n",
              "      <td>2.300000</td>\n",
              "      <td>8.000000</td>\n",
              "      <td>9.000000e+01</td>\n",
              "      <td>16.000000</td>\n",
              "      <td>5.000000</td>\n",
              "      <td>4.000000</td>\n",
              "      <td>3.000000</td>\n",
              "      <td>4.000000</td>\n",
              "    </tr>\n",
              "    <tr>\n",
              "      <th>75%</th>\n",
              "      <td>20252.250000</td>\n",
              "      <td>2.500000</td>\n",
              "      <td>14.450000</td>\n",
              "      <td>1.690000e+02</td>\n",
              "      <td>22.000000</td>\n",
              "      <td>7.500000</td>\n",
              "      <td>6.000000</td>\n",
              "      <td>4.000000</td>\n",
              "      <td>4.000000</td>\n",
              "    </tr>\n",
              "    <tr>\n",
              "      <th>max</th>\n",
              "      <td>27003.000000</td>\n",
              "      <td>2.500000</td>\n",
              "      <td>375.000000</td>\n",
              "      <td>1.540000e+06</td>\n",
              "      <td>6000.000000</td>\n",
              "      <td>522.000000</td>\n",
              "      <td>414.000000</td>\n",
              "      <td>75.000000</td>\n",
              "      <td>5.000000</td>\n",
              "    </tr>\n",
              "  </tbody>\n",
              "</table>\n",
              "</div>\n",
              "      <button class=\"colab-df-convert\" onclick=\"convertToInteractive('df-a15a56ab-9491-40f3-b739-d8063667c21b')\"\n",
              "              title=\"Convert this dataframe to an interactive table.\"\n",
              "              style=\"display:none;\">\n",
              "        \n",
              "  <svg xmlns=\"http://www.w3.org/2000/svg\" height=\"24px\"viewBox=\"0 0 24 24\"\n",
              "       width=\"24px\">\n",
              "    <path d=\"M0 0h24v24H0V0z\" fill=\"none\"/>\n",
              "    <path d=\"M18.56 5.44l.94 2.06.94-2.06 2.06-.94-2.06-.94-.94-2.06-.94 2.06-2.06.94zm-11 1L8.5 8.5l.94-2.06 2.06-.94-2.06-.94L8.5 2.5l-.94 2.06-2.06.94zm10 10l.94 2.06.94-2.06 2.06-.94-2.06-.94-.94-2.06-.94 2.06-2.06.94z\"/><path d=\"M17.41 7.96l-1.37-1.37c-.4-.4-.92-.59-1.43-.59-.52 0-1.04.2-1.43.59L10.3 9.45l-7.72 7.72c-.78.78-.78 2.05 0 2.83L4 21.41c.39.39.9.59 1.41.59.51 0 1.02-.2 1.41-.59l7.78-7.78 2.81-2.81c.8-.78.8-2.07 0-2.86zM5.41 20L4 18.59l7.72-7.72 1.47 1.35L5.41 20z\"/>\n",
              "  </svg>\n",
              "      </button>\n",
              "      \n",
              "  <style>\n",
              "    .colab-df-container {\n",
              "      display:flex;\n",
              "      flex-wrap:wrap;\n",
              "      gap: 12px;\n",
              "    }\n",
              "\n",
              "    .colab-df-convert {\n",
              "      background-color: #E8F0FE;\n",
              "      border: none;\n",
              "      border-radius: 50%;\n",
              "      cursor: pointer;\n",
              "      display: none;\n",
              "      fill: #1967D2;\n",
              "      height: 32px;\n",
              "      padding: 0 0 0 0;\n",
              "      width: 32px;\n",
              "    }\n",
              "\n",
              "    .colab-df-convert:hover {\n",
              "      background-color: #E2EBFA;\n",
              "      box-shadow: 0px 1px 2px rgba(60, 64, 67, 0.3), 0px 1px 3px 1px rgba(60, 64, 67, 0.15);\n",
              "      fill: #174EA6;\n",
              "    }\n",
              "\n",
              "    [theme=dark] .colab-df-convert {\n",
              "      background-color: #3B4455;\n",
              "      fill: #D2E3FC;\n",
              "    }\n",
              "\n",
              "    [theme=dark] .colab-df-convert:hover {\n",
              "      background-color: #434B5C;\n",
              "      box-shadow: 0px 1px 3px 1px rgba(0, 0, 0, 0.15);\n",
              "      filter: drop-shadow(0px 1px 2px rgba(0, 0, 0, 0.3));\n",
              "      fill: #FFFFFF;\n",
              "    }\n",
              "  </style>\n",
              "\n",
              "      <script>\n",
              "        const buttonEl =\n",
              "          document.querySelector('#df-a15a56ab-9491-40f3-b739-d8063667c21b button.colab-df-convert');\n",
              "        buttonEl.style.display =\n",
              "          google.colab.kernel.accessAllowed ? 'block' : 'none';\n",
              "\n",
              "        async function convertToInteractive(key) {\n",
              "          const element = document.querySelector('#df-a15a56ab-9491-40f3-b739-d8063667c21b');\n",
              "          const dataTable =\n",
              "            await google.colab.kernel.invokeFunction('convertToInteractive',\n",
              "                                                     [key], {});\n",
              "          if (!dataTable) return;\n",
              "\n",
              "          const docLinkHtml = 'Like what you see? Visit the ' +\n",
              "            '<a target=\"_blank\" href=https://colab.research.google.com/notebooks/data_table.ipynb>data table notebook</a>'\n",
              "            + ' to learn more about interactive tables.';\n",
              "          element.innerHTML = '';\n",
              "          dataTable['output_type'] = 'display_data';\n",
              "          await google.colab.output.renderOutput(dataTable, element);\n",
              "          const docLink = document.createElement('div');\n",
              "          docLink.innerHTML = docLinkHtml;\n",
              "          element.appendChild(docLink);\n",
              "        }\n",
              "      </script>\n",
              "    </div>\n",
              "  </div>\n",
              "  "
            ],
            "text/plain": [
              "                 ID   Hsdieuchinh           WOS          Area        Length  \\\n",
              "count  27004.000000  27004.000000  27004.000000  2.698700e+04  20939.000000   \n",
              "mean   13501.500000      2.283906     11.274934  4.832645e+02     19.413970   \n",
              "std     7795.527671      0.192155      9.360062  9.950696e+03     50.880722   \n",
              "min        0.000000      1.700000      0.000000  4.000000e+00      1.000000   \n",
              "25%     6750.750000      2.100000      5.000000  6.200000e+01     11.000000   \n",
              "50%    13501.500000      2.300000      8.000000  9.000000e+01     16.000000   \n",
              "75%    20252.250000      2.500000     14.450000  1.690000e+02     22.000000   \n",
              "max    27003.000000      2.500000    375.000000  1.540000e+06   6000.000000   \n",
              "\n",
              "              Width         Rooms        Floors        Weight  \n",
              "count  21622.000000  23699.000000  21779.000000  27004.000000  \n",
              "mean       7.731309      6.568421      3.161164      3.553585  \n",
              "std       12.763597     12.380661      2.310047      1.120478  \n",
              "min        1.000000      0.000000      0.000000      1.000000  \n",
              "25%        4.000000      2.000000      2.000000      3.000000  \n",
              "50%        5.000000      4.000000      3.000000      4.000000  \n",
              "75%        7.500000      6.000000      4.000000      4.000000  \n",
              "max      522.000000    414.000000     75.000000      5.000000  "
            ]
          },
          "execution_count": 11,
          "metadata": {},
          "output_type": "execute_result"
        }
      ],
      "source": [
        "df.describe()"
      ]
    },
    {
      "cell_type": "markdown",
      "metadata": {
        "id": "9pmOMGwstqkB"
      },
      "source": [
        "#**Step3: Cleaning data**"
      ]
    },
    {
      "cell_type": "code",
      "execution_count": null,
      "metadata": {
        "id": "PXCRuXnqFvuZ"
      },
      "outputs": [],
      "source": [
        "df = df.drop(['ID'], axis=1)"
      ]
    },
    {
      "cell_type": "code",
      "execution_count": null,
      "metadata": {
        "id": "G6pi9fl1F9UQ"
      },
      "outputs": [],
      "source": [
        "df = df.drop_duplicates()"
      ]
    },
    {
      "cell_type": "code",
      "execution_count": null,
      "metadata": {
        "colab": {
          "base_uri": "https://localhost:8080/"
        },
        "id": "SquKMAKdGCPQ",
        "outputId": "b7625e16-e9fa-4769-fa0f-46a7363b2d2d"
      },
      "outputs": [
        {
          "name": "stdout",
          "output_type": "stream",
          "text": [
            "<class 'pandas.core.frame.DataFrame'>\n",
            "Int64Index: 25524 entries, 0 to 7023\n",
            "Data columns (total 16 columns):\n",
            " #   Column         Non-Null Count  Dtype         \n",
            "---  ------         --------------  -----         \n",
            " 0   Date           25524 non-null  datetime64[ns]\n",
            " 1   District       25524 non-null  object        \n",
            " 2   Province       25524 non-null  object        \n",
            " 3   Hsdieuchinh    25524 non-null  float64       \n",
            " 4   Type_of_house  25524 non-null  object        \n",
            " 5   Legal_paper    25524 non-null  object        \n",
            " 6   WOS            25524 non-null  float64       \n",
            " 7   WOS_Segment    25524 non-null  object        \n",
            " 8   Area           25509 non-null  float64       \n",
            " 9   Length         19780 non-null  float64       \n",
            " 10  Width          20409 non-null  float64       \n",
            " 11  Rooms          22258 non-null  float64       \n",
            " 12  Floors         20361 non-null  float64       \n",
            " 13  Price          25510 non-null  object        \n",
            " 14  Address        25524 non-null  object        \n",
            " 15  Weight         25524 non-null  float64       \n",
            "dtypes: datetime64[ns](1), float64(8), object(7)\n",
            "memory usage: 3.3+ MB\n"
          ]
        }
      ],
      "source": [
        "df.info()"
      ]
    },
    {
      "cell_type": "code",
      "execution_count": null,
      "metadata": {
        "id": "TorCtR3jfEOl"
      },
      "outputs": [],
      "source": [
        "# df_renamed = df.rename(columns = {\n",
        "#                                   \"Quận. Huyện\":\"district\",\n",
        "#                                   \"Ngày\":\"Date\",\n",
        "#                                   \"Tỉnh\":\"province\",\n",
        "#                                   \"LoạiBDS\":\"type_of_housing\",\n",
        "#                                   \"Pháplý\":\"legal_paper\",\n",
        "#                                   \"Đườngtrướcnhà\": \"Wide_of_street\",\n",
        "#                                   \"Hướng\": \"Direction\",\n",
        "#                                   \"Số lầu\":\"num_floors\",\n",
        "#                                   \"Số phòng\":\"num_bed_rooms\",\n",
        "#                                   \"Dientich\":\"squared_meter_area\",\n",
        "#                                   \"Dài\":\"length_meter\", \n",
        "#                                   \"Rộng\":\"width_meter\", \n",
        "#                                   \"Trọngsố\":\"weight\",\n",
        "#                                   \"Giá\":\"price\"})\n",
        "#df = df.dropna()\n",
        "#df.reset_index()\n",
        "\n",
        "# # The length of the dataset after dropping null values\n",
        "#print(\"The length of the dataset \", str(len(df)), \"rows.\")"
      ]
    },
    {
      "cell_type": "code",
      "execution_count": null,
      "metadata": {
        "colab": {
          "base_uri": "https://localhost:8080/",
          "height": 877
        },
        "id": "7J8obpxDso5z",
        "outputId": "3b63b721-6585-4c8e-8bea-81b0f02e1c33"
      },
      "outputs": [
        {
          "data": {
            "text/html": [
              "\n",
              "  <div id=\"df-99064c3a-2876-4246-a23b-0b1382331eb8\">\n",
              "    <div class=\"colab-df-container\">\n",
              "      <div>\n",
              "<style scoped>\n",
              "    .dataframe tbody tr th:only-of-type {\n",
              "        vertical-align: middle;\n",
              "    }\n",
              "\n",
              "    .dataframe tbody tr th {\n",
              "        vertical-align: top;\n",
              "    }\n",
              "\n",
              "    .dataframe thead th {\n",
              "        text-align: right;\n",
              "    }\n",
              "</style>\n",
              "<table border=\"1\" class=\"dataframe\">\n",
              "  <thead>\n",
              "    <tr style=\"text-align: right;\">\n",
              "      <th></th>\n",
              "      <th>Date</th>\n",
              "      <th>District</th>\n",
              "      <th>Province</th>\n",
              "      <th>Hsdieuchinh</th>\n",
              "      <th>Type_of_house</th>\n",
              "      <th>Legal_paper</th>\n",
              "      <th>WOS</th>\n",
              "      <th>WOS_Segment</th>\n",
              "      <th>Area</th>\n",
              "      <th>Length</th>\n",
              "      <th>Width</th>\n",
              "      <th>Rooms</th>\n",
              "      <th>Floors</th>\n",
              "      <th>Price</th>\n",
              "      <th>Address</th>\n",
              "      <th>Weight</th>\n",
              "    </tr>\n",
              "  </thead>\n",
              "  <tbody>\n",
              "    <tr>\n",
              "      <th>0</th>\n",
              "      <td>2022-09-24</td>\n",
              "      <td>Thành phố Thủ Đức</td>\n",
              "      <td>HCM</td>\n",
              "      <td>2.1</td>\n",
              "      <td>Nhà mặt tiền</td>\n",
              "      <td>No</td>\n",
              "      <td>7.0</td>\n",
              "      <td>Dưới 10</td>\n",
              "      <td>65.0</td>\n",
              "      <td>15.5</td>\n",
              "      <td>4.15</td>\n",
              "      <td>4.0</td>\n",
              "      <td>3.0</td>\n",
              "      <td>6.55 tỷ</td>\n",
              "      <td>Đường Số 10, Phường Hiệp Bình Phước, Thành ph...</td>\n",
              "      <td>3.0</td>\n",
              "    </tr>\n",
              "    <tr>\n",
              "      <th>1</th>\n",
              "      <td>2022-09-24</td>\n",
              "      <td>Thành phố Thủ Đức</td>\n",
              "      <td>HCM</td>\n",
              "      <td>2.1</td>\n",
              "      <td>Nhà mặt tiền</td>\n",
              "      <td>Yes</td>\n",
              "      <td>14.0</td>\n",
              "      <td>10-15m</td>\n",
              "      <td>87.0</td>\n",
              "      <td>21.0</td>\n",
              "      <td>4.10</td>\n",
              "      <td>8.0</td>\n",
              "      <td>5.0</td>\n",
              "      <td>14.7 tỷ</td>\n",
              "      <td>Đường Gò Dưa, Phường Tam Bình, Thành phố Thủ ...</td>\n",
              "      <td>2.0</td>\n",
              "    </tr>\n",
              "    <tr>\n",
              "      <th>2</th>\n",
              "      <td>2022-09-24</td>\n",
              "      <td>Thành phố Thủ Đức</td>\n",
              "      <td>HCM</td>\n",
              "      <td>2.1</td>\n",
              "      <td>Nhà mặt tiền</td>\n",
              "      <td>Yes</td>\n",
              "      <td>8.0</td>\n",
              "      <td>Dưới 10</td>\n",
              "      <td>80.0</td>\n",
              "      <td>16.0</td>\n",
              "      <td>5.00</td>\n",
              "      <td>4.0</td>\n",
              "      <td>4.0</td>\n",
              "      <td>7.2 tỷ</td>\n",
              "      <td>Đường Số 8, Phường Hiệp Bình Chánh, Thành phố...</td>\n",
              "      <td>2.0</td>\n",
              "    </tr>\n",
              "    <tr>\n",
              "      <th>3</th>\n",
              "      <td>2022-09-24</td>\n",
              "      <td>Huyện Hóc Môn</td>\n",
              "      <td>HCM</td>\n",
              "      <td>1.9</td>\n",
              "      <td>Đất thổ cư, đất ở</td>\n",
              "      <td>Yes</td>\n",
              "      <td>6.0</td>\n",
              "      <td>Dưới 10</td>\n",
              "      <td>100.0</td>\n",
              "      <td>25.0</td>\n",
              "      <td>4.00</td>\n",
              "      <td>0.0</td>\n",
              "      <td>0.0</td>\n",
              "      <td>480 triệu</td>\n",
              "      <td>Đường Nguyễn Văn Bứa, Xã Xuân Thới Sơn, Huyện...</td>\n",
              "      <td>2.0</td>\n",
              "    </tr>\n",
              "    <tr>\n",
              "      <th>4</th>\n",
              "      <td>2022-09-24</td>\n",
              "      <td>Thành phố Thủ Đức</td>\n",
              "      <td>HCM</td>\n",
              "      <td>2.1</td>\n",
              "      <td>Nhà mặt tiền</td>\n",
              "      <td>Yes</td>\n",
              "      <td>8.0</td>\n",
              "      <td>Dưới 10</td>\n",
              "      <td>58.0</td>\n",
              "      <td>15.0</td>\n",
              "      <td>4.00</td>\n",
              "      <td>4.0</td>\n",
              "      <td>4.0</td>\n",
              "      <td>8.2 tỷ</td>\n",
              "      <td>Quốc Lộ 13, Phường Hiệp Bình Phước, Thành phố...</td>\n",
              "      <td>2.0</td>\n",
              "    </tr>\n",
              "  </tbody>\n",
              "</table>\n",
              "</div>\n",
              "      <button class=\"colab-df-convert\" onclick=\"convertToInteractive('df-99064c3a-2876-4246-a23b-0b1382331eb8')\"\n",
              "              title=\"Convert this dataframe to an interactive table.\"\n",
              "              style=\"display:none;\">\n",
              "        \n",
              "  <svg xmlns=\"http://www.w3.org/2000/svg\" height=\"24px\"viewBox=\"0 0 24 24\"\n",
              "       width=\"24px\">\n",
              "    <path d=\"M0 0h24v24H0V0z\" fill=\"none\"/>\n",
              "    <path d=\"M18.56 5.44l.94 2.06.94-2.06 2.06-.94-2.06-.94-.94-2.06-.94 2.06-2.06.94zm-11 1L8.5 8.5l.94-2.06 2.06-.94-2.06-.94L8.5 2.5l-.94 2.06-2.06.94zm10 10l.94 2.06.94-2.06 2.06-.94-2.06-.94-.94-2.06-.94 2.06-2.06.94z\"/><path d=\"M17.41 7.96l-1.37-1.37c-.4-.4-.92-.59-1.43-.59-.52 0-1.04.2-1.43.59L10.3 9.45l-7.72 7.72c-.78.78-.78 2.05 0 2.83L4 21.41c.39.39.9.59 1.41.59.51 0 1.02-.2 1.41-.59l7.78-7.78 2.81-2.81c.8-.78.8-2.07 0-2.86zM5.41 20L4 18.59l7.72-7.72 1.47 1.35L5.41 20z\"/>\n",
              "  </svg>\n",
              "      </button>\n",
              "      \n",
              "  <style>\n",
              "    .colab-df-container {\n",
              "      display:flex;\n",
              "      flex-wrap:wrap;\n",
              "      gap: 12px;\n",
              "    }\n",
              "\n",
              "    .colab-df-convert {\n",
              "      background-color: #E8F0FE;\n",
              "      border: none;\n",
              "      border-radius: 50%;\n",
              "      cursor: pointer;\n",
              "      display: none;\n",
              "      fill: #1967D2;\n",
              "      height: 32px;\n",
              "      padding: 0 0 0 0;\n",
              "      width: 32px;\n",
              "    }\n",
              "\n",
              "    .colab-df-convert:hover {\n",
              "      background-color: #E2EBFA;\n",
              "      box-shadow: 0px 1px 2px rgba(60, 64, 67, 0.3), 0px 1px 3px 1px rgba(60, 64, 67, 0.15);\n",
              "      fill: #174EA6;\n",
              "    }\n",
              "\n",
              "    [theme=dark] .colab-df-convert {\n",
              "      background-color: #3B4455;\n",
              "      fill: #D2E3FC;\n",
              "    }\n",
              "\n",
              "    [theme=dark] .colab-df-convert:hover {\n",
              "      background-color: #434B5C;\n",
              "      box-shadow: 0px 1px 3px 1px rgba(0, 0, 0, 0.15);\n",
              "      filter: drop-shadow(0px 1px 2px rgba(0, 0, 0, 0.3));\n",
              "      fill: #FFFFFF;\n",
              "    }\n",
              "  </style>\n",
              "\n",
              "      <script>\n",
              "        const buttonEl =\n",
              "          document.querySelector('#df-99064c3a-2876-4246-a23b-0b1382331eb8 button.colab-df-convert');\n",
              "        buttonEl.style.display =\n",
              "          google.colab.kernel.accessAllowed ? 'block' : 'none';\n",
              "\n",
              "        async function convertToInteractive(key) {\n",
              "          const element = document.querySelector('#df-99064c3a-2876-4246-a23b-0b1382331eb8');\n",
              "          const dataTable =\n",
              "            await google.colab.kernel.invokeFunction('convertToInteractive',\n",
              "                                                     [key], {});\n",
              "          if (!dataTable) return;\n",
              "\n",
              "          const docLinkHtml = 'Like what you see? Visit the ' +\n",
              "            '<a target=\"_blank\" href=https://colab.research.google.com/notebooks/data_table.ipynb>data table notebook</a>'\n",
              "            + ' to learn more about interactive tables.';\n",
              "          element.innerHTML = '';\n",
              "          dataTable['output_type'] = 'display_data';\n",
              "          await google.colab.output.renderOutput(dataTable, element);\n",
              "          const docLink = document.createElement('div');\n",
              "          docLink.innerHTML = docLinkHtml;\n",
              "          element.appendChild(docLink);\n",
              "        }\n",
              "      </script>\n",
              "    </div>\n",
              "  </div>\n",
              "  "
            ],
            "text/plain": [
              "        Date           District Province  Hsdieuchinh      Type_of_house  \\\n",
              "0 2022-09-24  Thành phố Thủ Đức      HCM          2.1       Nhà mặt tiền   \n",
              "1 2022-09-24  Thành phố Thủ Đức      HCM          2.1       Nhà mặt tiền   \n",
              "2 2022-09-24  Thành phố Thủ Đức      HCM          2.1       Nhà mặt tiền   \n",
              "3 2022-09-24      Huyện Hóc Môn      HCM          1.9  Đất thổ cư, đất ở   \n",
              "4 2022-09-24  Thành phố Thủ Đức      HCM          2.1       Nhà mặt tiền   \n",
              "\n",
              "  Legal_paper   WOS WOS_Segment   Area  Length  Width  Rooms  Floors  \\\n",
              "0          No   7.0     Dưới 10   65.0    15.5   4.15    4.0     3.0   \n",
              "1         Yes  14.0      10-15m   87.0    21.0   4.10    8.0     5.0   \n",
              "2         Yes   8.0     Dưới 10   80.0    16.0   5.00    4.0     4.0   \n",
              "3         Yes   6.0     Dưới 10  100.0    25.0   4.00    0.0     0.0   \n",
              "4         Yes   8.0     Dưới 10   58.0    15.0   4.00    4.0     4.0   \n",
              "\n",
              "       Price                                            Address  Weight  \n",
              "0    6.55 tỷ   Đường Số 10, Phường Hiệp Bình Phước, Thành ph...     3.0  \n",
              "1    14.7 tỷ   Đường Gò Dưa, Phường Tam Bình, Thành phố Thủ ...     2.0  \n",
              "2     7.2 tỷ   Đường Số 8, Phường Hiệp Bình Chánh, Thành phố...     2.0  \n",
              "3  480 triệu   Đường Nguyễn Văn Bứa, Xã Xuân Thới Sơn, Huyện...     2.0  \n",
              "4     8.2 tỷ   Quốc Lộ 13, Phường Hiệp Bình Phước, Thành phố...     2.0  "
            ]
          },
          "execution_count": 16,
          "metadata": {},
          "output_type": "execute_result"
        }
      ],
      "source": [
        "df.head()"
      ]
    },
    {
      "cell_type": "markdown",
      "metadata": {
        "id": "ZODDOcgLvY_C"
      },
      "source": [
        "##**Cleaning data in each column**"
      ]
    },
    {
      "cell_type": "code",
      "execution_count": null,
      "metadata": {
        "colab": {
          "base_uri": "https://localhost:8080/"
        },
        "id": "2M84gWQh4WH3",
        "outputId": "835f394a-cb61-447a-a599-103302317b4a"
      },
      "outputs": [
        {
          "name": "stdout",
          "output_type": "stream",
          "text": [
            "<class 'pandas.core.frame.DataFrame'>\n",
            "Int64Index: 25524 entries, 0 to 7023\n",
            "Data columns (total 16 columns):\n",
            " #   Column         Non-Null Count  Dtype         \n",
            "---  ------         --------------  -----         \n",
            " 0   Date           25524 non-null  datetime64[ns]\n",
            " 1   District       25524 non-null  object        \n",
            " 2   Province       25524 non-null  object        \n",
            " 3   Hsdieuchinh    25524 non-null  float64       \n",
            " 4   Type_of_house  25524 non-null  object        \n",
            " 5   Legal_paper    25524 non-null  object        \n",
            " 6   WOS            25524 non-null  float64       \n",
            " 7   WOS_Segment    25524 non-null  object        \n",
            " 8   Area           25509 non-null  float64       \n",
            " 9   Length         19780 non-null  float64       \n",
            " 10  Width          20409 non-null  float64       \n",
            " 11  Rooms          22258 non-null  float64       \n",
            " 12  Floors         20361 non-null  float64       \n",
            " 13  Price          25510 non-null  object        \n",
            " 14  Address        25524 non-null  object        \n",
            " 15  Weight         25524 non-null  float64       \n",
            "dtypes: datetime64[ns](1), float64(8), object(7)\n",
            "memory usage: 3.3+ MB\n"
          ]
        }
      ],
      "source": [
        "df.info()"
      ]
    },
    {
      "cell_type": "code",
      "execution_count": null,
      "metadata": {
        "id": "uQ2TIEbKYPRN"
      },
      "outputs": [],
      "source": [
        "#df.drop(labels=\"index\",axis=1, inplace=True)"
      ]
    },
    {
      "cell_type": "code",
      "execution_count": null,
      "metadata": {
        "colab": {
          "base_uri": "https://localhost:8080/",
          "height": 877
        },
        "id": "BeZLO96VhmtO",
        "outputId": "2773c09b-8281-4a62-dbd2-bd6d84208470"
      },
      "outputs": [
        {
          "data": {
            "text/html": [
              "\n",
              "  <div id=\"df-d6d1b18b-6e8e-456a-947f-5a8ae02d628b\">\n",
              "    <div class=\"colab-df-container\">\n",
              "      <div>\n",
              "<style scoped>\n",
              "    .dataframe tbody tr th:only-of-type {\n",
              "        vertical-align: middle;\n",
              "    }\n",
              "\n",
              "    .dataframe tbody tr th {\n",
              "        vertical-align: top;\n",
              "    }\n",
              "\n",
              "    .dataframe thead th {\n",
              "        text-align: right;\n",
              "    }\n",
              "</style>\n",
              "<table border=\"1\" class=\"dataframe\">\n",
              "  <thead>\n",
              "    <tr style=\"text-align: right;\">\n",
              "      <th></th>\n",
              "      <th>Date</th>\n",
              "      <th>District</th>\n",
              "      <th>Province</th>\n",
              "      <th>Hsdieuchinh</th>\n",
              "      <th>Type_of_house</th>\n",
              "      <th>Legal_paper</th>\n",
              "      <th>WOS</th>\n",
              "      <th>WOS_Segment</th>\n",
              "      <th>Area</th>\n",
              "      <th>Length</th>\n",
              "      <th>Width</th>\n",
              "      <th>Rooms</th>\n",
              "      <th>Floors</th>\n",
              "      <th>Price</th>\n",
              "      <th>Address</th>\n",
              "      <th>Weight</th>\n",
              "    </tr>\n",
              "  </thead>\n",
              "  <tbody>\n",
              "    <tr>\n",
              "      <th>0</th>\n",
              "      <td>2022-09-24</td>\n",
              "      <td>Thành phố Thủ Đức</td>\n",
              "      <td>HCM</td>\n",
              "      <td>2.1</td>\n",
              "      <td>Nhà mặt tiền</td>\n",
              "      <td>No</td>\n",
              "      <td>7.0</td>\n",
              "      <td>Dưới 10</td>\n",
              "      <td>65.0</td>\n",
              "      <td>15.5</td>\n",
              "      <td>4.15</td>\n",
              "      <td>4.0</td>\n",
              "      <td>3.0</td>\n",
              "      <td>6.55 tỷ</td>\n",
              "      <td>Đường Số 10, Phường Hiệp Bình Phước, Thành ph...</td>\n",
              "      <td>3.0</td>\n",
              "    </tr>\n",
              "    <tr>\n",
              "      <th>1</th>\n",
              "      <td>2022-09-24</td>\n",
              "      <td>Thành phố Thủ Đức</td>\n",
              "      <td>HCM</td>\n",
              "      <td>2.1</td>\n",
              "      <td>Nhà mặt tiền</td>\n",
              "      <td>Yes</td>\n",
              "      <td>14.0</td>\n",
              "      <td>10-15m</td>\n",
              "      <td>87.0</td>\n",
              "      <td>21.0</td>\n",
              "      <td>4.10</td>\n",
              "      <td>8.0</td>\n",
              "      <td>5.0</td>\n",
              "      <td>14.7 tỷ</td>\n",
              "      <td>Đường Gò Dưa, Phường Tam Bình, Thành phố Thủ ...</td>\n",
              "      <td>2.0</td>\n",
              "    </tr>\n",
              "    <tr>\n",
              "      <th>2</th>\n",
              "      <td>2022-09-24</td>\n",
              "      <td>Thành phố Thủ Đức</td>\n",
              "      <td>HCM</td>\n",
              "      <td>2.1</td>\n",
              "      <td>Nhà mặt tiền</td>\n",
              "      <td>Yes</td>\n",
              "      <td>8.0</td>\n",
              "      <td>Dưới 10</td>\n",
              "      <td>80.0</td>\n",
              "      <td>16.0</td>\n",
              "      <td>5.00</td>\n",
              "      <td>4.0</td>\n",
              "      <td>4.0</td>\n",
              "      <td>7.2 tỷ</td>\n",
              "      <td>Đường Số 8, Phường Hiệp Bình Chánh, Thành phố...</td>\n",
              "      <td>2.0</td>\n",
              "    </tr>\n",
              "    <tr>\n",
              "      <th>3</th>\n",
              "      <td>2022-09-24</td>\n",
              "      <td>Huyện Hóc Môn</td>\n",
              "      <td>HCM</td>\n",
              "      <td>1.9</td>\n",
              "      <td>Đất thổ cư, đất ở</td>\n",
              "      <td>Yes</td>\n",
              "      <td>6.0</td>\n",
              "      <td>Dưới 10</td>\n",
              "      <td>100.0</td>\n",
              "      <td>25.0</td>\n",
              "      <td>4.00</td>\n",
              "      <td>0.0</td>\n",
              "      <td>0.0</td>\n",
              "      <td>480 triệu</td>\n",
              "      <td>Đường Nguyễn Văn Bứa, Xã Xuân Thới Sơn, Huyện...</td>\n",
              "      <td>2.0</td>\n",
              "    </tr>\n",
              "    <tr>\n",
              "      <th>4</th>\n",
              "      <td>2022-09-24</td>\n",
              "      <td>Thành phố Thủ Đức</td>\n",
              "      <td>HCM</td>\n",
              "      <td>2.1</td>\n",
              "      <td>Nhà mặt tiền</td>\n",
              "      <td>Yes</td>\n",
              "      <td>8.0</td>\n",
              "      <td>Dưới 10</td>\n",
              "      <td>58.0</td>\n",
              "      <td>15.0</td>\n",
              "      <td>4.00</td>\n",
              "      <td>4.0</td>\n",
              "      <td>4.0</td>\n",
              "      <td>8.2 tỷ</td>\n",
              "      <td>Quốc Lộ 13, Phường Hiệp Bình Phước, Thành phố...</td>\n",
              "      <td>2.0</td>\n",
              "    </tr>\n",
              "  </tbody>\n",
              "</table>\n",
              "</div>\n",
              "      <button class=\"colab-df-convert\" onclick=\"convertToInteractive('df-d6d1b18b-6e8e-456a-947f-5a8ae02d628b')\"\n",
              "              title=\"Convert this dataframe to an interactive table.\"\n",
              "              style=\"display:none;\">\n",
              "        \n",
              "  <svg xmlns=\"http://www.w3.org/2000/svg\" height=\"24px\"viewBox=\"0 0 24 24\"\n",
              "       width=\"24px\">\n",
              "    <path d=\"M0 0h24v24H0V0z\" fill=\"none\"/>\n",
              "    <path d=\"M18.56 5.44l.94 2.06.94-2.06 2.06-.94-2.06-.94-.94-2.06-.94 2.06-2.06.94zm-11 1L8.5 8.5l.94-2.06 2.06-.94-2.06-.94L8.5 2.5l-.94 2.06-2.06.94zm10 10l.94 2.06.94-2.06 2.06-.94-2.06-.94-.94-2.06-.94 2.06-2.06.94z\"/><path d=\"M17.41 7.96l-1.37-1.37c-.4-.4-.92-.59-1.43-.59-.52 0-1.04.2-1.43.59L10.3 9.45l-7.72 7.72c-.78.78-.78 2.05 0 2.83L4 21.41c.39.39.9.59 1.41.59.51 0 1.02-.2 1.41-.59l7.78-7.78 2.81-2.81c.8-.78.8-2.07 0-2.86zM5.41 20L4 18.59l7.72-7.72 1.47 1.35L5.41 20z\"/>\n",
              "  </svg>\n",
              "      </button>\n",
              "      \n",
              "  <style>\n",
              "    .colab-df-container {\n",
              "      display:flex;\n",
              "      flex-wrap:wrap;\n",
              "      gap: 12px;\n",
              "    }\n",
              "\n",
              "    .colab-df-convert {\n",
              "      background-color: #E8F0FE;\n",
              "      border: none;\n",
              "      border-radius: 50%;\n",
              "      cursor: pointer;\n",
              "      display: none;\n",
              "      fill: #1967D2;\n",
              "      height: 32px;\n",
              "      padding: 0 0 0 0;\n",
              "      width: 32px;\n",
              "    }\n",
              "\n",
              "    .colab-df-convert:hover {\n",
              "      background-color: #E2EBFA;\n",
              "      box-shadow: 0px 1px 2px rgba(60, 64, 67, 0.3), 0px 1px 3px 1px rgba(60, 64, 67, 0.15);\n",
              "      fill: #174EA6;\n",
              "    }\n",
              "\n",
              "    [theme=dark] .colab-df-convert {\n",
              "      background-color: #3B4455;\n",
              "      fill: #D2E3FC;\n",
              "    }\n",
              "\n",
              "    [theme=dark] .colab-df-convert:hover {\n",
              "      background-color: #434B5C;\n",
              "      box-shadow: 0px 1px 3px 1px rgba(0, 0, 0, 0.15);\n",
              "      filter: drop-shadow(0px 1px 2px rgba(0, 0, 0, 0.3));\n",
              "      fill: #FFFFFF;\n",
              "    }\n",
              "  </style>\n",
              "\n",
              "      <script>\n",
              "        const buttonEl =\n",
              "          document.querySelector('#df-d6d1b18b-6e8e-456a-947f-5a8ae02d628b button.colab-df-convert');\n",
              "        buttonEl.style.display =\n",
              "          google.colab.kernel.accessAllowed ? 'block' : 'none';\n",
              "\n",
              "        async function convertToInteractive(key) {\n",
              "          const element = document.querySelector('#df-d6d1b18b-6e8e-456a-947f-5a8ae02d628b');\n",
              "          const dataTable =\n",
              "            await google.colab.kernel.invokeFunction('convertToInteractive',\n",
              "                                                     [key], {});\n",
              "          if (!dataTable) return;\n",
              "\n",
              "          const docLinkHtml = 'Like what you see? Visit the ' +\n",
              "            '<a target=\"_blank\" href=https://colab.research.google.com/notebooks/data_table.ipynb>data table notebook</a>'\n",
              "            + ' to learn more about interactive tables.';\n",
              "          element.innerHTML = '';\n",
              "          dataTable['output_type'] = 'display_data';\n",
              "          await google.colab.output.renderOutput(dataTable, element);\n",
              "          const docLink = document.createElement('div');\n",
              "          docLink.innerHTML = docLinkHtml;\n",
              "          element.appendChild(docLink);\n",
              "        }\n",
              "      </script>\n",
              "    </div>\n",
              "  </div>\n",
              "  "
            ],
            "text/plain": [
              "        Date           District Province  Hsdieuchinh      Type_of_house  \\\n",
              "0 2022-09-24  Thành phố Thủ Đức      HCM          2.1       Nhà mặt tiền   \n",
              "1 2022-09-24  Thành phố Thủ Đức      HCM          2.1       Nhà mặt tiền   \n",
              "2 2022-09-24  Thành phố Thủ Đức      HCM          2.1       Nhà mặt tiền   \n",
              "3 2022-09-24      Huyện Hóc Môn      HCM          1.9  Đất thổ cư, đất ở   \n",
              "4 2022-09-24  Thành phố Thủ Đức      HCM          2.1       Nhà mặt tiền   \n",
              "\n",
              "  Legal_paper   WOS WOS_Segment   Area  Length  Width  Rooms  Floors  \\\n",
              "0          No   7.0     Dưới 10   65.0    15.5   4.15    4.0     3.0   \n",
              "1         Yes  14.0      10-15m   87.0    21.0   4.10    8.0     5.0   \n",
              "2         Yes   8.0     Dưới 10   80.0    16.0   5.00    4.0     4.0   \n",
              "3         Yes   6.0     Dưới 10  100.0    25.0   4.00    0.0     0.0   \n",
              "4         Yes   8.0     Dưới 10   58.0    15.0   4.00    4.0     4.0   \n",
              "\n",
              "       Price                                            Address  Weight  \n",
              "0    6.55 tỷ   Đường Số 10, Phường Hiệp Bình Phước, Thành ph...     3.0  \n",
              "1    14.7 tỷ   Đường Gò Dưa, Phường Tam Bình, Thành phố Thủ ...     2.0  \n",
              "2     7.2 tỷ   Đường Số 8, Phường Hiệp Bình Chánh, Thành phố...     2.0  \n",
              "3  480 triệu   Đường Nguyễn Văn Bứa, Xã Xuân Thới Sơn, Huyện...     2.0  \n",
              "4     8.2 tỷ   Quốc Lộ 13, Phường Hiệp Bình Phước, Thành phố...     2.0  "
            ]
          },
          "execution_count": 19,
          "metadata": {},
          "output_type": "execute_result"
        }
      ],
      "source": [
        "df.head()"
      ]
    },
    {
      "cell_type": "markdown",
      "metadata": {
        "id": "GSvYgUcyHDdJ"
      },
      "source": [
        "###**District**"
      ]
    },
    {
      "cell_type": "code",
      "execution_count": null,
      "metadata": {
        "id": "BMv8W0qkHDJ4"
      },
      "outputs": [],
      "source": [
        "df['District'] = df['District'].astype(str)"
      ]
    },
    {
      "cell_type": "code",
      "execution_count": null,
      "metadata": {
        "colab": {
          "base_uri": "https://localhost:8080/"
        },
        "id": "UCqVXiOOJFg5",
        "outputId": "254dfa87-48d8-4ad9-e2fb-1703dcfa7ac8"
      },
      "outputs": [
        {
          "data": {
            "text/plain": [
              "array(['Thành phố Thủ Đức', 'Huyện Hóc Môn', 'Huyện Củ Chi',\n",
              "       'Quận Bình Thạnh', 'Huyện Bình Chánh', 'Quận 10', 'Quận 12',\n",
              "       'Quận 3', 'Quận Bình Tân', 'Quận 5', 'Quận Tân Bình',\n",
              "       'Quận Gò Vấp', 'Quận 1', 'Quận Tân Phú', 'Quận Phú Nhuận',\n",
              "       'Huyện Nhà Bè', 'Quận 11', 'Quận 7', 'Quận 8', 'Quận 4', 'Quận 6',\n",
              "       'Quận 2', 'Quận 9', 'Huyện Cần Giờ'], dtype=object)"
            ]
          },
          "execution_count": 21,
          "metadata": {},
          "output_type": "execute_result"
        }
      ],
      "source": [
        "df['District'].unique()"
      ]
    },
    {
      "cell_type": "markdown",
      "metadata": {
        "id": "0sOuZ5zT9gnE"
      },
      "source": [
        "###**Type_of_housing**"
      ]
    },
    {
      "cell_type": "code",
      "execution_count": null,
      "metadata": {
        "colab": {
          "base_uri": "https://localhost:8080/"
        },
        "id": "X9X-U9Q1_B7L",
        "outputId": "4420c471-2743-49b4-abaf-5ab2de413b3b"
      },
      "outputs": [
        {
          "data": {
            "text/plain": [
              "array(['Nhà mặt tiền', 'Đất thổ cư, đất ở', 'Nhà trong hẻm',\n",
              "       'Biệt thự, nhà liền kề', 'Căn hộ chung cư',\n",
              "       'Đất nền, liền kề, đất dự án', 'Đất nông, lâm nghiệp', 'Mặt bằng',\n",
              "       'Phòng trọ, nhà trọ', 'Kho, xưởng', 'Nhà hàng, khách sạn',\n",
              "       'Văn phòng', 'Shop, kiot, quán', 'Các loại khác', 'Trang trại'],\n",
              "      dtype=object)"
            ]
          },
          "execution_count": 22,
          "metadata": {},
          "output_type": "execute_result"
        }
      ],
      "source": [
        "df['Type_of_house'].unique()"
      ]
    },
    {
      "cell_type": "code",
      "execution_count": null,
      "metadata": {
        "id": "8vUHDOXEU1EY"
      },
      "outputs": [],
      "source": [
        "df['Type_of_house'] = df['Type_of_house'].fillna(\"Các loại khác\")"
      ]
    },
    {
      "cell_type": "markdown",
      "metadata": {
        "id": "BY0kKlRv_MXK"
      },
      "source": [
        "###**WOS**"
      ]
    },
    {
      "cell_type": "code",
      "execution_count": null,
      "metadata": {
        "id": "QZvKStcr_iML"
      },
      "outputs": [],
      "source": [
        "df['WOS'] = df['WOS'].astype(float)"
      ]
    },
    {
      "cell_type": "code",
      "execution_count": null,
      "metadata": {
        "id": "hM1GMSAe_QEc"
      },
      "outputs": [],
      "source": [
        "#df['WOS_fixed'] = df['WOS_fixed'].fillna(round(df['WOS_fixed'].mean(),2))"
      ]
    },
    {
      "cell_type": "code",
      "execution_count": null,
      "metadata": {
        "id": "0Ymeubr1_1Fl"
      },
      "outputs": [],
      "source": [
        "#df['WOS_fixed']"
      ]
    },
    {
      "cell_type": "markdown",
      "metadata": {
        "id": "TyC_pzenIdxZ"
      },
      "source": [
        "###**Num_floors**"
      ]
    },
    {
      "cell_type": "markdown",
      "metadata": {
        "id": "iNL6xGyeib84"
      },
      "source": [
        "- Chung cư thì chỉ có 1 tầng, còn đất bán thì không có tầng nào"
      ]
    },
    {
      "cell_type": "code",
      "execution_count": null,
      "metadata": {
        "colab": {
          "base_uri": "https://localhost:8080/",
          "height": 877
        },
        "id": "s_kenBcAlyF1",
        "outputId": "03e678f5-2dd9-4dd5-9618-9de11fd0596d"
      },
      "outputs": [
        {
          "data": {
            "text/html": [
              "\n",
              "  <div id=\"df-712c112b-38e0-4f58-9634-92c24b20784f\">\n",
              "    <div class=\"colab-df-container\">\n",
              "      <div>\n",
              "<style scoped>\n",
              "    .dataframe tbody tr th:only-of-type {\n",
              "        vertical-align: middle;\n",
              "    }\n",
              "\n",
              "    .dataframe tbody tr th {\n",
              "        vertical-align: top;\n",
              "    }\n",
              "\n",
              "    .dataframe thead th {\n",
              "        text-align: right;\n",
              "    }\n",
              "</style>\n",
              "<table border=\"1\" class=\"dataframe\">\n",
              "  <thead>\n",
              "    <tr style=\"text-align: right;\">\n",
              "      <th></th>\n",
              "      <th>Date</th>\n",
              "      <th>District</th>\n",
              "      <th>Province</th>\n",
              "      <th>Hsdieuchinh</th>\n",
              "      <th>Type_of_house</th>\n",
              "      <th>Legal_paper</th>\n",
              "      <th>WOS</th>\n",
              "      <th>WOS_Segment</th>\n",
              "      <th>Area</th>\n",
              "      <th>Length</th>\n",
              "      <th>Width</th>\n",
              "      <th>Rooms</th>\n",
              "      <th>Floors</th>\n",
              "      <th>Price</th>\n",
              "      <th>Address</th>\n",
              "      <th>Weight</th>\n",
              "    </tr>\n",
              "  </thead>\n",
              "  <tbody>\n",
              "    <tr>\n",
              "      <th>0</th>\n",
              "      <td>2022-09-24</td>\n",
              "      <td>Thành phố Thủ Đức</td>\n",
              "      <td>HCM</td>\n",
              "      <td>2.1</td>\n",
              "      <td>Nhà mặt tiền</td>\n",
              "      <td>No</td>\n",
              "      <td>7.0</td>\n",
              "      <td>Dưới 10</td>\n",
              "      <td>65.0</td>\n",
              "      <td>15.5</td>\n",
              "      <td>4.15</td>\n",
              "      <td>4.0</td>\n",
              "      <td>3.0</td>\n",
              "      <td>6.55 tỷ</td>\n",
              "      <td>Đường Số 10, Phường Hiệp Bình Phước, Thành ph...</td>\n",
              "      <td>3.0</td>\n",
              "    </tr>\n",
              "    <tr>\n",
              "      <th>1</th>\n",
              "      <td>2022-09-24</td>\n",
              "      <td>Thành phố Thủ Đức</td>\n",
              "      <td>HCM</td>\n",
              "      <td>2.1</td>\n",
              "      <td>Nhà mặt tiền</td>\n",
              "      <td>Yes</td>\n",
              "      <td>14.0</td>\n",
              "      <td>10-15m</td>\n",
              "      <td>87.0</td>\n",
              "      <td>21.0</td>\n",
              "      <td>4.10</td>\n",
              "      <td>8.0</td>\n",
              "      <td>5.0</td>\n",
              "      <td>14.7 tỷ</td>\n",
              "      <td>Đường Gò Dưa, Phường Tam Bình, Thành phố Thủ ...</td>\n",
              "      <td>2.0</td>\n",
              "    </tr>\n",
              "    <tr>\n",
              "      <th>2</th>\n",
              "      <td>2022-09-24</td>\n",
              "      <td>Thành phố Thủ Đức</td>\n",
              "      <td>HCM</td>\n",
              "      <td>2.1</td>\n",
              "      <td>Nhà mặt tiền</td>\n",
              "      <td>Yes</td>\n",
              "      <td>8.0</td>\n",
              "      <td>Dưới 10</td>\n",
              "      <td>80.0</td>\n",
              "      <td>16.0</td>\n",
              "      <td>5.00</td>\n",
              "      <td>4.0</td>\n",
              "      <td>4.0</td>\n",
              "      <td>7.2 tỷ</td>\n",
              "      <td>Đường Số 8, Phường Hiệp Bình Chánh, Thành phố...</td>\n",
              "      <td>2.0</td>\n",
              "    </tr>\n",
              "    <tr>\n",
              "      <th>3</th>\n",
              "      <td>2022-09-24</td>\n",
              "      <td>Huyện Hóc Môn</td>\n",
              "      <td>HCM</td>\n",
              "      <td>1.9</td>\n",
              "      <td>Đất thổ cư, đất ở</td>\n",
              "      <td>Yes</td>\n",
              "      <td>6.0</td>\n",
              "      <td>Dưới 10</td>\n",
              "      <td>100.0</td>\n",
              "      <td>25.0</td>\n",
              "      <td>4.00</td>\n",
              "      <td>0.0</td>\n",
              "      <td>0.0</td>\n",
              "      <td>480 triệu</td>\n",
              "      <td>Đường Nguyễn Văn Bứa, Xã Xuân Thới Sơn, Huyện...</td>\n",
              "      <td>2.0</td>\n",
              "    </tr>\n",
              "    <tr>\n",
              "      <th>4</th>\n",
              "      <td>2022-09-24</td>\n",
              "      <td>Thành phố Thủ Đức</td>\n",
              "      <td>HCM</td>\n",
              "      <td>2.1</td>\n",
              "      <td>Nhà mặt tiền</td>\n",
              "      <td>Yes</td>\n",
              "      <td>8.0</td>\n",
              "      <td>Dưới 10</td>\n",
              "      <td>58.0</td>\n",
              "      <td>15.0</td>\n",
              "      <td>4.00</td>\n",
              "      <td>4.0</td>\n",
              "      <td>4.0</td>\n",
              "      <td>8.2 tỷ</td>\n",
              "      <td>Quốc Lộ 13, Phường Hiệp Bình Phước, Thành phố...</td>\n",
              "      <td>2.0</td>\n",
              "    </tr>\n",
              "  </tbody>\n",
              "</table>\n",
              "</div>\n",
              "      <button class=\"colab-df-convert\" onclick=\"convertToInteractive('df-712c112b-38e0-4f58-9634-92c24b20784f')\"\n",
              "              title=\"Convert this dataframe to an interactive table.\"\n",
              "              style=\"display:none;\">\n",
              "        \n",
              "  <svg xmlns=\"http://www.w3.org/2000/svg\" height=\"24px\"viewBox=\"0 0 24 24\"\n",
              "       width=\"24px\">\n",
              "    <path d=\"M0 0h24v24H0V0z\" fill=\"none\"/>\n",
              "    <path d=\"M18.56 5.44l.94 2.06.94-2.06 2.06-.94-2.06-.94-.94-2.06-.94 2.06-2.06.94zm-11 1L8.5 8.5l.94-2.06 2.06-.94-2.06-.94L8.5 2.5l-.94 2.06-2.06.94zm10 10l.94 2.06.94-2.06 2.06-.94-2.06-.94-.94-2.06-.94 2.06-2.06.94z\"/><path d=\"M17.41 7.96l-1.37-1.37c-.4-.4-.92-.59-1.43-.59-.52 0-1.04.2-1.43.59L10.3 9.45l-7.72 7.72c-.78.78-.78 2.05 0 2.83L4 21.41c.39.39.9.59 1.41.59.51 0 1.02-.2 1.41-.59l7.78-7.78 2.81-2.81c.8-.78.8-2.07 0-2.86zM5.41 20L4 18.59l7.72-7.72 1.47 1.35L5.41 20z\"/>\n",
              "  </svg>\n",
              "      </button>\n",
              "      \n",
              "  <style>\n",
              "    .colab-df-container {\n",
              "      display:flex;\n",
              "      flex-wrap:wrap;\n",
              "      gap: 12px;\n",
              "    }\n",
              "\n",
              "    .colab-df-convert {\n",
              "      background-color: #E8F0FE;\n",
              "      border: none;\n",
              "      border-radius: 50%;\n",
              "      cursor: pointer;\n",
              "      display: none;\n",
              "      fill: #1967D2;\n",
              "      height: 32px;\n",
              "      padding: 0 0 0 0;\n",
              "      width: 32px;\n",
              "    }\n",
              "\n",
              "    .colab-df-convert:hover {\n",
              "      background-color: #E2EBFA;\n",
              "      box-shadow: 0px 1px 2px rgba(60, 64, 67, 0.3), 0px 1px 3px 1px rgba(60, 64, 67, 0.15);\n",
              "      fill: #174EA6;\n",
              "    }\n",
              "\n",
              "    [theme=dark] .colab-df-convert {\n",
              "      background-color: #3B4455;\n",
              "      fill: #D2E3FC;\n",
              "    }\n",
              "\n",
              "    [theme=dark] .colab-df-convert:hover {\n",
              "      background-color: #434B5C;\n",
              "      box-shadow: 0px 1px 3px 1px rgba(0, 0, 0, 0.15);\n",
              "      filter: drop-shadow(0px 1px 2px rgba(0, 0, 0, 0.3));\n",
              "      fill: #FFFFFF;\n",
              "    }\n",
              "  </style>\n",
              "\n",
              "      <script>\n",
              "        const buttonEl =\n",
              "          document.querySelector('#df-712c112b-38e0-4f58-9634-92c24b20784f button.colab-df-convert');\n",
              "        buttonEl.style.display =\n",
              "          google.colab.kernel.accessAllowed ? 'block' : 'none';\n",
              "\n",
              "        async function convertToInteractive(key) {\n",
              "          const element = document.querySelector('#df-712c112b-38e0-4f58-9634-92c24b20784f');\n",
              "          const dataTable =\n",
              "            await google.colab.kernel.invokeFunction('convertToInteractive',\n",
              "                                                     [key], {});\n",
              "          if (!dataTable) return;\n",
              "\n",
              "          const docLinkHtml = 'Like what you see? Visit the ' +\n",
              "            '<a target=\"_blank\" href=https://colab.research.google.com/notebooks/data_table.ipynb>data table notebook</a>'\n",
              "            + ' to learn more about interactive tables.';\n",
              "          element.innerHTML = '';\n",
              "          dataTable['output_type'] = 'display_data';\n",
              "          await google.colab.output.renderOutput(dataTable, element);\n",
              "          const docLink = document.createElement('div');\n",
              "          docLink.innerHTML = docLinkHtml;\n",
              "          element.appendChild(docLink);\n",
              "        }\n",
              "      </script>\n",
              "    </div>\n",
              "  </div>\n",
              "  "
            ],
            "text/plain": [
              "        Date           District Province  Hsdieuchinh      Type_of_house  \\\n",
              "0 2022-09-24  Thành phố Thủ Đức      HCM          2.1       Nhà mặt tiền   \n",
              "1 2022-09-24  Thành phố Thủ Đức      HCM          2.1       Nhà mặt tiền   \n",
              "2 2022-09-24  Thành phố Thủ Đức      HCM          2.1       Nhà mặt tiền   \n",
              "3 2022-09-24      Huyện Hóc Môn      HCM          1.9  Đất thổ cư, đất ở   \n",
              "4 2022-09-24  Thành phố Thủ Đức      HCM          2.1       Nhà mặt tiền   \n",
              "\n",
              "  Legal_paper   WOS WOS_Segment   Area  Length  Width  Rooms  Floors  \\\n",
              "0          No   7.0     Dưới 10   65.0    15.5   4.15    4.0     3.0   \n",
              "1         Yes  14.0      10-15m   87.0    21.0   4.10    8.0     5.0   \n",
              "2         Yes   8.0     Dưới 10   80.0    16.0   5.00    4.0     4.0   \n",
              "3         Yes   6.0     Dưới 10  100.0    25.0   4.00    0.0     0.0   \n",
              "4         Yes   8.0     Dưới 10   58.0    15.0   4.00    4.0     4.0   \n",
              "\n",
              "       Price                                            Address  Weight  \n",
              "0    6.55 tỷ   Đường Số 10, Phường Hiệp Bình Phước, Thành ph...     3.0  \n",
              "1    14.7 tỷ   Đường Gò Dưa, Phường Tam Bình, Thành phố Thủ ...     2.0  \n",
              "2     7.2 tỷ   Đường Số 8, Phường Hiệp Bình Chánh, Thành phố...     2.0  \n",
              "3  480 triệu   Đường Nguyễn Văn Bứa, Xã Xuân Thới Sơn, Huyện...     2.0  \n",
              "4     8.2 tỷ   Quốc Lộ 13, Phường Hiệp Bình Phước, Thành phố...     2.0  "
            ]
          },
          "execution_count": 27,
          "metadata": {},
          "output_type": "execute_result"
        }
      ],
      "source": [
        "df.head()"
      ]
    },
    {
      "cell_type": "code",
      "execution_count": null,
      "metadata": {
        "colab": {
          "base_uri": "https://localhost:8080/"
        },
        "id": "QDSCrv9zl9pN",
        "outputId": "48363be4-25ac-40e0-caea-c9abfd2cdcd2"
      },
      "outputs": [
        {
          "data": {
            "text/plain": [
              "Index(['Date', 'District', 'Province', 'Hsdieuchinh', 'Type_of_house',\n",
              "       'Legal_paper', 'WOS', 'WOS_Segment', 'Area', 'Length', 'Width', 'Rooms',\n",
              "       'Floors', 'Price', 'Address', 'Weight'],\n",
              "      dtype='object')"
            ]
          },
          "execution_count": 28,
          "metadata": {},
          "output_type": "execute_result"
        }
      ],
      "source": [
        "df.columns"
      ]
    },
    {
      "cell_type": "code",
      "execution_count": null,
      "metadata": {
        "colab": {
          "base_uri": "https://localhost:8080/"
        },
        "id": "qHqTDGBDkmFz",
        "outputId": "5a501bd7-4c30-4e95-ff8e-9b33663be70a"
      },
      "outputs": [
        {
          "data": {
            "text/plain": [
              "0       3.0\n",
              "1       5.0\n",
              "2       4.0\n",
              "3       0.0\n",
              "4       4.0\n",
              "       ... \n",
              "7019    NaN\n",
              "7020    NaN\n",
              "7021    8.0\n",
              "7022    5.0\n",
              "7023    7.0\n",
              "Name: Floors, Length: 25524, dtype: float64"
            ]
          },
          "execution_count": 29,
          "metadata": {},
          "output_type": "execute_result"
        }
      ],
      "source": [
        "df.Floors"
      ]
    },
    {
      "cell_type": "code",
      "execution_count": null,
      "metadata": {
        "colab": {
          "base_uri": "https://localhost:8080/"
        },
        "id": "uXWPyuAEyaxy",
        "outputId": "a3ab485c-a5d3-4907-b6d6-89376d3ad603"
      },
      "outputs": [
        {
          "data": {
            "text/plain": [
              "25524"
            ]
          },
          "execution_count": 30,
          "metadata": {},
          "output_type": "execute_result"
        }
      ],
      "source": [
        "df.shape[0]"
      ]
    },
    {
      "cell_type": "code",
      "execution_count": null,
      "metadata": {
        "id": "8ci1wRBfw-I5"
      },
      "outputs": [],
      "source": [
        "df.sort_values(by=['Type_of_house'], inplace = True)"
      ]
    },
    {
      "cell_type": "code",
      "execution_count": null,
      "metadata": {
        "colab": {
          "base_uri": "https://localhost:8080/",
          "height": 860
        },
        "id": "RNyim4dVzUQq",
        "outputId": "85ac11b0-8675-4ddc-fb34-e5bd7adc9a4d"
      },
      "outputs": [
        {
          "data": {
            "text/html": [
              "\n",
              "  <div id=\"df-8cf2e9f5-8ff9-4d8f-af8c-6319c552ea2c\">\n",
              "    <div class=\"colab-df-container\">\n",
              "      <div>\n",
              "<style scoped>\n",
              "    .dataframe tbody tr th:only-of-type {\n",
              "        vertical-align: middle;\n",
              "    }\n",
              "\n",
              "    .dataframe tbody tr th {\n",
              "        vertical-align: top;\n",
              "    }\n",
              "\n",
              "    .dataframe thead th {\n",
              "        text-align: right;\n",
              "    }\n",
              "</style>\n",
              "<table border=\"1\" class=\"dataframe\">\n",
              "  <thead>\n",
              "    <tr style=\"text-align: right;\">\n",
              "      <th></th>\n",
              "      <th>Date</th>\n",
              "      <th>District</th>\n",
              "      <th>Province</th>\n",
              "      <th>Hsdieuchinh</th>\n",
              "      <th>Type_of_house</th>\n",
              "      <th>Legal_paper</th>\n",
              "      <th>WOS</th>\n",
              "      <th>WOS_Segment</th>\n",
              "      <th>Area</th>\n",
              "      <th>Length</th>\n",
              "      <th>Width</th>\n",
              "      <th>Rooms</th>\n",
              "      <th>Floors</th>\n",
              "      <th>Price</th>\n",
              "      <th>Address</th>\n",
              "      <th>Weight</th>\n",
              "    </tr>\n",
              "  </thead>\n",
              "  <tbody>\n",
              "    <tr>\n",
              "      <th>12480</th>\n",
              "      <td>2022-09-23</td>\n",
              "      <td>Quận Tân Bình</td>\n",
              "      <td>HCM</td>\n",
              "      <td>2.5</td>\n",
              "      <td>Biệt thự, nhà liền kề</td>\n",
              "      <td>Yes</td>\n",
              "      <td>7.0</td>\n",
              "      <td>Dưới 10</td>\n",
              "      <td>85.0</td>\n",
              "      <td>NaN</td>\n",
              "      <td>1.0</td>\n",
              "      <td>6.0</td>\n",
              "      <td>4.0</td>\n",
              "      <td>20.8 tỷ</td>\n",
              "      <td>Đường Bạch Đằng, Phường 2, Quận Tân Bình, Hồ ...</td>\n",
              "      <td>4.0</td>\n",
              "    </tr>\n",
              "    <tr>\n",
              "      <th>18161</th>\n",
              "      <td>2022-09-23</td>\n",
              "      <td>Quận 1</td>\n",
              "      <td>HCM</td>\n",
              "      <td>2.5</td>\n",
              "      <td>Biệt thự, nhà liền kề</td>\n",
              "      <td>No</td>\n",
              "      <td>7.0</td>\n",
              "      <td>Dưới 10</td>\n",
              "      <td>162.0</td>\n",
              "      <td>2.0</td>\n",
              "      <td>9.0</td>\n",
              "      <td>1.0</td>\n",
              "      <td>2.0</td>\n",
              "      <td>42 tỷ</td>\n",
              "      <td>Đường Sương Nguyệt Ánh, Phường Bến Thành, Quậ...</td>\n",
              "      <td>4.0</td>\n",
              "    </tr>\n",
              "    <tr>\n",
              "      <th>18162</th>\n",
              "      <td>2022-09-23</td>\n",
              "      <td>Quận 1</td>\n",
              "      <td>HCM</td>\n",
              "      <td>2.5</td>\n",
              "      <td>Biệt thự, nhà liền kề</td>\n",
              "      <td>No</td>\n",
              "      <td>7.0</td>\n",
              "      <td>Dưới 10</td>\n",
              "      <td>162.0</td>\n",
              "      <td>2.0</td>\n",
              "      <td>9.0</td>\n",
              "      <td>1.0</td>\n",
              "      <td>2.0</td>\n",
              "      <td>42 tỷ</td>\n",
              "      <td>Đường Bùi Thị Xuân, Phường Bến Thành, Quận 1,...</td>\n",
              "      <td>5.0</td>\n",
              "    </tr>\n",
              "    <tr>\n",
              "      <th>16604</th>\n",
              "      <td>2022-09-23</td>\n",
              "      <td>Quận Gò Vấp</td>\n",
              "      <td>HCM</td>\n",
              "      <td>2.3</td>\n",
              "      <td>Biệt thự, nhà liền kề</td>\n",
              "      <td>Yes</td>\n",
              "      <td>15.0</td>\n",
              "      <td>15-20m</td>\n",
              "      <td>114.0</td>\n",
              "      <td>19.0</td>\n",
              "      <td>6.0</td>\n",
              "      <td>5.0</td>\n",
              "      <td>5.0</td>\n",
              "      <td>27 tỷ</td>\n",
              "      <td>Đường Phan Văn Trị, Phường 5, Quận Gò Vấp, Hồ...</td>\n",
              "      <td>5.0</td>\n",
              "    </tr>\n",
              "    <tr>\n",
              "      <th>4838</th>\n",
              "      <td>2022-09-23</td>\n",
              "      <td>Quận Tân Bình</td>\n",
              "      <td>HCM</td>\n",
              "      <td>2.5</td>\n",
              "      <td>Biệt thự, nhà liền kề</td>\n",
              "      <td>Yes</td>\n",
              "      <td>8.0</td>\n",
              "      <td>Dưới 10</td>\n",
              "      <td>160.0</td>\n",
              "      <td>16.0</td>\n",
              "      <td>1.0</td>\n",
              "      <td>50.0</td>\n",
              "      <td>7.0</td>\n",
              "      <td>20 tỷ</td>\n",
              "      <td>Đường Cửu Long, Phường 2, Quận Tân Bình, Hồ C...</td>\n",
              "      <td>2.0</td>\n",
              "    </tr>\n",
              "  </tbody>\n",
              "</table>\n",
              "</div>\n",
              "      <button class=\"colab-df-convert\" onclick=\"convertToInteractive('df-8cf2e9f5-8ff9-4d8f-af8c-6319c552ea2c')\"\n",
              "              title=\"Convert this dataframe to an interactive table.\"\n",
              "              style=\"display:none;\">\n",
              "        \n",
              "  <svg xmlns=\"http://www.w3.org/2000/svg\" height=\"24px\"viewBox=\"0 0 24 24\"\n",
              "       width=\"24px\">\n",
              "    <path d=\"M0 0h24v24H0V0z\" fill=\"none\"/>\n",
              "    <path d=\"M18.56 5.44l.94 2.06.94-2.06 2.06-.94-2.06-.94-.94-2.06-.94 2.06-2.06.94zm-11 1L8.5 8.5l.94-2.06 2.06-.94-2.06-.94L8.5 2.5l-.94 2.06-2.06.94zm10 10l.94 2.06.94-2.06 2.06-.94-2.06-.94-.94-2.06-.94 2.06-2.06.94z\"/><path d=\"M17.41 7.96l-1.37-1.37c-.4-.4-.92-.59-1.43-.59-.52 0-1.04.2-1.43.59L10.3 9.45l-7.72 7.72c-.78.78-.78 2.05 0 2.83L4 21.41c.39.39.9.59 1.41.59.51 0 1.02-.2 1.41-.59l7.78-7.78 2.81-2.81c.8-.78.8-2.07 0-2.86zM5.41 20L4 18.59l7.72-7.72 1.47 1.35L5.41 20z\"/>\n",
              "  </svg>\n",
              "      </button>\n",
              "      \n",
              "  <style>\n",
              "    .colab-df-container {\n",
              "      display:flex;\n",
              "      flex-wrap:wrap;\n",
              "      gap: 12px;\n",
              "    }\n",
              "\n",
              "    .colab-df-convert {\n",
              "      background-color: #E8F0FE;\n",
              "      border: none;\n",
              "      border-radius: 50%;\n",
              "      cursor: pointer;\n",
              "      display: none;\n",
              "      fill: #1967D2;\n",
              "      height: 32px;\n",
              "      padding: 0 0 0 0;\n",
              "      width: 32px;\n",
              "    }\n",
              "\n",
              "    .colab-df-convert:hover {\n",
              "      background-color: #E2EBFA;\n",
              "      box-shadow: 0px 1px 2px rgba(60, 64, 67, 0.3), 0px 1px 3px 1px rgba(60, 64, 67, 0.15);\n",
              "      fill: #174EA6;\n",
              "    }\n",
              "\n",
              "    [theme=dark] .colab-df-convert {\n",
              "      background-color: #3B4455;\n",
              "      fill: #D2E3FC;\n",
              "    }\n",
              "\n",
              "    [theme=dark] .colab-df-convert:hover {\n",
              "      background-color: #434B5C;\n",
              "      box-shadow: 0px 1px 3px 1px rgba(0, 0, 0, 0.15);\n",
              "      filter: drop-shadow(0px 1px 2px rgba(0, 0, 0, 0.3));\n",
              "      fill: #FFFFFF;\n",
              "    }\n",
              "  </style>\n",
              "\n",
              "      <script>\n",
              "        const buttonEl =\n",
              "          document.querySelector('#df-8cf2e9f5-8ff9-4d8f-af8c-6319c552ea2c button.colab-df-convert');\n",
              "        buttonEl.style.display =\n",
              "          google.colab.kernel.accessAllowed ? 'block' : 'none';\n",
              "\n",
              "        async function convertToInteractive(key) {\n",
              "          const element = document.querySelector('#df-8cf2e9f5-8ff9-4d8f-af8c-6319c552ea2c');\n",
              "          const dataTable =\n",
              "            await google.colab.kernel.invokeFunction('convertToInteractive',\n",
              "                                                     [key], {});\n",
              "          if (!dataTable) return;\n",
              "\n",
              "          const docLinkHtml = 'Like what you see? Visit the ' +\n",
              "            '<a target=\"_blank\" href=https://colab.research.google.com/notebooks/data_table.ipynb>data table notebook</a>'\n",
              "            + ' to learn more about interactive tables.';\n",
              "          element.innerHTML = '';\n",
              "          dataTable['output_type'] = 'display_data';\n",
              "          await google.colab.output.renderOutput(dataTable, element);\n",
              "          const docLink = document.createElement('div');\n",
              "          docLink.innerHTML = docLinkHtml;\n",
              "          element.appendChild(docLink);\n",
              "        }\n",
              "      </script>\n",
              "    </div>\n",
              "  </div>\n",
              "  "
            ],
            "text/plain": [
              "            Date       District Province  Hsdieuchinh          Type_of_house  \\\n",
              "12480 2022-09-23  Quận Tân Bình      HCM          2.5  Biệt thự, nhà liền kề   \n",
              "18161 2022-09-23         Quận 1      HCM          2.5  Biệt thự, nhà liền kề   \n",
              "18162 2022-09-23         Quận 1      HCM          2.5  Biệt thự, nhà liền kề   \n",
              "16604 2022-09-23    Quận Gò Vấp      HCM          2.3  Biệt thự, nhà liền kề   \n",
              "4838  2022-09-23  Quận Tân Bình      HCM          2.5  Biệt thự, nhà liền kề   \n",
              "\n",
              "      Legal_paper   WOS WOS_Segment   Area  Length  Width  Rooms  Floors  \\\n",
              "12480         Yes   7.0     Dưới 10   85.0     NaN    1.0    6.0     4.0   \n",
              "18161          No   7.0     Dưới 10  162.0     2.0    9.0    1.0     2.0   \n",
              "18162          No   7.0     Dưới 10  162.0     2.0    9.0    1.0     2.0   \n",
              "16604         Yes  15.0      15-20m  114.0    19.0    6.0    5.0     5.0   \n",
              "4838          Yes   8.0     Dưới 10  160.0    16.0    1.0   50.0     7.0   \n",
              "\n",
              "         Price                                            Address  Weight  \n",
              "12480  20.8 tỷ   Đường Bạch Đằng, Phường 2, Quận Tân Bình, Hồ ...     4.0  \n",
              "18161    42 tỷ   Đường Sương Nguyệt Ánh, Phường Bến Thành, Quậ...     4.0  \n",
              "18162    42 tỷ   Đường Bùi Thị Xuân, Phường Bến Thành, Quận 1,...     5.0  \n",
              "16604    27 tỷ   Đường Phan Văn Trị, Phường 5, Quận Gò Vấp, Hồ...     5.0  \n",
              "4838     20 tỷ   Đường Cửu Long, Phường 2, Quận Tân Bình, Hồ C...     2.0  "
            ]
          },
          "execution_count": 32,
          "metadata": {},
          "output_type": "execute_result"
        }
      ],
      "source": [
        "df.head()"
      ]
    },
    {
      "cell_type": "code",
      "execution_count": null,
      "metadata": {
        "id": "IkCO-QoTZB2E"
      },
      "outputs": [],
      "source": [
        "df['Floors'] = df['Floors'].fillna(method=\"bfill\")"
      ]
    },
    {
      "cell_type": "code",
      "execution_count": null,
      "metadata": {
        "id": "IEJyP4W9w2NT"
      },
      "outputs": [],
      "source": [
        "df['Floors'] = df['Floors'].fillna(method=\"ffill\")"
      ]
    },
    {
      "cell_type": "code",
      "execution_count": null,
      "metadata": {
        "colab": {
          "base_uri": "https://localhost:8080/"
        },
        "id": "goRJQG-zucUf",
        "outputId": "6156d334-f4fc-466b-a724-4b01d334a7d3"
      },
      "outputs": [
        {
          "name": "stdout",
          "output_type": "stream",
          "text": [
            "<class 'pandas.core.frame.DataFrame'>\n",
            "Int64Index: 25524 entries, 12480 to 4746\n",
            "Data columns (total 16 columns):\n",
            " #   Column         Non-Null Count  Dtype         \n",
            "---  ------         --------------  -----         \n",
            " 0   Date           25524 non-null  datetime64[ns]\n",
            " 1   District       25524 non-null  object        \n",
            " 2   Province       25524 non-null  object        \n",
            " 3   Hsdieuchinh    25524 non-null  float64       \n",
            " 4   Type_of_house  25524 non-null  object        \n",
            " 5   Legal_paper    25524 non-null  object        \n",
            " 6   WOS            25524 non-null  float64       \n",
            " 7   WOS_Segment    25524 non-null  object        \n",
            " 8   Area           25509 non-null  float64       \n",
            " 9   Length         19780 non-null  float64       \n",
            " 10  Width          20409 non-null  float64       \n",
            " 11  Rooms          22258 non-null  float64       \n",
            " 12  Floors         25524 non-null  float64       \n",
            " 13  Price          25510 non-null  object        \n",
            " 14  Address        25524 non-null  object        \n",
            " 15  Weight         25524 non-null  float64       \n",
            "dtypes: datetime64[ns](1), float64(8), object(7)\n",
            "memory usage: 3.3+ MB\n"
          ]
        }
      ],
      "source": [
        "df.info()"
      ]
    },
    {
      "cell_type": "code",
      "execution_count": null,
      "metadata": {
        "colab": {
          "base_uri": "https://localhost:8080/",
          "height": 895
        },
        "id": "bMMWMLatZfza",
        "outputId": "320fd80c-74f8-4174-9e4d-c6325b2fdb3a"
      },
      "outputs": [
        {
          "data": {
            "text/html": [
              "\n",
              "  <div id=\"df-901676dd-ee58-486c-9ada-92a1ca91a48b\">\n",
              "    <div class=\"colab-df-container\">\n",
              "      <div>\n",
              "<style scoped>\n",
              "    .dataframe tbody tr th:only-of-type {\n",
              "        vertical-align: middle;\n",
              "    }\n",
              "\n",
              "    .dataframe tbody tr th {\n",
              "        vertical-align: top;\n",
              "    }\n",
              "\n",
              "    .dataframe thead th {\n",
              "        text-align: right;\n",
              "    }\n",
              "</style>\n",
              "<table border=\"1\" class=\"dataframe\">\n",
              "  <thead>\n",
              "    <tr style=\"text-align: right;\">\n",
              "      <th></th>\n",
              "      <th>Date</th>\n",
              "      <th>District</th>\n",
              "      <th>Province</th>\n",
              "      <th>Hsdieuchinh</th>\n",
              "      <th>Type_of_house</th>\n",
              "      <th>Legal_paper</th>\n",
              "      <th>WOS</th>\n",
              "      <th>WOS_Segment</th>\n",
              "      <th>Area</th>\n",
              "      <th>Length</th>\n",
              "      <th>Width</th>\n",
              "      <th>Rooms</th>\n",
              "      <th>Floors</th>\n",
              "      <th>Price</th>\n",
              "      <th>Address</th>\n",
              "      <th>Weight</th>\n",
              "    </tr>\n",
              "  </thead>\n",
              "  <tbody>\n",
              "    <tr>\n",
              "      <th>3248</th>\n",
              "      <td>2022-09-24</td>\n",
              "      <td>Thành phố Thủ Đức</td>\n",
              "      <td>HCM</td>\n",
              "      <td>2.1</td>\n",
              "      <td>Đất thổ cư, đất ở</td>\n",
              "      <td>Yes</td>\n",
              "      <td>16.0</td>\n",
              "      <td>15-20m</td>\n",
              "      <td>216.0</td>\n",
              "      <td>18.0</td>\n",
              "      <td>12.0</td>\n",
              "      <td>0.0</td>\n",
              "      <td>0.0</td>\n",
              "      <td>18.5 tỷ</td>\n",
              "      <td>Quốc Lộ 13, Phường Hiệp Bình Phước, Thành phố...</td>\n",
              "      <td>2.0</td>\n",
              "    </tr>\n",
              "    <tr>\n",
              "      <th>3247</th>\n",
              "      <td>2022-09-24</td>\n",
              "      <td>Thành phố Thủ Đức</td>\n",
              "      <td>HCM</td>\n",
              "      <td>2.1</td>\n",
              "      <td>Đất thổ cư, đất ở</td>\n",
              "      <td>Yes</td>\n",
              "      <td>5.0</td>\n",
              "      <td>Dưới 10</td>\n",
              "      <td>81.0</td>\n",
              "      <td>21.0</td>\n",
              "      <td>4.0</td>\n",
              "      <td>0.0</td>\n",
              "      <td>0.0</td>\n",
              "      <td>4.65 tỷ</td>\n",
              "      <td>Đại Lộ 13, Phường Hiệp Bình Chánh, Thành phố ...</td>\n",
              "      <td>2.0</td>\n",
              "    </tr>\n",
              "    <tr>\n",
              "      <th>3246</th>\n",
              "      <td>2022-09-24</td>\n",
              "      <td>Thành phố Thủ Đức</td>\n",
              "      <td>HCM</td>\n",
              "      <td>2.1</td>\n",
              "      <td>Đất thổ cư, đất ở</td>\n",
              "      <td>Yes</td>\n",
              "      <td>7.0</td>\n",
              "      <td>Dưới 10</td>\n",
              "      <td>81.0</td>\n",
              "      <td>14.0</td>\n",
              "      <td>6.0</td>\n",
              "      <td>0.0</td>\n",
              "      <td>0.0</td>\n",
              "      <td>3.6 tỷ</td>\n",
              "      <td>Đường Kênh Ba Bò, Phường Bình Chiểu, Thành ph...</td>\n",
              "      <td>3.0</td>\n",
              "    </tr>\n",
              "    <tr>\n",
              "      <th>3244</th>\n",
              "      <td>2022-09-24</td>\n",
              "      <td>Thành phố Thủ Đức</td>\n",
              "      <td>HCM</td>\n",
              "      <td>2.1</td>\n",
              "      <td>Đất thổ cư, đất ở</td>\n",
              "      <td>Yes</td>\n",
              "      <td>4.0</td>\n",
              "      <td>Dưới 10</td>\n",
              "      <td>210.0</td>\n",
              "      <td>2.0</td>\n",
              "      <td>1.0</td>\n",
              "      <td>0.0</td>\n",
              "      <td>0.0</td>\n",
              "      <td>10 tỷ</td>\n",
              "      <td>Đường Hiệp Bình, Phường Hiệp Bình Chánh, T...</td>\n",
              "      <td>2.0</td>\n",
              "    </tr>\n",
              "    <tr>\n",
              "      <th>4746</th>\n",
              "      <td>2022-09-23</td>\n",
              "      <td>Quận Bình Thạnh</td>\n",
              "      <td>HCM</td>\n",
              "      <td>2.3</td>\n",
              "      <td>Đất thổ cư, đất ở</td>\n",
              "      <td>Yes</td>\n",
              "      <td>20.0</td>\n",
              "      <td>20-30m</td>\n",
              "      <td>120.0</td>\n",
              "      <td>2.0</td>\n",
              "      <td>6.0</td>\n",
              "      <td>0.0</td>\n",
              "      <td>0.0</td>\n",
              "      <td>4.2 tỷ</td>\n",
              "      <td>Đường Đặng Thuỳ Trâm, Phường 13, Quận Bình Th...</td>\n",
              "      <td>2.0</td>\n",
              "    </tr>\n",
              "  </tbody>\n",
              "</table>\n",
              "</div>\n",
              "      <button class=\"colab-df-convert\" onclick=\"convertToInteractive('df-901676dd-ee58-486c-9ada-92a1ca91a48b')\"\n",
              "              title=\"Convert this dataframe to an interactive table.\"\n",
              "              style=\"display:none;\">\n",
              "        \n",
              "  <svg xmlns=\"http://www.w3.org/2000/svg\" height=\"24px\"viewBox=\"0 0 24 24\"\n",
              "       width=\"24px\">\n",
              "    <path d=\"M0 0h24v24H0V0z\" fill=\"none\"/>\n",
              "    <path d=\"M18.56 5.44l.94 2.06.94-2.06 2.06-.94-2.06-.94-.94-2.06-.94 2.06-2.06.94zm-11 1L8.5 8.5l.94-2.06 2.06-.94-2.06-.94L8.5 2.5l-.94 2.06-2.06.94zm10 10l.94 2.06.94-2.06 2.06-.94-2.06-.94-.94-2.06-.94 2.06-2.06.94z\"/><path d=\"M17.41 7.96l-1.37-1.37c-.4-.4-.92-.59-1.43-.59-.52 0-1.04.2-1.43.59L10.3 9.45l-7.72 7.72c-.78.78-.78 2.05 0 2.83L4 21.41c.39.39.9.59 1.41.59.51 0 1.02-.2 1.41-.59l7.78-7.78 2.81-2.81c.8-.78.8-2.07 0-2.86zM5.41 20L4 18.59l7.72-7.72 1.47 1.35L5.41 20z\"/>\n",
              "  </svg>\n",
              "      </button>\n",
              "      \n",
              "  <style>\n",
              "    .colab-df-container {\n",
              "      display:flex;\n",
              "      flex-wrap:wrap;\n",
              "      gap: 12px;\n",
              "    }\n",
              "\n",
              "    .colab-df-convert {\n",
              "      background-color: #E8F0FE;\n",
              "      border: none;\n",
              "      border-radius: 50%;\n",
              "      cursor: pointer;\n",
              "      display: none;\n",
              "      fill: #1967D2;\n",
              "      height: 32px;\n",
              "      padding: 0 0 0 0;\n",
              "      width: 32px;\n",
              "    }\n",
              "\n",
              "    .colab-df-convert:hover {\n",
              "      background-color: #E2EBFA;\n",
              "      box-shadow: 0px 1px 2px rgba(60, 64, 67, 0.3), 0px 1px 3px 1px rgba(60, 64, 67, 0.15);\n",
              "      fill: #174EA6;\n",
              "    }\n",
              "\n",
              "    [theme=dark] .colab-df-convert {\n",
              "      background-color: #3B4455;\n",
              "      fill: #D2E3FC;\n",
              "    }\n",
              "\n",
              "    [theme=dark] .colab-df-convert:hover {\n",
              "      background-color: #434B5C;\n",
              "      box-shadow: 0px 1px 3px 1px rgba(0, 0, 0, 0.15);\n",
              "      filter: drop-shadow(0px 1px 2px rgba(0, 0, 0, 0.3));\n",
              "      fill: #FFFFFF;\n",
              "    }\n",
              "  </style>\n",
              "\n",
              "      <script>\n",
              "        const buttonEl =\n",
              "          document.querySelector('#df-901676dd-ee58-486c-9ada-92a1ca91a48b button.colab-df-convert');\n",
              "        buttonEl.style.display =\n",
              "          google.colab.kernel.accessAllowed ? 'block' : 'none';\n",
              "\n",
              "        async function convertToInteractive(key) {\n",
              "          const element = document.querySelector('#df-901676dd-ee58-486c-9ada-92a1ca91a48b');\n",
              "          const dataTable =\n",
              "            await google.colab.kernel.invokeFunction('convertToInteractive',\n",
              "                                                     [key], {});\n",
              "          if (!dataTable) return;\n",
              "\n",
              "          const docLinkHtml = 'Like what you see? Visit the ' +\n",
              "            '<a target=\"_blank\" href=https://colab.research.google.com/notebooks/data_table.ipynb>data table notebook</a>'\n",
              "            + ' to learn more about interactive tables.';\n",
              "          element.innerHTML = '';\n",
              "          dataTable['output_type'] = 'display_data';\n",
              "          await google.colab.output.renderOutput(dataTable, element);\n",
              "          const docLink = document.createElement('div');\n",
              "          docLink.innerHTML = docLinkHtml;\n",
              "          element.appendChild(docLink);\n",
              "        }\n",
              "      </script>\n",
              "    </div>\n",
              "  </div>\n",
              "  "
            ],
            "text/plain": [
              "           Date           District Province  Hsdieuchinh      Type_of_house  \\\n",
              "3248 2022-09-24  Thành phố Thủ Đức      HCM          2.1  Đất thổ cư, đất ở   \n",
              "3247 2022-09-24  Thành phố Thủ Đức      HCM          2.1  Đất thổ cư, đất ở   \n",
              "3246 2022-09-24  Thành phố Thủ Đức      HCM          2.1  Đất thổ cư, đất ở   \n",
              "3244 2022-09-24  Thành phố Thủ Đức      HCM          2.1  Đất thổ cư, đất ở   \n",
              "4746 2022-09-23    Quận Bình Thạnh      HCM          2.3  Đất thổ cư, đất ở   \n",
              "\n",
              "     Legal_paper   WOS WOS_Segment   Area  Length  Width  Rooms  Floors  \\\n",
              "3248         Yes  16.0      15-20m  216.0    18.0   12.0    0.0     0.0   \n",
              "3247         Yes   5.0     Dưới 10   81.0    21.0    4.0    0.0     0.0   \n",
              "3246         Yes   7.0     Dưới 10   81.0    14.0    6.0    0.0     0.0   \n",
              "3244         Yes   4.0     Dưới 10  210.0     2.0    1.0    0.0     0.0   \n",
              "4746         Yes  20.0      20-30m  120.0     2.0    6.0    0.0     0.0   \n",
              "\n",
              "        Price                                            Address  Weight  \n",
              "3248  18.5 tỷ   Quốc Lộ 13, Phường Hiệp Bình Phước, Thành phố...     2.0  \n",
              "3247  4.65 tỷ   Đại Lộ 13, Phường Hiệp Bình Chánh, Thành phố ...     2.0  \n",
              "3246   3.6 tỷ   Đường Kênh Ba Bò, Phường Bình Chiểu, Thành ph...     3.0  \n",
              "3244    10 tỷ   Đường Hiệp Bình, Phường Hiệp Bình Chánh, T...     2.0  \n",
              "4746   4.2 tỷ   Đường Đặng Thuỳ Trâm, Phường 13, Quận Bình Th...     2.0  "
            ]
          },
          "execution_count": 36,
          "metadata": {},
          "output_type": "execute_result"
        }
      ],
      "source": [
        "df.tail()"
      ]
    },
    {
      "cell_type": "code",
      "execution_count": null,
      "metadata": {
        "id": "LGS6Mojo802W"
      },
      "outputs": [],
      "source": [
        "df['Floors'] = df['Floors'].astype(int)"
      ]
    },
    {
      "cell_type": "markdown",
      "metadata": {
        "id": "2LusTkyXIhaa"
      },
      "source": [
        "###**Num_beds**"
      ]
    },
    {
      "cell_type": "markdown",
      "metadata": {
        "id": "XxbFIkBkxWeZ"
      },
      "source": [
        "- Dất bán thì không phong nào"
      ]
    },
    {
      "cell_type": "code",
      "execution_count": null,
      "metadata": {
        "colab": {
          "base_uri": "https://localhost:8080/"
        },
        "id": "DGS0gmXS0ESq",
        "outputId": "15f7c7cb-f31a-4f48-e4b5-77e448df7788"
      },
      "outputs": [
        {
          "name": "stdout",
          "output_type": "stream",
          "text": [
            "<class 'pandas.core.frame.DataFrame'>\n",
            "Int64Index: 25524 entries, 12480 to 4746\n",
            "Data columns (total 16 columns):\n",
            " #   Column         Non-Null Count  Dtype         \n",
            "---  ------         --------------  -----         \n",
            " 0   Date           25524 non-null  datetime64[ns]\n",
            " 1   District       25524 non-null  object        \n",
            " 2   Province       25524 non-null  object        \n",
            " 3   Hsdieuchinh    25524 non-null  float64       \n",
            " 4   Type_of_house  25524 non-null  object        \n",
            " 5   Legal_paper    25524 non-null  object        \n",
            " 6   WOS            25524 non-null  float64       \n",
            " 7   WOS_Segment    25524 non-null  object        \n",
            " 8   Area           25509 non-null  float64       \n",
            " 9   Length         19780 non-null  float64       \n",
            " 10  Width          20409 non-null  float64       \n",
            " 11  Rooms          22258 non-null  float64       \n",
            " 12  Floors         25524 non-null  int64         \n",
            " 13  Price          25510 non-null  object        \n",
            " 14  Address        25524 non-null  object        \n",
            " 15  Weight         25524 non-null  float64       \n",
            "dtypes: datetime64[ns](1), float64(7), int64(1), object(7)\n",
            "memory usage: 3.3+ MB\n"
          ]
        }
      ],
      "source": [
        "df.info()"
      ]
    },
    {
      "cell_type": "code",
      "execution_count": null,
      "metadata": {
        "id": "F8sKMSqsbQiq"
      },
      "outputs": [],
      "source": [
        "df['Rooms'] = df['Rooms'].fillna(method=\"ffill\")"
      ]
    },
    {
      "cell_type": "code",
      "execution_count": null,
      "metadata": {
        "id": "hPybU0Qz82ae"
      },
      "outputs": [],
      "source": [
        "df['Rooms'] = df['Rooms'].fillna(method=\"bfill\")"
      ]
    },
    {
      "cell_type": "code",
      "execution_count": null,
      "metadata": {
        "id": "m6dEUHqO0QrK"
      },
      "outputs": [],
      "source": [
        "df['Rooms'] = df['Rooms'].astype(int)"
      ]
    },
    {
      "cell_type": "code",
      "execution_count": null,
      "metadata": {
        "colab": {
          "base_uri": "https://localhost:8080/",
          "height": 860
        },
        "id": "teBBWcT2LF2A",
        "outputId": "20165ae8-7b4a-41b4-83bf-abd472b3f54b"
      },
      "outputs": [
        {
          "data": {
            "text/html": [
              "\n",
              "  <div id=\"df-8dc29365-3c4b-447c-93dc-771f461e0e27\">\n",
              "    <div class=\"colab-df-container\">\n",
              "      <div>\n",
              "<style scoped>\n",
              "    .dataframe tbody tr th:only-of-type {\n",
              "        vertical-align: middle;\n",
              "    }\n",
              "\n",
              "    .dataframe tbody tr th {\n",
              "        vertical-align: top;\n",
              "    }\n",
              "\n",
              "    .dataframe thead th {\n",
              "        text-align: right;\n",
              "    }\n",
              "</style>\n",
              "<table border=\"1\" class=\"dataframe\">\n",
              "  <thead>\n",
              "    <tr style=\"text-align: right;\">\n",
              "      <th></th>\n",
              "      <th>Date</th>\n",
              "      <th>District</th>\n",
              "      <th>Province</th>\n",
              "      <th>Hsdieuchinh</th>\n",
              "      <th>Type_of_house</th>\n",
              "      <th>Legal_paper</th>\n",
              "      <th>WOS</th>\n",
              "      <th>WOS_Segment</th>\n",
              "      <th>Area</th>\n",
              "      <th>Length</th>\n",
              "      <th>Width</th>\n",
              "      <th>Rooms</th>\n",
              "      <th>Floors</th>\n",
              "      <th>Price</th>\n",
              "      <th>Address</th>\n",
              "      <th>Weight</th>\n",
              "    </tr>\n",
              "  </thead>\n",
              "  <tbody>\n",
              "    <tr>\n",
              "      <th>12480</th>\n",
              "      <td>2022-09-23</td>\n",
              "      <td>Quận Tân Bình</td>\n",
              "      <td>HCM</td>\n",
              "      <td>2.5</td>\n",
              "      <td>Biệt thự, nhà liền kề</td>\n",
              "      <td>Yes</td>\n",
              "      <td>7.0</td>\n",
              "      <td>Dưới 10</td>\n",
              "      <td>85.0</td>\n",
              "      <td>NaN</td>\n",
              "      <td>1.0</td>\n",
              "      <td>6</td>\n",
              "      <td>4</td>\n",
              "      <td>20.8 tỷ</td>\n",
              "      <td>Đường Bạch Đằng, Phường 2, Quận Tân Bình, Hồ ...</td>\n",
              "      <td>4.0</td>\n",
              "    </tr>\n",
              "    <tr>\n",
              "      <th>18161</th>\n",
              "      <td>2022-09-23</td>\n",
              "      <td>Quận 1</td>\n",
              "      <td>HCM</td>\n",
              "      <td>2.5</td>\n",
              "      <td>Biệt thự, nhà liền kề</td>\n",
              "      <td>No</td>\n",
              "      <td>7.0</td>\n",
              "      <td>Dưới 10</td>\n",
              "      <td>162.0</td>\n",
              "      <td>2.0</td>\n",
              "      <td>9.0</td>\n",
              "      <td>1</td>\n",
              "      <td>2</td>\n",
              "      <td>42 tỷ</td>\n",
              "      <td>Đường Sương Nguyệt Ánh, Phường Bến Thành, Quậ...</td>\n",
              "      <td>4.0</td>\n",
              "    </tr>\n",
              "    <tr>\n",
              "      <th>18162</th>\n",
              "      <td>2022-09-23</td>\n",
              "      <td>Quận 1</td>\n",
              "      <td>HCM</td>\n",
              "      <td>2.5</td>\n",
              "      <td>Biệt thự, nhà liền kề</td>\n",
              "      <td>No</td>\n",
              "      <td>7.0</td>\n",
              "      <td>Dưới 10</td>\n",
              "      <td>162.0</td>\n",
              "      <td>2.0</td>\n",
              "      <td>9.0</td>\n",
              "      <td>1</td>\n",
              "      <td>2</td>\n",
              "      <td>42 tỷ</td>\n",
              "      <td>Đường Bùi Thị Xuân, Phường Bến Thành, Quận 1,...</td>\n",
              "      <td>5.0</td>\n",
              "    </tr>\n",
              "    <tr>\n",
              "      <th>16604</th>\n",
              "      <td>2022-09-23</td>\n",
              "      <td>Quận Gò Vấp</td>\n",
              "      <td>HCM</td>\n",
              "      <td>2.3</td>\n",
              "      <td>Biệt thự, nhà liền kề</td>\n",
              "      <td>Yes</td>\n",
              "      <td>15.0</td>\n",
              "      <td>15-20m</td>\n",
              "      <td>114.0</td>\n",
              "      <td>19.0</td>\n",
              "      <td>6.0</td>\n",
              "      <td>5</td>\n",
              "      <td>5</td>\n",
              "      <td>27 tỷ</td>\n",
              "      <td>Đường Phan Văn Trị, Phường 5, Quận Gò Vấp, Hồ...</td>\n",
              "      <td>5.0</td>\n",
              "    </tr>\n",
              "    <tr>\n",
              "      <th>4838</th>\n",
              "      <td>2022-09-23</td>\n",
              "      <td>Quận Tân Bình</td>\n",
              "      <td>HCM</td>\n",
              "      <td>2.5</td>\n",
              "      <td>Biệt thự, nhà liền kề</td>\n",
              "      <td>Yes</td>\n",
              "      <td>8.0</td>\n",
              "      <td>Dưới 10</td>\n",
              "      <td>160.0</td>\n",
              "      <td>16.0</td>\n",
              "      <td>1.0</td>\n",
              "      <td>50</td>\n",
              "      <td>7</td>\n",
              "      <td>20 tỷ</td>\n",
              "      <td>Đường Cửu Long, Phường 2, Quận Tân Bình, Hồ C...</td>\n",
              "      <td>2.0</td>\n",
              "    </tr>\n",
              "  </tbody>\n",
              "</table>\n",
              "</div>\n",
              "      <button class=\"colab-df-convert\" onclick=\"convertToInteractive('df-8dc29365-3c4b-447c-93dc-771f461e0e27')\"\n",
              "              title=\"Convert this dataframe to an interactive table.\"\n",
              "              style=\"display:none;\">\n",
              "        \n",
              "  <svg xmlns=\"http://www.w3.org/2000/svg\" height=\"24px\"viewBox=\"0 0 24 24\"\n",
              "       width=\"24px\">\n",
              "    <path d=\"M0 0h24v24H0V0z\" fill=\"none\"/>\n",
              "    <path d=\"M18.56 5.44l.94 2.06.94-2.06 2.06-.94-2.06-.94-.94-2.06-.94 2.06-2.06.94zm-11 1L8.5 8.5l.94-2.06 2.06-.94-2.06-.94L8.5 2.5l-.94 2.06-2.06.94zm10 10l.94 2.06.94-2.06 2.06-.94-2.06-.94-.94-2.06-.94 2.06-2.06.94z\"/><path d=\"M17.41 7.96l-1.37-1.37c-.4-.4-.92-.59-1.43-.59-.52 0-1.04.2-1.43.59L10.3 9.45l-7.72 7.72c-.78.78-.78 2.05 0 2.83L4 21.41c.39.39.9.59 1.41.59.51 0 1.02-.2 1.41-.59l7.78-7.78 2.81-2.81c.8-.78.8-2.07 0-2.86zM5.41 20L4 18.59l7.72-7.72 1.47 1.35L5.41 20z\"/>\n",
              "  </svg>\n",
              "      </button>\n",
              "      \n",
              "  <style>\n",
              "    .colab-df-container {\n",
              "      display:flex;\n",
              "      flex-wrap:wrap;\n",
              "      gap: 12px;\n",
              "    }\n",
              "\n",
              "    .colab-df-convert {\n",
              "      background-color: #E8F0FE;\n",
              "      border: none;\n",
              "      border-radius: 50%;\n",
              "      cursor: pointer;\n",
              "      display: none;\n",
              "      fill: #1967D2;\n",
              "      height: 32px;\n",
              "      padding: 0 0 0 0;\n",
              "      width: 32px;\n",
              "    }\n",
              "\n",
              "    .colab-df-convert:hover {\n",
              "      background-color: #E2EBFA;\n",
              "      box-shadow: 0px 1px 2px rgba(60, 64, 67, 0.3), 0px 1px 3px 1px rgba(60, 64, 67, 0.15);\n",
              "      fill: #174EA6;\n",
              "    }\n",
              "\n",
              "    [theme=dark] .colab-df-convert {\n",
              "      background-color: #3B4455;\n",
              "      fill: #D2E3FC;\n",
              "    }\n",
              "\n",
              "    [theme=dark] .colab-df-convert:hover {\n",
              "      background-color: #434B5C;\n",
              "      box-shadow: 0px 1px 3px 1px rgba(0, 0, 0, 0.15);\n",
              "      filter: drop-shadow(0px 1px 2px rgba(0, 0, 0, 0.3));\n",
              "      fill: #FFFFFF;\n",
              "    }\n",
              "  </style>\n",
              "\n",
              "      <script>\n",
              "        const buttonEl =\n",
              "          document.querySelector('#df-8dc29365-3c4b-447c-93dc-771f461e0e27 button.colab-df-convert');\n",
              "        buttonEl.style.display =\n",
              "          google.colab.kernel.accessAllowed ? 'block' : 'none';\n",
              "\n",
              "        async function convertToInteractive(key) {\n",
              "          const element = document.querySelector('#df-8dc29365-3c4b-447c-93dc-771f461e0e27');\n",
              "          const dataTable =\n",
              "            await google.colab.kernel.invokeFunction('convertToInteractive',\n",
              "                                                     [key], {});\n",
              "          if (!dataTable) return;\n",
              "\n",
              "          const docLinkHtml = 'Like what you see? Visit the ' +\n",
              "            '<a target=\"_blank\" href=https://colab.research.google.com/notebooks/data_table.ipynb>data table notebook</a>'\n",
              "            + ' to learn more about interactive tables.';\n",
              "          element.innerHTML = '';\n",
              "          dataTable['output_type'] = 'display_data';\n",
              "          await google.colab.output.renderOutput(dataTable, element);\n",
              "          const docLink = document.createElement('div');\n",
              "          docLink.innerHTML = docLinkHtml;\n",
              "          element.appendChild(docLink);\n",
              "        }\n",
              "      </script>\n",
              "    </div>\n",
              "  </div>\n",
              "  "
            ],
            "text/plain": [
              "            Date       District Province  Hsdieuchinh          Type_of_house  \\\n",
              "12480 2022-09-23  Quận Tân Bình      HCM          2.5  Biệt thự, nhà liền kề   \n",
              "18161 2022-09-23         Quận 1      HCM          2.5  Biệt thự, nhà liền kề   \n",
              "18162 2022-09-23         Quận 1      HCM          2.5  Biệt thự, nhà liền kề   \n",
              "16604 2022-09-23    Quận Gò Vấp      HCM          2.3  Biệt thự, nhà liền kề   \n",
              "4838  2022-09-23  Quận Tân Bình      HCM          2.5  Biệt thự, nhà liền kề   \n",
              "\n",
              "      Legal_paper   WOS WOS_Segment   Area  Length  Width  Rooms  Floors  \\\n",
              "12480         Yes   7.0     Dưới 10   85.0     NaN    1.0      6       4   \n",
              "18161          No   7.0     Dưới 10  162.0     2.0    9.0      1       2   \n",
              "18162          No   7.0     Dưới 10  162.0     2.0    9.0      1       2   \n",
              "16604         Yes  15.0      15-20m  114.0    19.0    6.0      5       5   \n",
              "4838          Yes   8.0     Dưới 10  160.0    16.0    1.0     50       7   \n",
              "\n",
              "         Price                                            Address  Weight  \n",
              "12480  20.8 tỷ   Đường Bạch Đằng, Phường 2, Quận Tân Bình, Hồ ...     4.0  \n",
              "18161    42 tỷ   Đường Sương Nguyệt Ánh, Phường Bến Thành, Quậ...     4.0  \n",
              "18162    42 tỷ   Đường Bùi Thị Xuân, Phường Bến Thành, Quận 1,...     5.0  \n",
              "16604    27 tỷ   Đường Phan Văn Trị, Phường 5, Quận Gò Vấp, Hồ...     5.0  \n",
              "4838     20 tỷ   Đường Cửu Long, Phường 2, Quận Tân Bình, Hồ C...     2.0  "
            ]
          },
          "execution_count": 42,
          "metadata": {},
          "output_type": "execute_result"
        }
      ],
      "source": [
        "df.head()"
      ]
    },
    {
      "cell_type": "markdown",
      "metadata": {
        "id": "H-GBQoRNIkp3"
      },
      "source": [
        "###**Square_meter_area**"
      ]
    },
    {
      "cell_type": "code",
      "execution_count": null,
      "metadata": {
        "id": "JmZkLP7f84g3"
      },
      "outputs": [],
      "source": [
        "df['Area'] = df['Area'].astype(float)"
      ]
    },
    {
      "cell_type": "code",
      "execution_count": null,
      "metadata": {
        "id": "TxJ4O0XDXtkf"
      },
      "outputs": [],
      "source": [
        "df['Area'] = df['Area'].fillna(method=\"ffill\")"
      ]
    },
    {
      "cell_type": "code",
      "execution_count": null,
      "metadata": {
        "colab": {
          "base_uri": "https://localhost:8080/"
        },
        "id": "pajaVtas0t9D",
        "outputId": "3e8e5844-eb64-438e-f1b1-90bbbd6c36f2"
      },
      "outputs": [
        {
          "name": "stdout",
          "output_type": "stream",
          "text": [
            "<class 'pandas.core.frame.DataFrame'>\n",
            "Int64Index: 25524 entries, 12480 to 4746\n",
            "Data columns (total 16 columns):\n",
            " #   Column         Non-Null Count  Dtype         \n",
            "---  ------         --------------  -----         \n",
            " 0   Date           25524 non-null  datetime64[ns]\n",
            " 1   District       25524 non-null  object        \n",
            " 2   Province       25524 non-null  object        \n",
            " 3   Hsdieuchinh    25524 non-null  float64       \n",
            " 4   Type_of_house  25524 non-null  object        \n",
            " 5   Legal_paper    25524 non-null  object        \n",
            " 6   WOS            25524 non-null  float64       \n",
            " 7   WOS_Segment    25524 non-null  object        \n",
            " 8   Area           25524 non-null  float64       \n",
            " 9   Length         19780 non-null  float64       \n",
            " 10  Width          20409 non-null  float64       \n",
            " 11  Rooms          25524 non-null  int64         \n",
            " 12  Floors         25524 non-null  int64         \n",
            " 13  Price          25510 non-null  object        \n",
            " 14  Address        25524 non-null  object        \n",
            " 15  Weight         25524 non-null  float64       \n",
            "dtypes: datetime64[ns](1), float64(6), int64(2), object(7)\n",
            "memory usage: 3.3+ MB\n"
          ]
        }
      ],
      "source": [
        "df.info()"
      ]
    },
    {
      "cell_type": "markdown",
      "metadata": {
        "id": "e-GftZD7Ipeb"
      },
      "source": [
        "###**Length and Width**"
      ]
    },
    {
      "cell_type": "code",
      "execution_count": null,
      "metadata": {
        "id": "zwlLT6N185-v"
      },
      "outputs": [],
      "source": [
        "df['Length'] = df['Length'].astype(float)"
      ]
    },
    {
      "cell_type": "code",
      "execution_count": null,
      "metadata": {
        "id": "rdhrpk9UMlvv"
      },
      "outputs": [],
      "source": [
        "df[\"Width\"] = df[\"Width\"].astype(float)"
      ]
    },
    {
      "cell_type": "code",
      "execution_count": null,
      "metadata": {
        "colab": {
          "base_uri": "https://localhost:8080/",
          "height": 93
        },
        "id": "b2Zll9QhNsa_",
        "outputId": "1d81ea1a-808d-45b7-b9e0-623c8c7d77b0"
      },
      "outputs": [
        {
          "data": {
            "text/html": [
              "\n",
              "  <div id=\"df-d7c6be7b-139b-4ff0-bffe-a56182a62809\">\n",
              "    <div class=\"colab-df-container\">\n",
              "      <div>\n",
              "<style scoped>\n",
              "    .dataframe tbody tr th:only-of-type {\n",
              "        vertical-align: middle;\n",
              "    }\n",
              "\n",
              "    .dataframe tbody tr th {\n",
              "        vertical-align: top;\n",
              "    }\n",
              "\n",
              "    .dataframe thead th {\n",
              "        text-align: right;\n",
              "    }\n",
              "</style>\n",
              "<table border=\"1\" class=\"dataframe\">\n",
              "  <thead>\n",
              "    <tr style=\"text-align: right;\">\n",
              "      <th></th>\n",
              "      <th>Date</th>\n",
              "      <th>District</th>\n",
              "      <th>Province</th>\n",
              "      <th>Hsdieuchinh</th>\n",
              "      <th>Type_of_house</th>\n",
              "      <th>Legal_paper</th>\n",
              "      <th>WOS</th>\n",
              "      <th>WOS_Segment</th>\n",
              "      <th>Area</th>\n",
              "      <th>Length</th>\n",
              "      <th>Width</th>\n",
              "      <th>Rooms</th>\n",
              "      <th>Floors</th>\n",
              "      <th>Price</th>\n",
              "      <th>Address</th>\n",
              "      <th>Weight</th>\n",
              "    </tr>\n",
              "  </thead>\n",
              "  <tbody>\n",
              "  </tbody>\n",
              "</table>\n",
              "</div>\n",
              "      <button class=\"colab-df-convert\" onclick=\"convertToInteractive('df-d7c6be7b-139b-4ff0-bffe-a56182a62809')\"\n",
              "              title=\"Convert this dataframe to an interactive table.\"\n",
              "              style=\"display:none;\">\n",
              "        \n",
              "  <svg xmlns=\"http://www.w3.org/2000/svg\" height=\"24px\"viewBox=\"0 0 24 24\"\n",
              "       width=\"24px\">\n",
              "    <path d=\"M0 0h24v24H0V0z\" fill=\"none\"/>\n",
              "    <path d=\"M18.56 5.44l.94 2.06.94-2.06 2.06-.94-2.06-.94-.94-2.06-.94 2.06-2.06.94zm-11 1L8.5 8.5l.94-2.06 2.06-.94-2.06-.94L8.5 2.5l-.94 2.06-2.06.94zm10 10l.94 2.06.94-2.06 2.06-.94-2.06-.94-.94-2.06-.94 2.06-2.06.94z\"/><path d=\"M17.41 7.96l-1.37-1.37c-.4-.4-.92-.59-1.43-.59-.52 0-1.04.2-1.43.59L10.3 9.45l-7.72 7.72c-.78.78-.78 2.05 0 2.83L4 21.41c.39.39.9.59 1.41.59.51 0 1.02-.2 1.41-.59l7.78-7.78 2.81-2.81c.8-.78.8-2.07 0-2.86zM5.41 20L4 18.59l7.72-7.72 1.47 1.35L5.41 20z\"/>\n",
              "  </svg>\n",
              "      </button>\n",
              "      \n",
              "  <style>\n",
              "    .colab-df-container {\n",
              "      display:flex;\n",
              "      flex-wrap:wrap;\n",
              "      gap: 12px;\n",
              "    }\n",
              "\n",
              "    .colab-df-convert {\n",
              "      background-color: #E8F0FE;\n",
              "      border: none;\n",
              "      border-radius: 50%;\n",
              "      cursor: pointer;\n",
              "      display: none;\n",
              "      fill: #1967D2;\n",
              "      height: 32px;\n",
              "      padding: 0 0 0 0;\n",
              "      width: 32px;\n",
              "    }\n",
              "\n",
              "    .colab-df-convert:hover {\n",
              "      background-color: #E2EBFA;\n",
              "      box-shadow: 0px 1px 2px rgba(60, 64, 67, 0.3), 0px 1px 3px 1px rgba(60, 64, 67, 0.15);\n",
              "      fill: #174EA6;\n",
              "    }\n",
              "\n",
              "    [theme=dark] .colab-df-convert {\n",
              "      background-color: #3B4455;\n",
              "      fill: #D2E3FC;\n",
              "    }\n",
              "\n",
              "    [theme=dark] .colab-df-convert:hover {\n",
              "      background-color: #434B5C;\n",
              "      box-shadow: 0px 1px 3px 1px rgba(0, 0, 0, 0.15);\n",
              "      filter: drop-shadow(0px 1px 2px rgba(0, 0, 0, 0.3));\n",
              "      fill: #FFFFFF;\n",
              "    }\n",
              "  </style>\n",
              "\n",
              "      <script>\n",
              "        const buttonEl =\n",
              "          document.querySelector('#df-d7c6be7b-139b-4ff0-bffe-a56182a62809 button.colab-df-convert');\n",
              "        buttonEl.style.display =\n",
              "          google.colab.kernel.accessAllowed ? 'block' : 'none';\n",
              "\n",
              "        async function convertToInteractive(key) {\n",
              "          const element = document.querySelector('#df-d7c6be7b-139b-4ff0-bffe-a56182a62809');\n",
              "          const dataTable =\n",
              "            await google.colab.kernel.invokeFunction('convertToInteractive',\n",
              "                                                     [key], {});\n",
              "          if (!dataTable) return;\n",
              "\n",
              "          const docLinkHtml = 'Like what you see? Visit the ' +\n",
              "            '<a target=\"_blank\" href=https://colab.research.google.com/notebooks/data_table.ipynb>data table notebook</a>'\n",
              "            + ' to learn more about interactive tables.';\n",
              "          element.innerHTML = '';\n",
              "          dataTable['output_type'] = 'display_data';\n",
              "          await google.colab.output.renderOutput(dataTable, element);\n",
              "          const docLink = document.createElement('div');\n",
              "          docLink.innerHTML = docLinkHtml;\n",
              "          element.appendChild(docLink);\n",
              "        }\n",
              "      </script>\n",
              "    </div>\n",
              "  </div>\n",
              "  "
            ],
            "text/plain": [
              "Empty DataFrame\n",
              "Columns: [Date, District, Province, Hsdieuchinh, Type_of_house, Legal_paper, WOS, WOS_Segment, Area, Length, Width, Rooms, Floors, Price, Address, Weight]\n",
              "Index: []"
            ]
          },
          "execution_count": 48,
          "metadata": {},
          "output_type": "execute_result"
        }
      ],
      "source": [
        "df.loc[df[\"Length\"] == None]"
      ]
    },
    {
      "cell_type": "code",
      "execution_count": null,
      "metadata": {
        "id": "NgpiEmm-NX-w"
      },
      "outputs": [],
      "source": [
        "df['Length'] = df['Length'].where(df['Length'] != None, df['Area']/df['Width'] )"
      ]
    },
    {
      "cell_type": "code",
      "execution_count": null,
      "metadata": {
        "id": "sSzcxK5y_DmZ"
      },
      "outputs": [],
      "source": [
        "df['Width'] = df['Width'].where(df['Width'] != None, df['Area']/df['Length'] )"
      ]
    },
    {
      "cell_type": "code",
      "execution_count": null,
      "metadata": {
        "id": "HxT0J4KU_NH4"
      },
      "outputs": [],
      "source": [
        "df['Width'] = df['Width'].fillna(df['Area']/4)"
      ]
    },
    {
      "cell_type": "code",
      "execution_count": null,
      "metadata": {
        "id": "WMyc5cTZ_ZJA"
      },
      "outputs": [],
      "source": [
        "df['Length'] = df['Length'].fillna(3*df['Area']/4)"
      ]
    },
    {
      "cell_type": "code",
      "execution_count": null,
      "metadata": {
        "colab": {
          "base_uri": "https://localhost:8080/"
        },
        "id": "KrkEDSN2KiYy",
        "outputId": "db5f0ce5-3ada-407b-dacb-bbae5188a7b5"
      },
      "outputs": [
        {
          "name": "stdout",
          "output_type": "stream",
          "text": [
            "<class 'pandas.core.frame.DataFrame'>\n",
            "Int64Index: 25524 entries, 12480 to 4746\n",
            "Data columns (total 16 columns):\n",
            " #   Column         Non-Null Count  Dtype         \n",
            "---  ------         --------------  -----         \n",
            " 0   Date           25524 non-null  datetime64[ns]\n",
            " 1   District       25524 non-null  object        \n",
            " 2   Province       25524 non-null  object        \n",
            " 3   Hsdieuchinh    25524 non-null  float64       \n",
            " 4   Type_of_house  25524 non-null  object        \n",
            " 5   Legal_paper    25524 non-null  object        \n",
            " 6   WOS            25524 non-null  float64       \n",
            " 7   WOS_Segment    25524 non-null  object        \n",
            " 8   Area           25524 non-null  float64       \n",
            " 9   Length         25524 non-null  float64       \n",
            " 10  Width          25524 non-null  float64       \n",
            " 11  Rooms          25524 non-null  int64         \n",
            " 12  Floors         25524 non-null  int64         \n",
            " 13  Price          25510 non-null  object        \n",
            " 14  Address        25524 non-null  object        \n",
            " 15  Weight         25524 non-null  float64       \n",
            "dtypes: datetime64[ns](1), float64(6), int64(2), object(7)\n",
            "memory usage: 3.3+ MB\n"
          ]
        }
      ],
      "source": [
        "df.info()"
      ]
    },
    {
      "cell_type": "markdown",
      "metadata": {
        "id": "271-Soz2JDjn"
      },
      "source": [
        "###**Price_in_million**"
      ]
    },
    {
      "cell_type": "code",
      "execution_count": null,
      "metadata": {
        "id": "MXn3kY6VzMCz"
      },
      "outputs": [],
      "source": [
        "df = df.dropna()"
      ]
    },
    {
      "cell_type": "code",
      "execution_count": null,
      "metadata": {
        "colab": {
          "base_uri": "https://localhost:8080/"
        },
        "id": "IjYr5uAKtHhO",
        "outputId": "6dbe8da2-5b54-4cd9-a465-17aee0ec412d"
      },
      "outputs": [
        {
          "name": "stdout",
          "output_type": "stream",
          "text": [
            "<class 'pandas.core.frame.DataFrame'>\n",
            "Int64Index: 25510 entries, 12480 to 4746\n",
            "Data columns (total 16 columns):\n",
            " #   Column         Non-Null Count  Dtype         \n",
            "---  ------         --------------  -----         \n",
            " 0   Date           25510 non-null  datetime64[ns]\n",
            " 1   District       25510 non-null  object        \n",
            " 2   Province       25510 non-null  object        \n",
            " 3   Hsdieuchinh    25510 non-null  float64       \n",
            " 4   Type_of_house  25510 non-null  object        \n",
            " 5   Legal_paper    25510 non-null  object        \n",
            " 6   WOS            25510 non-null  float64       \n",
            " 7   WOS_Segment    25510 non-null  object        \n",
            " 8   Area           25510 non-null  float64       \n",
            " 9   Length         25510 non-null  float64       \n",
            " 10  Width          25510 non-null  float64       \n",
            " 11  Rooms          25510 non-null  int64         \n",
            " 12  Floors         25510 non-null  int64         \n",
            " 13  Price          25510 non-null  object        \n",
            " 14  Address        25510 non-null  object        \n",
            " 15  Weight         25510 non-null  float64       \n",
            "dtypes: datetime64[ns](1), float64(6), int64(2), object(7)\n",
            "memory usage: 3.3+ MB\n"
          ]
        }
      ],
      "source": [
        "df.info()"
      ]
    },
    {
      "cell_type": "code",
      "execution_count": null,
      "metadata": {
        "colab": {
          "base_uri": "https://localhost:8080/"
        },
        "id": "YY2vXmHGCf2A",
        "outputId": "cd91d33e-cc3f-4d86-c564-b96f70df598a"
      },
      "outputs": [
        {
          "data": {
            "text/plain": [
              "array(['20.8 tỷ', '42 tỷ', '42 tỷ', '27 tỷ', '20 tỷ', '19 tỷ', '30 tỷ',\n",
              "       '43 tỷ', '13.5 tỷ', '36 tỷ', '70 tỷ', '9.9 tỷ', '18.9 tỷ', '28 tỷ',\n",
              "       '48 tỷ', '24 tỷ', '14.8 tỷ', '5.58 tỷ', '11.4 tỷ', '65 tỷ',\n",
              "       '171.6 tỷ', '22 tỷ', '42 tỷ', '5.25 tỷ', '23 tỷ', '18 tỷ', '28 tỷ',\n",
              "       '55 tỷ', '51 tỷ', '28.5 tỷ', '49 tỷ', '52 tỷ', '10.8 tỷ', '6 tỷ',\n",
              "       '13.6 tỷ', '150 tỷ', '70 tỷ', '20 tỷ', '10.3 tỷ', '100 triệu/m2',\n",
              "       '8.6 tỷ', '17 tỷ', '23.2 tỷ', '5.59 tỷ', '45 tỷ', '90 tỷ',\n",
              "       '190 tỷ', '110 tỷ', '26.5 tỷ', '34.5 tỷ', '70 tỷ', '43 tỷ',\n",
              "       '45 tỷ', '8.5 tỷ', '10.2 tỷ', '200 tỷ', '30.7 tỷ', '24.7 tỷ',\n",
              "       '40 tỷ', '125 tỷ', '14.6 tỷ', '38 tỷ', '132 tỷ', '49 tỷ',\n",
              "       '18.5 tỷ', '61 tỷ', '62 tỷ', '25 tỷ', '38 tỷ', '36 tỷ', '11.5 tỷ',\n",
              "       '7.7 tỷ', '50 tỷ', '25 tỷ', '45 tỷ', '95 tỷ', '200 tỷ', '63 tỷ',\n",
              "       '63 tỷ', '10.5 tỷ', '35 tỷ', '71 tỷ', '28 tỷ', '19 tỷ', '67 tỷ',\n",
              "       '5 tỷ', '22 tỷ', '20.5 tỷ', '23.8 tỷ', '23 tỷ', '28 tỷ', '14 tỷ',\n",
              "       '32 tỷ', '85 tỷ', '67 tỷ', '72 tỷ', '23 tỷ', '43 tỷ', '12.5 tỷ',\n",
              "       '21 tỷ', '86 tỷ', '10.7 tỷ', '35 tỷ', '8.5 tỷ', '14.5 tỷ',\n",
              "       '120 tỷ', '18 tỷ', '56 tỷ', '10 tỷ', '17 tỷ', '11 tỷ', '24 tỷ',\n",
              "       '45 tỷ', '54 tỷ', '26.9 tỷ', '35 tỷ', '35 tỷ', '11.9 tỷ', '18 tỷ',\n",
              "       '47.5 tỷ', '40 tỷ', '27 tỷ', '8 tỷ', '4.48 tỷ', '13.3 tỷ',\n",
              "       '110 tỷ', '12.2 tỷ', '24 tỷ', '13 tỷ', '26 tỷ', '40 tỷ', '85 tỷ',\n",
              "       '23.5 tỷ', '270 tỷ', '36 tỷ', '11.8 tỷ', '57 tỷ', '12.9 tỷ',\n",
              "       '39 tỷ', '12.9 tỷ', '45 tỷ', '20.5 tỷ', '24.5 tỷ', '19.5 tỷ',\n",
              "       '28 tỷ', '45 tỷ', '50 tỷ', '25 tỷ', '100 tỷ', '4.8 tỷ', '50 tỷ',\n",
              "       '83 tỷ', '15.2 tỷ', '27.5 tỷ', '46 tỷ', '8.9 tỷ', '30 tỷ', '52 tỷ',\n",
              "       '45 tỷ', '50 tỷ', '17 tỷ', '25 tỷ', '230 tỷ', '53 tỷ', '65 tỷ',\n",
              "       '60 tỷ', '34 tỷ', '22 tỷ', '100 tỷ', '14.5 tỷ', '138 tỷ', '20 tỷ',\n",
              "       '13.5 tỷ', '22.5 tỷ', '11.3 tỷ', '22.5 tỷ', '110 tỷ', '4.8 tỷ',\n",
              "       '12 tỷ', '33.5 tỷ', '16.5 tỷ', '38 tỷ', '47 tỷ', '46 tỷ', '6.9 tỷ',\n",
              "       '6.6 tỷ', '12.9 tỷ', '9.65 tỷ', '27.9 tỷ', '9.3 tỷ', '11.2 tỷ',\n",
              "       '19 tỷ', '13 tỷ', '139 tỷ', '57 tỷ', '24 tỷ', '10.8 tỷ',\n",
              "       '12.98 tỷ', '80.5 tỷ', '49.8 tỷ', '24 tỷ', '8.9 tỷ', '71 tỷ',\n",
              "       '30 tỷ', '7.6 tỷ', '30 tỷ', '30 tỷ', '13.7 tỷ', '53 tỷ', '9 tỷ',\n",
              "       '25 tỷ', '6.79 tỷ', '6 tỷ', '9 tỷ', '14.5 tỷ', '6.6 tỷ', '10 tỷ',\n",
              "       '8 tỷ', '23 tỷ', '6 tỷ', '16 tỷ', '34 tỷ', '25.8 tỷ', '6.8 tỷ',\n",
              "       '9.68 tỷ', '34 tỷ', '34 tỷ', '25.8 tỷ', '29.8 tỷ', '8 tỷ', '48 tỷ',\n",
              "       '60 tỷ', '14.5 tỷ', '90 tỷ', '18.9 tỷ', '60 tỷ', '24.9 tỷ', '7 tỷ',\n",
              "       '7.2 tỷ', '7 tỷ', '6 tỷ', '6.4 tỷ', '6 tỷ', '24.5 tỷ', '82 tỷ',\n",
              "       '60 tỷ', '31 tỷ', '32 tỷ', '33 tỷ', '5 tỷ', '7 tỷ', '20.2 tỷ',\n",
              "       '139 tỷ', '19.5 tỷ', '69 tỷ', '85 tỷ', '85 tỷ', '51 tỷ', '16.5 tỷ',\n",
              "       '20 tỷ', '18 tỷ', '20.5 tỷ', '13.8 tỷ', '20 tỷ', '17.9 tỷ',\n",
              "       '31 tỷ', '46 tỷ', '23.5 tỷ', '34 tỷ', '28.6 tỷ', '7.7 tỷ',\n",
              "       '34.5 tỷ', '142 tỷ', '25.2 tỷ', '30.5 tỷ', '21 tỷ', '65 tỷ',\n",
              "       '142 tỷ', '185 tỷ', '58 tỷ', '83 tỷ', '85 tỷ', '86 tỷ', '110 tỷ',\n",
              "       '44.8 tỷ', '68 tỷ', '13 tỷ', '71 tỷ', '42 tỷ', '58 tỷ', '12.8 tỷ',\n",
              "       '25 tỷ', '69 tỷ', '29 tỷ', '19 tỷ', '180 triệu/m2', '11 tỷ',\n",
              "       '5.5 tỷ', '7 tỷ', '60 tỷ', '7.6 tỷ', '21.9 tỷ', '6.7 tỷ', '125 tỷ',\n",
              "       '13.5 tỷ', '17.5 tỷ', '10.2 tỷ', '64 tỷ', '73 tỷ', '148 tỷ',\n",
              "       '8.6 tỷ', '225 tỷ', '11.5 tỷ', '9.3 tỷ', '15 tỷ', '7.5 tỷ',\n",
              "       '17.8 tỷ', '22 tỷ', '14 tỷ', '90 tỷ', '170 tỷ', '14.5 tỷ', '32 tỷ',\n",
              "       '33 tỷ', '4.85 tỷ', '21 tỷ', '52 tỷ', '80 tỷ', '25 tỷ', '20.8 tỷ',\n",
              "       '12.5 tỷ', '32 tỷ', '25 tỷ', '50 tỷ', '10.5 tỷ', '12 tỷ', '9.9 tỷ',\n",
              "       '28 tỷ', '29.8 tỷ', '83 tỷ', '34 tỷ', '63 tỷ', '23 tỷ', '45 tỷ',\n",
              "       '43.26 tỷ', '145 tỷ', '150 tỷ', '34 tỷ', '82 tỷ', '65 tỷ', '85 tỷ',\n",
              "       '160 tỷ', '85 tỷ', '56 tỷ', '46 tỷ', '41 tỷ', '42 tỷ', '115 tỷ',\n",
              "       '34 tỷ', '145 tỷ', '55 tỷ', '80 tỷ', '49.5 tỷ', '85 tỷ', '99 tỷ',\n",
              "       '106 tỷ', '295 triệu/m2', '70 tỷ', '250 tỷ', '60 tỷ', '175 tỷ',\n",
              "       '200 tỷ', '149 tỷ', '90 tỷ', '17.5 tỷ', '12 tỷ', '60 tỷ', '69 tỷ',\n",
              "       '59 tỷ', '159 tỷ', '18 tỷ', '13.95 tỷ', '99 tỷ', '62 tỷ', '110 tỷ',\n",
              "       '25 tỷ', '22 tỷ', '17.9 tỷ', '18 tỷ', '71 tỷ', '230 tỷ', '45 tỷ',\n",
              "       '32 tỷ', '128 tỷ', '33.5 tỷ', '68 tỷ', '9.2 tỷ', '66 tỷ', '10 tỷ',\n",
              "       '170 tỷ', '170 tỷ', '35 tỷ', '180 triệu/m2', '27.5 tỷ', '26 tỷ',\n",
              "       '55 tỷ', '24 tỷ', '50 tỷ', '125 tỷ', '55 tỷ', '64 tỷ', '230 tỷ',\n",
              "       '85 tỷ', '15 tỷ', '90 tỷ', '38 tỷ', '45 tỷ', '85 tỷ', '50 tỷ',\n",
              "       '30 tỷ', '45 tỷ', '25 tỷ', '123 tỷ', '2.2 tỷ', '58 tỷ', '28 tỷ',\n",
              "       '183 tỷ', '85 tỷ', '21 tỷ', '60 tỷ', '13.98 tỷ', '102 tỷ', '69 tỷ',\n",
              "       '36 tỷ', '25 tỷ', '150 tỷ', '45 tỷ', '46.49 tỷ', '68 tỷ',\n",
              "       '11.8 tỷ', '110 tỷ', '25.8 tỷ', '28 tỷ', '120 tỷ', '45 tỷ',\n",
              "       '28 tỷ', '61 tỷ', '13.5 tỷ', '17.5 tỷ', '17 tỷ', '18.3 tỷ',\n",
              "       '67 tỷ', '11.5 tỷ', '24 tỷ', '2.7 tỷ', '59.89 tỷ', '22.98 tỷ',\n",
              "       '79.9 tỷ', '24 tỷ', '22.98 tỷ', '109 tỷ', '45 tỷ', '47.9 tỷ',\n",
              "       '65 tỷ', '28 tỷ', '66 tỷ', '24 tỷ', '195 tỷ', '499 tỷ', '36 tỷ',\n",
              "       '55 tỷ', '54 tỷ', '22.5 tỷ', '22.8 tỷ', '90 tỷ', '43 tỷ', '45 tỷ',\n",
              "       '50 tỷ', '42 tỷ', '20.5 tỷ', '20 tỷ', '10.3 tỷ', '33 tỷ', '95 tỷ',\n",
              "       '29.5 tỷ', '25 tỷ', '53 tỷ', '85 tỷ', '60 tỷ', '210 tỷ', '24 tỷ',\n",
              "       '220 tỷ', '23.5 tỷ', '23.5 tỷ', '51 tỷ', '40 tỷ', '90 tỷ', '28 tỷ',\n",
              "       '140 tỷ', '85 tỷ', '115 tỷ', '51 tỷ', '34 tỷ', '15.5 tỷ',\n",
              "       '12.5 tỷ', '26 tỷ', '35 tỷ', '66 tỷ', '70 tỷ', '12 tỷ', '30.5 tỷ',\n",
              "       '21 tỷ', '23.5 tỷ', '25.8 tỷ', '9.8 tỷ', '32 tỷ', '34.8 tỷ',\n",
              "       '39.999 tỷ', '25.7 tỷ', '32 tỷ', '36 tỷ', '10.8 tỷ', '32 tỷ',\n",
              "       '35.5 tỷ', '30 tỷ', '100 tỷ', '10 tỷ', '55 tỷ', '60 tỷ', '5.5 tỷ',\n",
              "       '18 tỷ', '7.28 tỷ', '8.79 tỷ', '55 tỷ', '62 tỷ', '55 tỷ', '35 tỷ',\n",
              "       '60 tỷ', '150 tỷ', '85 tỷ', '60 tỷ', '7 tỷ', '28 tỷ', '15.99 tỷ',\n",
              "       '36 tỷ', '14.5 tỷ', '75 tỷ', '8.5 tỷ', '33 tỷ', '27.7 tỷ', '32 tỷ',\n",
              "       '13.5 tỷ', '30 tỷ', '31 tỷ', '43 tỷ', '45 tỷ', '14 tỷ', '32 tỷ',\n",
              "       '21.5 tỷ', '198 tỷ', '23 tỷ', '28 tỷ', '9.3 tỷ', '29 tỷ', '35 tỷ',\n",
              "       '20 tỷ', '20 tỷ', '54 tỷ', '73.5 tỷ', '50 tỷ', '110 tỷ', '42.5 tỷ',\n",
              "       '20.95 tỷ', '17.5 tỷ', '119 tỷ', '235 tỷ', '66 tỷ', '32 tỷ',\n",
              "       '6.8 tỷ', '4.85 tỷ', '34 tỷ', '6.8 tỷ', '110 tỷ', '30 tỷ', '57 tỷ',\n",
              "       '45 tỷ', '60 tỷ', '100 tỷ', '64.9 tỷ', '5.8 tỷ', '26 tỷ', '9.8 tỷ',\n",
              "       '17 tỷ', '31 tỷ', '55 tỷ', '37 tỷ', '20 tỷ', '30.5 tỷ', '7.9 tỷ',\n",
              "       '180 tỷ', '125 tỷ', '44 tỷ', '138 tỷ', '43 tỷ', '45 tỷ', '32 tỷ',\n",
              "       '6.1 tỷ', '17.8 tỷ', '90 tỷ', '11.7 tỷ', '5.4 tỷ', '33 tỷ',\n",
              "       '17.5 tỷ', '90 tỷ', '68 tỷ', '4.85 tỷ', '32 tỷ', '65 tỷ', '90 tỷ',\n",
              "       '85 tỷ', '70 tỷ', '70 tỷ', '85 tỷ', '9.5 tỷ', '64 tỷ', '7.5 tỷ',\n",
              "       '14 tỷ', '65 tỷ', '55 tỷ', '90 tỷ', '45 tỷ', '44 tỷ', '33 tỷ',\n",
              "       '59 tỷ', '45 tỷ', '23.9 tỷ', '13.5 tỷ', '25 tỷ', '25 tỷ', '45 tỷ',\n",
              "       '32 tỷ', '135 tỷ', '44 tỷ', '21 tỷ', '130 tỷ', '14 tỷ', '6.6 tỷ',\n",
              "       '6.3 tỷ', '39.9 tỷ', '26.5 tỷ', '21.5 tỷ', '32 tỷ', '17.9 tỷ',\n",
              "       '57 tỷ', '13.9 tỷ', '18.5 tỷ', '14.5 tỷ', '18.9 tỷ', '29.9 tỷ',\n",
              "       '55 tỷ', '14.7 tỷ', '28.8 tỷ', '31 tỷ', '22.5 tỷ', '33 tỷ',\n",
              "       '14.8 tỷ', '14.8 tỷ', '13.8 tỷ', '27 tỷ', '9.1 tỷ', '29.3 tỷ',\n",
              "       '29.5 tỷ', '25 tỷ', '22 tỷ', '32 tỷ', '10.5 tỷ', '34.98 tỷ',\n",
              "       '22.5 tỷ', '149 tỷ', '40 tỷ', '5.3 tỷ', '105 tỷ', '59 tỷ', '42 tỷ',\n",
              "       '9 tỷ', '22 tỷ', '81.5 tỷ', '25 tỷ', '142 tỷ', '68 tỷ', '60 tỷ',\n",
              "       '65 tỷ', '68 tỷ', '64 tỷ', '21 tỷ', '11.8 tỷ', '20 tỷ', '62 tỷ',\n",
              "       '33 tỷ', '92 tỷ', '30.5 tỷ', '100 triệu/m2', '400 tỷ', '56 tỷ',\n",
              "       '22 tỷ', '30 tỷ', '9.8 tỷ', '118 tỷ', '4.6 tỷ', '29 tỷ', '22 tỷ',\n",
              "       '27.5 tỷ', '45 tỷ', '9.2 tỷ', '14.8 tỷ', '59 tỷ', '52 tỷ', '35 tỷ',\n",
              "       '6 tỷ', '24.9 tỷ', '9.3 tỷ', '36 tỷ', '38 tỷ', '20 tỷ', '7.75 tỷ',\n",
              "       '22 tỷ', '16.5 tỷ', '95 tỷ', '5.75 tỷ', '12.5 tỷ', '150 triệu/m2',\n",
              "       '7.8 tỷ', '5.25 tỷ', '22.5 tỷ', '125 tỷ', '47 tỷ', '1.3 tỷ',\n",
              "       '35 tỷ', '30 tỷ', '60 tỷ', '60 tỷ', '28 tỷ', '14.8 tỷ', '19 tỷ',\n",
              "       '35 tỷ', '110 tỷ', '74 tỷ', '25 tỷ', '8.5 tỷ', '84 tỷ', '7.9 tỷ',\n",
              "       '172 triệu/m2', '8.8 tỷ', '55 tỷ', '63 tỷ', '118 tỷ', '25 tỷ',\n",
              "       '30.5 tỷ', '34 tỷ', '140 tỷ', '14.5 tỷ', '85 tỷ', '52 tỷ', '74 tỷ',\n",
              "       '52 tỷ', '27 tỷ', '33 tỷ', '65 tỷ', '28 tỷ', '80 tỷ', '151 tỷ',\n",
              "       '31.5 tỷ', '33 tỷ', '74 tỷ', '34 tỷ', '45 tỷ', '28.9 tỷ', '27 tỷ',\n",
              "       '53 tỷ', '21.5 tỷ', '15 tỷ', '35 tỷ', '36 tỷ', '29.7 tỷ',\n",
              "       '14.5 tỷ', '54.5 tỷ', '30.5 tỷ', '33.7 tỷ', '105 tỷ', '30.5 tỷ',\n",
              "       '33 tỷ', '25.5 tỷ', '32 tỷ', '15.2 tỷ', '24 tỷ', '95 tỷ', '25 tỷ',\n",
              "       '8.7 tỷ', '85 tỷ', '7.58 tỷ', '37.9 tỷ', '19 tỷ', '76 tỷ', '48 tỷ',\n",
              "       '54.5 tỷ', '36.9 tỷ', '10.5 tỷ', '30.8 tỷ', '260 tỷ', '13 tỷ',\n",
              "       '22 tỷ', '208 tỷ', '12.8 tỷ', '30 tỷ', '13.8 tỷ', '5.2 tỷ', '5 tỷ',\n",
              "       '66 tỷ', '42 tỷ', '5.8 tỷ', '37 tỷ', '34 tỷ', '12 tỷ', '38.6 tỷ',\n",
              "       '8.9 tỷ', '45 tỷ', '28.8 tỷ', '110 tỷ', '1 tỷ', ' 2.55 tỷ ',\n",
              "       ' 2.75 tỷ ', ' 3.5 tỷ ', ' 2.75 tỷ ', '4 tỷ', ' 2.6 tỷ ',\n",
              "       ' 1.26 tỷ ', ' 3.2 tỷ ', ' 3.15 tỷ ', ' 6.7 tỷ ', ' 2.08 tỷ ',\n",
              "       ' 1.46 tỷ ', ' 3.3 tỷ ', '55 triệu/m2', ' 1.5 tỷ ', '60 triệu/m2',\n",
              "       '60 triệu/m2', ' 2.2 tỷ ', ' 4.43 tỷ ', ' 2.9 tỷ ', '60 triệu/m2',\n",
              "       ' 1.95 tỷ ', '2 tỷ', ' 2.35 tỷ ', ' 38.5 tỷ ', ' 2.95 tỷ ',\n",
              "       '60 triệu/m2', ' 5.3 tỷ ', '2 tỷ', ' 2.2 tỷ ', '800 triệu',\n",
              "       ' 3.6 tỷ ', '900 triệu', ' 8.5 tỷ ', ' 1.5 tỷ ', ' 1.7 tỷ ',\n",
              "       ' 2.55 tỷ ', ' 2.2 tỷ ', ' 5.5 tỷ ', ' 2.28 tỷ ', '960 triệu',\n",
              "       ' 2.8 tỷ ', ' 10.6 tỷ ', ' 2.7 tỷ ', ' 2.4 tỷ ', ' 5.3 tỷ ',\n",
              "       ' 2.45 tỷ ', ' 1.35 tỷ ', ' 2.4 tỷ ', ' 2.1 tỷ ', ' 1.95 tỷ ',\n",
              "       ' 2.62 tỷ ', ' 2.1 tỷ ', ' 1.7 tỷ ', ' 6.1 tỷ ', ' 5.6 tỷ ',\n",
              "       ' 4.987 tỷ ', ' 3.75 tỷ ', ' 5.3 tỷ ', ' 4.7 tỷ ', ' 2.95 tỷ ',\n",
              "       ' 1.805 tỷ ', ' 4.75 tỷ ', '20 triệu/m2', ' 2.4 tỷ ',\n",
              "       '50 triệu/m2', ' 4.55 tỷ ', ' 2.9 tỷ ', ' 1.431 tỷ ', ' 4.3 tỷ ',\n",
              "       '27 triệu/m2', ' 2.75 tỷ ', ' 2.9 tỷ ', ' 9.3 tỷ ', ' 3.4 tỷ ',\n",
              "       ' 1.7 tỷ ', ' 4.3 tỷ ', ' 5.5 tỷ ', ' 4.6 tỷ ', ' 3.599 tỷ ',\n",
              "       ' 4.8 tỷ ', ' 1.88 tỷ ', '74 triệu/m2', ' 2.3 tỷ ', '120 triệu/m2',\n",
              "       ' 8.7 tỷ ', ' 2.53 tỷ ', ' 3.9 tỷ ', ' 3.4 tỷ ', ' 3.75 tỷ ',\n",
              "       '15 tỷ', ' 3.3 tỷ ', ' 2.6 tỷ ', ' 2.89 tỷ ', '50 triệu/m2',\n",
              "       ' 3.6 tỷ ', ' 1.431 tỷ ', ' 3.91 tỷ ', ' 4.3 tỷ ', ' 3.5 tỷ ',\n",
              "       ' 4.2 tỷ ', ' 4.15 tỷ ', ' 2.3 tỷ ', '3.1 tỷ', '55 triệu/m2',\n",
              "       ' 3.2 tỷ ', '2.65 tỷ', ' 1.95 tỷ ', '3 tỷ', ' 2.9 tỷ ', '3 tỷ',\n",
              "       '41 triệu/m2', ' 1.048 tỷ ', ' 4.8 tỷ ', ' 5.35 tỷ ', ' 2.6 tỷ ',\n",
              "       ' 5.5 tỷ ', ' 3.6 tỷ ', ' 4.39 tỷ ', ' 2.1 tỷ ', ' 4.5 tỷ ',\n",
              "       ' 7.7 tỷ ', '41 triệu/m2', '41 triệu/m2', ' 1.9 tỷ ', ' 3.56 tỷ ',\n",
              "       ' 1.88 tỷ ', ' 1.75 tỷ ', '45 triệu/m2', ' 8.2 tỷ ', ' 1.9 tỷ ',\n",
              "       ' 2.95 tỷ ', ' 4.45 tỷ ', ' 2.9 tỷ ', ' 3.05 tỷ ', ' 3.6 tỷ ',\n",
              "       ' 2.9 tỷ ', ' 3.75 tỷ ', ' 1.35 tỷ ', ' 2.6 tỷ ', ' 9.5 tỷ ',\n",
              "       ' 2.8 tỷ ', '655 triệu', ' 4.8 tỷ ', ' 1.6 tỷ ', ' 4.7 tỷ ',\n",
              "       '38 triệu/m2', '34 triệu/m2', ' 3.8 tỷ ', ' 7.599 tỷ ', ' 1.2 tỷ ',\n",
              "       ' 2.9 tỷ ', ' 3.75 tỷ ', ' 1.43 tỷ ', ' 7.7 tỷ ', ' 6.7 tỷ ',\n",
              "       ' 3.15 tỷ ', ' 4.7 tỷ ', ' 10.365 tỷ ', '7 tỷ', ' 6.6 tỷ ', '5 tỷ',\n",
              "       '19 tỷ', ' 2.45 tỷ ', '18 tỷ', '160 triệu/m2', ' 3.18 tỷ ',\n",
              "       ' 4.7 tỷ ', ' 5.3 tỷ ', ' 4.8 tỷ ', ' 1.6 tỷ '], dtype=object)"
            ]
          },
          "execution_count": 56,
          "metadata": {},
          "output_type": "execute_result"
        }
      ],
      "source": [
        "# Nhin xem\n",
        "np.array(df.Price)[:1000]"
      ]
    },
    {
      "cell_type": "code",
      "execution_count": null,
      "metadata": {
        "colab": {
          "base_uri": "https://localhost:8080/"
        },
        "id": "iIMoRwgPCQJT",
        "outputId": "d92ac05d-bb46-4ac5-fcc8-6ad274cb273d"
      },
      "outputs": [
        {
          "name": "stderr",
          "output_type": "stream",
          "text": [
            "/usr/local/lib/python3.7/dist-packages/pandas/core/indexing.py:1773: SettingWithCopyWarning: \n",
            "A value is trying to be set on a copy of a slice from a DataFrame.\n",
            "Try using .loc[row_indexer,col_indexer] = value instead\n",
            "\n",
            "See the caveats in the documentation: https://pandas.pydata.org/pandas-docs/stable/user_guide/indexing.html#returning-a-view-versus-a-copy\n",
            "  self._setitem_single_column(ilocs[0], value, pi)\n"
          ]
        }
      ],
      "source": [
        "df.loc[df['Price'].str.contains('triệu/m2', na=False), 'Price'] = df.loc[df['Price'].str.contains('triệu/m2', na=False), 'Price'].str.replace('triệu/m2','').astype(float) * df.loc[df['Price'].str.contains('triệu/m2', na=False), 'Area']\n",
        "df.loc[df['Price'].str.contains('tỷ/m2', na=False), 'Price'] = df.loc[df['Price'].str.contains('tỷ/m2', na=False), 'Price'].str.replace('tỷ/m2','').astype(float) * df.loc[df['Price'].str.contains('tỷ/m2', na=False), 'Area']*1000"
      ]
    },
    {
      "cell_type": "code",
      "execution_count": null,
      "metadata": {
        "id": "HWYwf5tQCxY_"
      },
      "outputs": [],
      "source": [
        "# ty va trieu\n",
        "df.loc[df['Price'].str.contains('triệu', na=False), 'Price'] = df.loc[df['Price'].str.contains('triệu', na=False), 'Price'].str.replace('triệu','').astype(float) \n",
        "df.loc[df['Price'].str.contains('tỷ', na=False), 'Price'] = df.loc[df['Price'].str.contains('tỷ', na=False), 'Price'].str.replace('tỷ','').astype(float) * 1000"
      ]
    },
    {
      "cell_type": "code",
      "execution_count": null,
      "metadata": {
        "id": "Jnm_rkSaLNsK"
      },
      "outputs": [],
      "source": [
        "# Ngan\n",
        "df.loc[df['Price'].str.contains('ngàn/m2', na=False), 'Price'] = df.loc[df['Price'].str.contains('ngàn/m2', na=False), 'Price'].str.replace('ngàn/m2','').astype(float) * df.loc[df['Price'].str.contains('ngàn/m2', na=False), 'Area']/1000"
      ]
    },
    {
      "cell_type": "code",
      "execution_count": null,
      "metadata": {
        "id": "aepWPAkAcOTH"
      },
      "outputs": [],
      "source": [
        "df[\"Price\"] = df[\"Price\"].astype(float)"
      ]
    },
    {
      "cell_type": "code",
      "execution_count": null,
      "metadata": {
        "colab": {
          "base_uri": "https://localhost:8080/",
          "height": 860
        },
        "id": "Vixl_aU7bynr",
        "outputId": "dea1b4fb-17b8-4ea8-a592-826c47c70e13"
      },
      "outputs": [
        {
          "data": {
            "text/html": [
              "\n",
              "  <div id=\"df-883189ac-cd99-4854-b030-d8badd9adc83\">\n",
              "    <div class=\"colab-df-container\">\n",
              "      <div>\n",
              "<style scoped>\n",
              "    .dataframe tbody tr th:only-of-type {\n",
              "        vertical-align: middle;\n",
              "    }\n",
              "\n",
              "    .dataframe tbody tr th {\n",
              "        vertical-align: top;\n",
              "    }\n",
              "\n",
              "    .dataframe thead th {\n",
              "        text-align: right;\n",
              "    }\n",
              "</style>\n",
              "<table border=\"1\" class=\"dataframe\">\n",
              "  <thead>\n",
              "    <tr style=\"text-align: right;\">\n",
              "      <th></th>\n",
              "      <th>Date</th>\n",
              "      <th>District</th>\n",
              "      <th>Province</th>\n",
              "      <th>Hsdieuchinh</th>\n",
              "      <th>Type_of_house</th>\n",
              "      <th>Legal_paper</th>\n",
              "      <th>WOS</th>\n",
              "      <th>WOS_Segment</th>\n",
              "      <th>Area</th>\n",
              "      <th>Length</th>\n",
              "      <th>Width</th>\n",
              "      <th>Rooms</th>\n",
              "      <th>Floors</th>\n",
              "      <th>Price</th>\n",
              "      <th>Address</th>\n",
              "      <th>Weight</th>\n",
              "    </tr>\n",
              "  </thead>\n",
              "  <tbody>\n",
              "    <tr>\n",
              "      <th>12480</th>\n",
              "      <td>2022-09-23</td>\n",
              "      <td>Quận Tân Bình</td>\n",
              "      <td>HCM</td>\n",
              "      <td>2.5</td>\n",
              "      <td>Biệt thự, nhà liền kề</td>\n",
              "      <td>Yes</td>\n",
              "      <td>7.0</td>\n",
              "      <td>Dưới 10</td>\n",
              "      <td>85.0</td>\n",
              "      <td>63.75</td>\n",
              "      <td>1.0</td>\n",
              "      <td>6</td>\n",
              "      <td>4</td>\n",
              "      <td>20800.0</td>\n",
              "      <td>Đường Bạch Đằng, Phường 2, Quận Tân Bình, Hồ ...</td>\n",
              "      <td>4.0</td>\n",
              "    </tr>\n",
              "    <tr>\n",
              "      <th>18161</th>\n",
              "      <td>2022-09-23</td>\n",
              "      <td>Quận 1</td>\n",
              "      <td>HCM</td>\n",
              "      <td>2.5</td>\n",
              "      <td>Biệt thự, nhà liền kề</td>\n",
              "      <td>No</td>\n",
              "      <td>7.0</td>\n",
              "      <td>Dưới 10</td>\n",
              "      <td>162.0</td>\n",
              "      <td>2.00</td>\n",
              "      <td>9.0</td>\n",
              "      <td>1</td>\n",
              "      <td>2</td>\n",
              "      <td>42000.0</td>\n",
              "      <td>Đường Sương Nguyệt Ánh, Phường Bến Thành, Quậ...</td>\n",
              "      <td>4.0</td>\n",
              "    </tr>\n",
              "    <tr>\n",
              "      <th>18162</th>\n",
              "      <td>2022-09-23</td>\n",
              "      <td>Quận 1</td>\n",
              "      <td>HCM</td>\n",
              "      <td>2.5</td>\n",
              "      <td>Biệt thự, nhà liền kề</td>\n",
              "      <td>No</td>\n",
              "      <td>7.0</td>\n",
              "      <td>Dưới 10</td>\n",
              "      <td>162.0</td>\n",
              "      <td>2.00</td>\n",
              "      <td>9.0</td>\n",
              "      <td>1</td>\n",
              "      <td>2</td>\n",
              "      <td>42000.0</td>\n",
              "      <td>Đường Bùi Thị Xuân, Phường Bến Thành, Quận 1,...</td>\n",
              "      <td>5.0</td>\n",
              "    </tr>\n",
              "    <tr>\n",
              "      <th>16604</th>\n",
              "      <td>2022-09-23</td>\n",
              "      <td>Quận Gò Vấp</td>\n",
              "      <td>HCM</td>\n",
              "      <td>2.3</td>\n",
              "      <td>Biệt thự, nhà liền kề</td>\n",
              "      <td>Yes</td>\n",
              "      <td>15.0</td>\n",
              "      <td>15-20m</td>\n",
              "      <td>114.0</td>\n",
              "      <td>19.00</td>\n",
              "      <td>6.0</td>\n",
              "      <td>5</td>\n",
              "      <td>5</td>\n",
              "      <td>27000.0</td>\n",
              "      <td>Đường Phan Văn Trị, Phường 5, Quận Gò Vấp, Hồ...</td>\n",
              "      <td>5.0</td>\n",
              "    </tr>\n",
              "    <tr>\n",
              "      <th>4838</th>\n",
              "      <td>2022-09-23</td>\n",
              "      <td>Quận Tân Bình</td>\n",
              "      <td>HCM</td>\n",
              "      <td>2.5</td>\n",
              "      <td>Biệt thự, nhà liền kề</td>\n",
              "      <td>Yes</td>\n",
              "      <td>8.0</td>\n",
              "      <td>Dưới 10</td>\n",
              "      <td>160.0</td>\n",
              "      <td>16.00</td>\n",
              "      <td>1.0</td>\n",
              "      <td>50</td>\n",
              "      <td>7</td>\n",
              "      <td>20000.0</td>\n",
              "      <td>Đường Cửu Long, Phường 2, Quận Tân Bình, Hồ C...</td>\n",
              "      <td>2.0</td>\n",
              "    </tr>\n",
              "  </tbody>\n",
              "</table>\n",
              "</div>\n",
              "      <button class=\"colab-df-convert\" onclick=\"convertToInteractive('df-883189ac-cd99-4854-b030-d8badd9adc83')\"\n",
              "              title=\"Convert this dataframe to an interactive table.\"\n",
              "              style=\"display:none;\">\n",
              "        \n",
              "  <svg xmlns=\"http://www.w3.org/2000/svg\" height=\"24px\"viewBox=\"0 0 24 24\"\n",
              "       width=\"24px\">\n",
              "    <path d=\"M0 0h24v24H0V0z\" fill=\"none\"/>\n",
              "    <path d=\"M18.56 5.44l.94 2.06.94-2.06 2.06-.94-2.06-.94-.94-2.06-.94 2.06-2.06.94zm-11 1L8.5 8.5l.94-2.06 2.06-.94-2.06-.94L8.5 2.5l-.94 2.06-2.06.94zm10 10l.94 2.06.94-2.06 2.06-.94-2.06-.94-.94-2.06-.94 2.06-2.06.94z\"/><path d=\"M17.41 7.96l-1.37-1.37c-.4-.4-.92-.59-1.43-.59-.52 0-1.04.2-1.43.59L10.3 9.45l-7.72 7.72c-.78.78-.78 2.05 0 2.83L4 21.41c.39.39.9.59 1.41.59.51 0 1.02-.2 1.41-.59l7.78-7.78 2.81-2.81c.8-.78.8-2.07 0-2.86zM5.41 20L4 18.59l7.72-7.72 1.47 1.35L5.41 20z\"/>\n",
              "  </svg>\n",
              "      </button>\n",
              "      \n",
              "  <style>\n",
              "    .colab-df-container {\n",
              "      display:flex;\n",
              "      flex-wrap:wrap;\n",
              "      gap: 12px;\n",
              "    }\n",
              "\n",
              "    .colab-df-convert {\n",
              "      background-color: #E8F0FE;\n",
              "      border: none;\n",
              "      border-radius: 50%;\n",
              "      cursor: pointer;\n",
              "      display: none;\n",
              "      fill: #1967D2;\n",
              "      height: 32px;\n",
              "      padding: 0 0 0 0;\n",
              "      width: 32px;\n",
              "    }\n",
              "\n",
              "    .colab-df-convert:hover {\n",
              "      background-color: #E2EBFA;\n",
              "      box-shadow: 0px 1px 2px rgba(60, 64, 67, 0.3), 0px 1px 3px 1px rgba(60, 64, 67, 0.15);\n",
              "      fill: #174EA6;\n",
              "    }\n",
              "\n",
              "    [theme=dark] .colab-df-convert {\n",
              "      background-color: #3B4455;\n",
              "      fill: #D2E3FC;\n",
              "    }\n",
              "\n",
              "    [theme=dark] .colab-df-convert:hover {\n",
              "      background-color: #434B5C;\n",
              "      box-shadow: 0px 1px 3px 1px rgba(0, 0, 0, 0.15);\n",
              "      filter: drop-shadow(0px 1px 2px rgba(0, 0, 0, 0.3));\n",
              "      fill: #FFFFFF;\n",
              "    }\n",
              "  </style>\n",
              "\n",
              "      <script>\n",
              "        const buttonEl =\n",
              "          document.querySelector('#df-883189ac-cd99-4854-b030-d8badd9adc83 button.colab-df-convert');\n",
              "        buttonEl.style.display =\n",
              "          google.colab.kernel.accessAllowed ? 'block' : 'none';\n",
              "\n",
              "        async function convertToInteractive(key) {\n",
              "          const element = document.querySelector('#df-883189ac-cd99-4854-b030-d8badd9adc83');\n",
              "          const dataTable =\n",
              "            await google.colab.kernel.invokeFunction('convertToInteractive',\n",
              "                                                     [key], {});\n",
              "          if (!dataTable) return;\n",
              "\n",
              "          const docLinkHtml = 'Like what you see? Visit the ' +\n",
              "            '<a target=\"_blank\" href=https://colab.research.google.com/notebooks/data_table.ipynb>data table notebook</a>'\n",
              "            + ' to learn more about interactive tables.';\n",
              "          element.innerHTML = '';\n",
              "          dataTable['output_type'] = 'display_data';\n",
              "          await google.colab.output.renderOutput(dataTable, element);\n",
              "          const docLink = document.createElement('div');\n",
              "          docLink.innerHTML = docLinkHtml;\n",
              "          element.appendChild(docLink);\n",
              "        }\n",
              "      </script>\n",
              "    </div>\n",
              "  </div>\n",
              "  "
            ],
            "text/plain": [
              "            Date       District Province  Hsdieuchinh          Type_of_house  \\\n",
              "12480 2022-09-23  Quận Tân Bình      HCM          2.5  Biệt thự, nhà liền kề   \n",
              "18161 2022-09-23         Quận 1      HCM          2.5  Biệt thự, nhà liền kề   \n",
              "18162 2022-09-23         Quận 1      HCM          2.5  Biệt thự, nhà liền kề   \n",
              "16604 2022-09-23    Quận Gò Vấp      HCM          2.3  Biệt thự, nhà liền kề   \n",
              "4838  2022-09-23  Quận Tân Bình      HCM          2.5  Biệt thự, nhà liền kề   \n",
              "\n",
              "      Legal_paper   WOS WOS_Segment   Area  Length  Width  Rooms  Floors  \\\n",
              "12480         Yes   7.0     Dưới 10   85.0   63.75    1.0      6       4   \n",
              "18161          No   7.0     Dưới 10  162.0    2.00    9.0      1       2   \n",
              "18162          No   7.0     Dưới 10  162.0    2.00    9.0      1       2   \n",
              "16604         Yes  15.0      15-20m  114.0   19.00    6.0      5       5   \n",
              "4838          Yes   8.0     Dưới 10  160.0   16.00    1.0     50       7   \n",
              "\n",
              "         Price                                            Address  Weight  \n",
              "12480  20800.0   Đường Bạch Đằng, Phường 2, Quận Tân Bình, Hồ ...     4.0  \n",
              "18161  42000.0   Đường Sương Nguyệt Ánh, Phường Bến Thành, Quậ...     4.0  \n",
              "18162  42000.0   Đường Bùi Thị Xuân, Phường Bến Thành, Quận 1,...     5.0  \n",
              "16604  27000.0   Đường Phan Văn Trị, Phường 5, Quận Gò Vấp, Hồ...     5.0  \n",
              "4838   20000.0   Đường Cửu Long, Phường 2, Quận Tân Bình, Hồ C...     2.0  "
            ]
          },
          "execution_count": 61,
          "metadata": {},
          "output_type": "execute_result"
        }
      ],
      "source": [
        "df.head()"
      ]
    },
    {
      "cell_type": "code",
      "execution_count": null,
      "metadata": {
        "colab": {
          "base_uri": "https://localhost:8080/"
        },
        "id": "5bntkuZGb1fY",
        "outputId": "f53e206d-8cfe-4645-a57b-f789112a8745"
      },
      "outputs": [
        {
          "name": "stdout",
          "output_type": "stream",
          "text": [
            "<class 'pandas.core.frame.DataFrame'>\n",
            "Int64Index: 25510 entries, 12480 to 4746\n",
            "Data columns (total 16 columns):\n",
            " #   Column         Non-Null Count  Dtype         \n",
            "---  ------         --------------  -----         \n",
            " 0   Date           25510 non-null  datetime64[ns]\n",
            " 1   District       25510 non-null  object        \n",
            " 2   Province       25510 non-null  object        \n",
            " 3   Hsdieuchinh    25510 non-null  float64       \n",
            " 4   Type_of_house  25510 non-null  object        \n",
            " 5   Legal_paper    25510 non-null  object        \n",
            " 6   WOS            25510 non-null  float64       \n",
            " 7   WOS_Segment    25510 non-null  object        \n",
            " 8   Area           25510 non-null  float64       \n",
            " 9   Length         25510 non-null  float64       \n",
            " 10  Width          25510 non-null  float64       \n",
            " 11  Rooms          25510 non-null  int64         \n",
            " 12  Floors         25510 non-null  int64         \n",
            " 13  Price          25510 non-null  float64       \n",
            " 14  Address        25510 non-null  object        \n",
            " 15  Weight         25510 non-null  float64       \n",
            "dtypes: datetime64[ns](1), float64(7), int64(2), object(6)\n",
            "memory usage: 3.3+ MB\n"
          ]
        }
      ],
      "source": [
        "df.info()"
      ]
    },
    {
      "cell_type": "code",
      "execution_count": null,
      "metadata": {
        "id": "XxLkhuBKLrds"
      },
      "outputs": [],
      "source": [
        "df = df.drop(['Date'], axis=1)"
      ]
    },
    {
      "cell_type": "code",
      "execution_count": null,
      "metadata": {
        "colab": {
          "base_uri": "https://localhost:8080/",
          "height": 860
        },
        "id": "2juGk3likXwB",
        "outputId": "5b50f2b5-1544-4d1c-fe55-0567335eca28"
      },
      "outputs": [
        {
          "data": {
            "text/html": [
              "\n",
              "  <div id=\"df-dd897e57-0398-4846-afb6-94741817f436\">\n",
              "    <div class=\"colab-df-container\">\n",
              "      <div>\n",
              "<style scoped>\n",
              "    .dataframe tbody tr th:only-of-type {\n",
              "        vertical-align: middle;\n",
              "    }\n",
              "\n",
              "    .dataframe tbody tr th {\n",
              "        vertical-align: top;\n",
              "    }\n",
              "\n",
              "    .dataframe thead th {\n",
              "        text-align: right;\n",
              "    }\n",
              "</style>\n",
              "<table border=\"1\" class=\"dataframe\">\n",
              "  <thead>\n",
              "    <tr style=\"text-align: right;\">\n",
              "      <th></th>\n",
              "      <th>District</th>\n",
              "      <th>Province</th>\n",
              "      <th>Hsdieuchinh</th>\n",
              "      <th>Type_of_house</th>\n",
              "      <th>Legal_paper</th>\n",
              "      <th>WOS</th>\n",
              "      <th>WOS_Segment</th>\n",
              "      <th>Area</th>\n",
              "      <th>Length</th>\n",
              "      <th>Width</th>\n",
              "      <th>Rooms</th>\n",
              "      <th>Floors</th>\n",
              "      <th>Price</th>\n",
              "      <th>Address</th>\n",
              "      <th>Weight</th>\n",
              "    </tr>\n",
              "  </thead>\n",
              "  <tbody>\n",
              "    <tr>\n",
              "      <th>12480</th>\n",
              "      <td>Quận Tân Bình</td>\n",
              "      <td>HCM</td>\n",
              "      <td>2.5</td>\n",
              "      <td>Biệt thự, nhà liền kề</td>\n",
              "      <td>Yes</td>\n",
              "      <td>7.0</td>\n",
              "      <td>Dưới 10</td>\n",
              "      <td>85.0</td>\n",
              "      <td>63.75</td>\n",
              "      <td>1.0</td>\n",
              "      <td>6</td>\n",
              "      <td>4</td>\n",
              "      <td>20800.0</td>\n",
              "      <td>Đường Bạch Đằng, Phường 2, Quận Tân Bình, Hồ ...</td>\n",
              "      <td>4.0</td>\n",
              "    </tr>\n",
              "    <tr>\n",
              "      <th>18161</th>\n",
              "      <td>Quận 1</td>\n",
              "      <td>HCM</td>\n",
              "      <td>2.5</td>\n",
              "      <td>Biệt thự, nhà liền kề</td>\n",
              "      <td>No</td>\n",
              "      <td>7.0</td>\n",
              "      <td>Dưới 10</td>\n",
              "      <td>162.0</td>\n",
              "      <td>2.00</td>\n",
              "      <td>9.0</td>\n",
              "      <td>1</td>\n",
              "      <td>2</td>\n",
              "      <td>42000.0</td>\n",
              "      <td>Đường Sương Nguyệt Ánh, Phường Bến Thành, Quậ...</td>\n",
              "      <td>4.0</td>\n",
              "    </tr>\n",
              "    <tr>\n",
              "      <th>18162</th>\n",
              "      <td>Quận 1</td>\n",
              "      <td>HCM</td>\n",
              "      <td>2.5</td>\n",
              "      <td>Biệt thự, nhà liền kề</td>\n",
              "      <td>No</td>\n",
              "      <td>7.0</td>\n",
              "      <td>Dưới 10</td>\n",
              "      <td>162.0</td>\n",
              "      <td>2.00</td>\n",
              "      <td>9.0</td>\n",
              "      <td>1</td>\n",
              "      <td>2</td>\n",
              "      <td>42000.0</td>\n",
              "      <td>Đường Bùi Thị Xuân, Phường Bến Thành, Quận 1,...</td>\n",
              "      <td>5.0</td>\n",
              "    </tr>\n",
              "    <tr>\n",
              "      <th>16604</th>\n",
              "      <td>Quận Gò Vấp</td>\n",
              "      <td>HCM</td>\n",
              "      <td>2.3</td>\n",
              "      <td>Biệt thự, nhà liền kề</td>\n",
              "      <td>Yes</td>\n",
              "      <td>15.0</td>\n",
              "      <td>15-20m</td>\n",
              "      <td>114.0</td>\n",
              "      <td>19.00</td>\n",
              "      <td>6.0</td>\n",
              "      <td>5</td>\n",
              "      <td>5</td>\n",
              "      <td>27000.0</td>\n",
              "      <td>Đường Phan Văn Trị, Phường 5, Quận Gò Vấp, Hồ...</td>\n",
              "      <td>5.0</td>\n",
              "    </tr>\n",
              "    <tr>\n",
              "      <th>4838</th>\n",
              "      <td>Quận Tân Bình</td>\n",
              "      <td>HCM</td>\n",
              "      <td>2.5</td>\n",
              "      <td>Biệt thự, nhà liền kề</td>\n",
              "      <td>Yes</td>\n",
              "      <td>8.0</td>\n",
              "      <td>Dưới 10</td>\n",
              "      <td>160.0</td>\n",
              "      <td>16.00</td>\n",
              "      <td>1.0</td>\n",
              "      <td>50</td>\n",
              "      <td>7</td>\n",
              "      <td>20000.0</td>\n",
              "      <td>Đường Cửu Long, Phường 2, Quận Tân Bình, Hồ C...</td>\n",
              "      <td>2.0</td>\n",
              "    </tr>\n",
              "  </tbody>\n",
              "</table>\n",
              "</div>\n",
              "      <button class=\"colab-df-convert\" onclick=\"convertToInteractive('df-dd897e57-0398-4846-afb6-94741817f436')\"\n",
              "              title=\"Convert this dataframe to an interactive table.\"\n",
              "              style=\"display:none;\">\n",
              "        \n",
              "  <svg xmlns=\"http://www.w3.org/2000/svg\" height=\"24px\"viewBox=\"0 0 24 24\"\n",
              "       width=\"24px\">\n",
              "    <path d=\"M0 0h24v24H0V0z\" fill=\"none\"/>\n",
              "    <path d=\"M18.56 5.44l.94 2.06.94-2.06 2.06-.94-2.06-.94-.94-2.06-.94 2.06-2.06.94zm-11 1L8.5 8.5l.94-2.06 2.06-.94-2.06-.94L8.5 2.5l-.94 2.06-2.06.94zm10 10l.94 2.06.94-2.06 2.06-.94-2.06-.94-.94-2.06-.94 2.06-2.06.94z\"/><path d=\"M17.41 7.96l-1.37-1.37c-.4-.4-.92-.59-1.43-.59-.52 0-1.04.2-1.43.59L10.3 9.45l-7.72 7.72c-.78.78-.78 2.05 0 2.83L4 21.41c.39.39.9.59 1.41.59.51 0 1.02-.2 1.41-.59l7.78-7.78 2.81-2.81c.8-.78.8-2.07 0-2.86zM5.41 20L4 18.59l7.72-7.72 1.47 1.35L5.41 20z\"/>\n",
              "  </svg>\n",
              "      </button>\n",
              "      \n",
              "  <style>\n",
              "    .colab-df-container {\n",
              "      display:flex;\n",
              "      flex-wrap:wrap;\n",
              "      gap: 12px;\n",
              "    }\n",
              "\n",
              "    .colab-df-convert {\n",
              "      background-color: #E8F0FE;\n",
              "      border: none;\n",
              "      border-radius: 50%;\n",
              "      cursor: pointer;\n",
              "      display: none;\n",
              "      fill: #1967D2;\n",
              "      height: 32px;\n",
              "      padding: 0 0 0 0;\n",
              "      width: 32px;\n",
              "    }\n",
              "\n",
              "    .colab-df-convert:hover {\n",
              "      background-color: #E2EBFA;\n",
              "      box-shadow: 0px 1px 2px rgba(60, 64, 67, 0.3), 0px 1px 3px 1px rgba(60, 64, 67, 0.15);\n",
              "      fill: #174EA6;\n",
              "    }\n",
              "\n",
              "    [theme=dark] .colab-df-convert {\n",
              "      background-color: #3B4455;\n",
              "      fill: #D2E3FC;\n",
              "    }\n",
              "\n",
              "    [theme=dark] .colab-df-convert:hover {\n",
              "      background-color: #434B5C;\n",
              "      box-shadow: 0px 1px 3px 1px rgba(0, 0, 0, 0.15);\n",
              "      filter: drop-shadow(0px 1px 2px rgba(0, 0, 0, 0.3));\n",
              "      fill: #FFFFFF;\n",
              "    }\n",
              "  </style>\n",
              "\n",
              "      <script>\n",
              "        const buttonEl =\n",
              "          document.querySelector('#df-dd897e57-0398-4846-afb6-94741817f436 button.colab-df-convert');\n",
              "        buttonEl.style.display =\n",
              "          google.colab.kernel.accessAllowed ? 'block' : 'none';\n",
              "\n",
              "        async function convertToInteractive(key) {\n",
              "          const element = document.querySelector('#df-dd897e57-0398-4846-afb6-94741817f436');\n",
              "          const dataTable =\n",
              "            await google.colab.kernel.invokeFunction('convertToInteractive',\n",
              "                                                     [key], {});\n",
              "          if (!dataTable) return;\n",
              "\n",
              "          const docLinkHtml = 'Like what you see? Visit the ' +\n",
              "            '<a target=\"_blank\" href=https://colab.research.google.com/notebooks/data_table.ipynb>data table notebook</a>'\n",
              "            + ' to learn more about interactive tables.';\n",
              "          element.innerHTML = '';\n",
              "          dataTable['output_type'] = 'display_data';\n",
              "          await google.colab.output.renderOutput(dataTable, element);\n",
              "          const docLink = document.createElement('div');\n",
              "          docLink.innerHTML = docLinkHtml;\n",
              "          element.appendChild(docLink);\n",
              "        }\n",
              "      </script>\n",
              "    </div>\n",
              "  </div>\n",
              "  "
            ],
            "text/plain": [
              "            District Province  Hsdieuchinh          Type_of_house Legal_paper  \\\n",
              "12480  Quận Tân Bình      HCM          2.5  Biệt thự, nhà liền kề         Yes   \n",
              "18161         Quận 1      HCM          2.5  Biệt thự, nhà liền kề          No   \n",
              "18162         Quận 1      HCM          2.5  Biệt thự, nhà liền kề          No   \n",
              "16604    Quận Gò Vấp      HCM          2.3  Biệt thự, nhà liền kề         Yes   \n",
              "4838   Quận Tân Bình      HCM          2.5  Biệt thự, nhà liền kề         Yes   \n",
              "\n",
              "        WOS WOS_Segment   Area  Length  Width  Rooms  Floors    Price  \\\n",
              "12480   7.0     Dưới 10   85.0   63.75    1.0      6       4  20800.0   \n",
              "18161   7.0     Dưới 10  162.0    2.00    9.0      1       2  42000.0   \n",
              "18162   7.0     Dưới 10  162.0    2.00    9.0      1       2  42000.0   \n",
              "16604  15.0      15-20m  114.0   19.00    6.0      5       5  27000.0   \n",
              "4838    8.0     Dưới 10  160.0   16.00    1.0     50       7  20000.0   \n",
              "\n",
              "                                                 Address  Weight  \n",
              "12480   Đường Bạch Đằng, Phường 2, Quận Tân Bình, Hồ ...     4.0  \n",
              "18161   Đường Sương Nguyệt Ánh, Phường Bến Thành, Quậ...     4.0  \n",
              "18162   Đường Bùi Thị Xuân, Phường Bến Thành, Quận 1,...     5.0  \n",
              "16604   Đường Phan Văn Trị, Phường 5, Quận Gò Vấp, Hồ...     5.0  \n",
              "4838    Đường Cửu Long, Phường 2, Quận Tân Bình, Hồ C...     2.0  "
            ]
          },
          "execution_count": 64,
          "metadata": {},
          "output_type": "execute_result"
        }
      ],
      "source": [
        "df.head()"
      ]
    },
    {
      "cell_type": "code",
      "execution_count": null,
      "metadata": {
        "id": "BLjmEYbOZeLO"
      },
      "outputs": [],
      "source": [
        "df = df.drop('Address', axis =1)"
      ]
    },
    {
      "cell_type": "code",
      "execution_count": null,
      "metadata": {
        "id": "Kxl2gc798JUi"
      },
      "outputs": [],
      "source": [
        "#WOS_Segment\n",
        "#df['WOS_Segment'] = df['WOS_Segment'].astype(str)"
      ]
    },
    {
      "cell_type": "markdown",
      "metadata": {
        "id": "3_BreBouf0hF"
      },
      "source": [
        "# **Step 4: Checking For Categorical**"
      ]
    },
    {
      "cell_type": "code",
      "execution_count": null,
      "metadata": {
        "colab": {
          "base_uri": "https://localhost:8080/"
        },
        "id": "uc6l9c0IgnAd",
        "outputId": "7d44c472-8b19-4b97-9e80-58078b1140f6"
      },
      "outputs": [
        {
          "name": "stdout",
          "output_type": "stream",
          "text": [
            "\n",
            "Name of Column is: District and unique values are: ['Quận Tân Bình' 'Quận 1' 'Quận Gò Vấp' 'Quận Bình Thạnh'\n",
            " 'Thành phố Thủ Đức' 'Quận Tân Phú' 'Quận 12' 'Quận 7' 'Quận 10' 'Quận 2'\n",
            " 'Quận Phú Nhuận' 'Huyện Nhà Bè' 'Quận 8' 'Huyện Hóc Môn' 'Quận 3'\n",
            " 'Quận 11' 'Quận 5' 'Quận 6' 'Quận Bình Tân' 'Huyện Bình Chánh' 'Quận 4'\n",
            " 'Quận 9' 'Huyện Củ Chi' 'Huyện Cần Giờ']\n",
            "\n",
            "Name of Column is: Province and unique values are: ['HCM']\n",
            "\n",
            "\n",
            "Name of Column is: Type_of_house and unique values are: ['Biệt thự, nhà liền kề' 'Các loại khác' 'Căn hộ chung cư' 'Kho, xưởng'\n",
            " 'Mặt bằng' 'Nhà hàng, khách sạn' 'Nhà mặt tiền' 'Nhà trong hẻm'\n",
            " 'Phòng trọ, nhà trọ' 'Shop, kiot, quán' 'Trang trại' 'Văn phòng'\n",
            " 'Đất nông, lâm nghiệp' 'Đất nền, liền kề, đất dự án' 'Đất thổ cư, đất ở']\n",
            "\n",
            "Name of Column is: Legal_paper and unique values are: ['Yes' 'No']\n",
            "\n",
            "\n",
            "Name of Column is: WOS_Segment and unique values are: ['Dưới 10' '15-20m' '10-15m' '20-30m' '30-40m' '40m+']\n",
            "\n",
            "\n",
            "\n",
            "\n",
            "\n",
            "\n",
            "\n"
          ]
        }
      ],
      "source": [
        "for col in df.columns:\n",
        "    print()\n",
        "    if df[col].dtype == 'object':\n",
        "        print(f'Name of Column is: {col} and unique values are: {df[col].unique()}')"
      ]
    },
    {
      "cell_type": "markdown",
      "metadata": {
        "id": "Ut1bl1t5oiE1"
      },
      "source": [
        "#**Step 5: Data PreProcessing And Visualizations**"
      ]
    },
    {
      "cell_type": "code",
      "execution_count": null,
      "metadata": {
        "colab": {
          "base_uri": "https://localhost:8080/"
        },
        "id": "yMYqwM3Gt8lv",
        "outputId": "43933465-342d-4b87-a87c-046b80a3f268"
      },
      "outputs": [
        {
          "name": "stdout",
          "output_type": "stream",
          "text": [
            "<class 'pandas.core.frame.DataFrame'>\n",
            "Int64Index: 25510 entries, 12480 to 4746\n",
            "Data columns (total 14 columns):\n",
            " #   Column         Non-Null Count  Dtype  \n",
            "---  ------         --------------  -----  \n",
            " 0   District       25510 non-null  object \n",
            " 1   Province       25510 non-null  object \n",
            " 2   Hsdieuchinh    25510 non-null  float64\n",
            " 3   Type_of_house  25510 non-null  object \n",
            " 4   Legal_paper    25510 non-null  object \n",
            " 5   WOS            25510 non-null  float64\n",
            " 6   WOS_Segment    25510 non-null  object \n",
            " 7   Area           25510 non-null  float64\n",
            " 8   Length         25510 non-null  float64\n",
            " 9   Width          25510 non-null  float64\n",
            " 10  Rooms          25510 non-null  int64  \n",
            " 11  Floors         25510 non-null  int64  \n",
            " 12  Price          25510 non-null  float64\n",
            " 13  Weight         25510 non-null  float64\n",
            "dtypes: float64(7), int64(2), object(5)\n",
            "memory usage: 2.9+ MB\n"
          ]
        }
      ],
      "source": [
        "df.info()"
      ]
    },
    {
      "cell_type": "code",
      "execution_count": null,
      "metadata": {
        "id": "kWtHvvE9oDqS"
      },
      "outputs": [],
      "source": [
        "#this function returns categorical variables\n",
        "def return_categorical(df):\n",
        "  categorical_columns = [column_name for column_name in df if df[column_name].dtype == 'O']\n",
        "  return categorical_columns\n",
        "\n",
        "#this function returns numerical variables\n",
        "def return_numerical(df):\n",
        "  return list(set(df.columns) - set(return_categorical(df)))\n",
        "\n",
        "def check_normal(df):\n",
        "  fig, axes = plt.subplots(1,len(return_numerical(df)), figsize =(70, 10))\n",
        "  for i,numeric_column_name in enumerate(list(set(df.columns) -set(return_categorical(df)))):\n",
        "    sns.distplot(df[numeric_column_name], ax=axes[i]);\n",
        "    plt.title(f'Distribution of {numeric_column_name}');"
      ]
    },
    {
      "cell_type": "markdown",
      "metadata": {
        "id": "aPSouiUHTbM7"
      },
      "source": [
        "##**Checking Distribution For Continuous Variables**"
      ]
    },
    {
      "cell_type": "markdown",
      "metadata": {
        "id": "pgcNxAWysTMz"
      },
      "source": [
        "##**Plots For Categorical Variables**"
      ]
    },
    {
      "cell_type": "code",
      "execution_count": null,
      "metadata": {
        "colab": {
          "base_uri": "https://localhost:8080/",
          "height": 607
        },
        "id": "bPUb-HWEpSSP",
        "outputId": "1b354f69-5812-4e85-b93a-2035a81e62cf"
      },
      "outputs": [
        {
          "data": {
            "image/png": "[encoded data removed]",
            "text/plain": [
              "<Figure size 720x720 with 4 Axes>"
            ]
          },
          "metadata": {},
          "output_type": "display_data"
        }
      ],
      "source": [
        "header = ['Floors','Rooms', 'Weight', 'WOS_Segment']\n",
        "df.hist(column=header,figsize=(10,10))\n",
        "plt.subplots_adjust(wspace = 0.5, hspace = 0.5)\n",
        "plt.show()"
      ]
    },
    {
      "cell_type": "code",
      "execution_count": null,
      "metadata": {
        "colab": {
          "base_uri": "https://localhost:8080/",
          "height": 1000
        },
        "id": "hIYd2Az_quw8",
        "outputId": "03b7d3f8-12fe-4e42-8f22-2cf75bba52e5"
      },
      "outputs": [
        {
          "data": {
            "image/png": "[encoded data removed]",
            "text/plain": [
              "<Figure size 1080x360 with 1 Axes>"
            ]
          },
          "metadata": {},
          "output_type": "display_data"
        },
        {
          "data": {
            "image/png": "[encoded data removed]",
            "text/plain": [
              "<Figure size 360x216 with 1 Axes>"
            ]
          },
          "metadata": {},
          "output_type": "display_data"
        },
        {
          "data": {
            "image/png": "[encoded data removed]",
            "text/plain": [
              "<Figure size 1080x360 with 1 Axes>"
            ]
          },
          "metadata": {},
          "output_type": "display_data"
        },
        {
          "data": {
            "image/png": "[encoded data removed]",
            "text/plain": [
              "<Figure size 360x216 with 1 Axes>"
            ]
          },
          "metadata": {},
          "output_type": "display_data"
        },
        {
          "data": {
            "image/png": "[encoded data removed]",
            "text/plain": [
              "<Figure size 360x216 with 1 Axes>"
            ]
          },
          "metadata": {},
          "output_type": "display_data"
        }
      ],
      "source": [
        "# plotting graphs for all categorical columns\n",
        "for col in return_categorical(df):\n",
        "    counts = df[col].value_counts().sort_index()\n",
        "    if len(counts) > 10:\n",
        "      fig = plt.figure(figsize=(15, 5))\n",
        "    else:\n",
        "      fig = plt.figure(figsize=(5, 3))\n",
        "    ax = fig.gca()\n",
        "    counts.plot.bar(ax = ax, color='steelblue')\n",
        "    ax.set_title(col + ' counts',fontsize=20)\n",
        "    ax.set_xlabel(col, fontsize=20) \n",
        "    ax.set_ylabel(\"Frequency\", fontsize=20)\n",
        "plt.show()"
      ]
    },
    {
      "cell_type": "markdown",
      "metadata": {
        "id": "fucKvROOtvDx"
      },
      "source": [
        "=> Dữ liệu ở phần lớn là nhà mặt tiền, nhà trong hẻm. Cần bổ sung data"
      ]
    },
    {
      "cell_type": "code",
      "execution_count": null,
      "metadata": {
        "colab": {
          "base_uri": "https://localhost:8080/"
        },
        "id": "cPrKFY2ELsEY",
        "outputId": "3f680a25-5119-4dec-f0a0-0567d1079c02"
      },
      "outputs": [
        {
          "data": {
            "text/plain": [
              "array(['Huyện Bình Chánh', 'Huyện Cần Giờ', 'Huyện Củ Chi',\n",
              "       'Huyện Hóc Môn', 'Huyện Nhà Bè', 'Quận 1', 'Quận 10', 'Quận 11',\n",
              "       'Quận 12', 'Quận 2', 'Quận 3', 'Quận 4', 'Quận 5', 'Quận 6',\n",
              "       'Quận 7', 'Quận 8', 'Quận 9', 'Quận Bình Thạnh', 'Quận Bình Tân',\n",
              "       'Quận Gò Vấp', 'Quận Phú Nhuận', 'Quận Tân Bình', 'Quận Tân Phú',\n",
              "       'Thành phố Thủ Đức'], dtype=object)"
            ]
          },
          "execution_count": 72,
          "metadata": {},
          "output_type": "execute_result"
        }
      ],
      "source": [
        "l = np.sort(np.array(df['District'].unique()))\n",
        "l"
      ]
    },
    {
      "cell_type": "code",
      "execution_count": null,
      "metadata": {
        "colab": {
          "base_uri": "https://localhost:8080/"
        },
        "id": "b6Td_KjrtByz",
        "outputId": "3257ead1-17e4-48d2-ae23-e6f031e2f356"
      },
      "outputs": [
        {
          "name": "stdout",
          "output_type": "stream",
          "text": [
            "Huyện Bình Chánh\n",
            "568\n",
            "Huyện Cần Giờ\n",
            "65\n",
            "Huyện Củ Chi\n",
            "696\n",
            "Huyện Hóc Môn\n",
            "372\n",
            "Huyện Nhà Bè\n",
            "556\n",
            "Quận 1\n",
            "1716\n",
            "Quận 10\n",
            "1353\n",
            "Quận 11\n",
            "372\n",
            "Quận 12\n",
            "1202\n",
            "Quận 2\n",
            "501\n",
            "Quận 3\n",
            "995\n",
            "Quận 4\n",
            "292\n",
            "Quận 5\n",
            "269\n",
            "Quận 6\n",
            "236\n",
            "Quận 7\n",
            "1354\n",
            "Quận 8\n",
            "334\n",
            "Quận 9\n",
            "92\n",
            "Quận Bình Thạnh\n",
            "2141\n",
            "Quận Bình Tân\n",
            "1378\n",
            "Quận Gò Vấp\n",
            "2551\n",
            "Quận Phú Nhuận\n",
            "1002\n",
            "Quận Tân Bình\n",
            "2479\n",
            "Quận Tân Phú\n",
            "1816\n",
            "Thành phố Thủ Đức\n",
            "3170\n"
          ]
        }
      ],
      "source": [
        "for i in l:\n",
        "  print(i)\n",
        "  print(df['District'][df['District'] == i].count())"
      ]
    },
    {
      "cell_type": "code",
      "execution_count": null,
      "metadata": {
        "id": "eoYk6eSht05o"
      },
      "outputs": [],
      "source": [
        "# df.drop(df[df['District'] == 'Huyện Bình Chánh'].index, inplace = True)\n",
        "#df.drop(df[df['District'] == 'Huyện Cần Giờ'].index, inplace = True)\n",
        "# df.drop(df[df['District'] == 'Huyện Củ Chi'].index, inplace = True)\n",
        "# df.drop(df[df['District'] == 'Huyện Hóc Môn'].index, inplace = True)\n",
        "# df.drop(df[df['District'] == 'Huyện Nhà Bè'].index, inplace = True)\n",
        "# df.drop(df[df['District'] == 'Quận 2'].index, inplace = True)\n",
        "# df.drop(df[df['District'] == 'Quận 3'].index, inplace = True)\n",
        "# df.drop(df[df['District'] == 'Quận 4'].index, inplace = True)\n",
        "# df.drop(df[df['District'] == 'Quận 5'].index, inplace = True)\n",
        "# df.drop(df[df['District'] == 'Quận 6'].index, inplace = True)\n",
        "# df.drop(df[df['District'] == 'Quận 8'].index, inplace = True)\n",
        "#df.drop(df[df['District'] == 'Quận 9'].index, inplace = True)\n",
        "# df.drop(df[df['District'] == 'Quận 11'].index, inplace = True)"
      ]
    },
    {
      "cell_type": "code",
      "execution_count": null,
      "metadata": {
        "colab": {
          "base_uri": "https://localhost:8080/"
        },
        "id": "A3AOqXJZt6hQ",
        "outputId": "2abe6acd-c357-471c-9fc8-43690d9a4a76"
      },
      "outputs": [
        {
          "name": "stdout",
          "output_type": "stream",
          "text": [
            "Biệt thự, nhà liền kề\n",
            "827\n",
            "Các loại khác\n",
            "1\n",
            "Căn hộ chung cư\n",
            "2098\n",
            "Kho, xưởng\n",
            "587\n",
            "Mặt bằng\n",
            "65\n",
            "Nhà hàng, khách sạn\n",
            "1118\n",
            "Nhà mặt tiền\n",
            "6604\n",
            "Nhà trong hẻm\n",
            "9045\n",
            "Phòng trọ, nhà trọ\n",
            "998\n",
            "Shop, kiot, quán\n",
            "147\n",
            "Trang trại\n",
            "8\n",
            "Văn phòng\n",
            "350\n",
            "Đất nông, lâm nghiệp\n",
            "738\n",
            "Đất nền, liền kề, đất dự án\n",
            "1545\n",
            "Đất thổ cư, đất ở\n",
            "1379\n"
          ]
        }
      ],
      "source": [
        "l = df['Type_of_house'].unique()\n",
        "for i in l:\n",
        "  print(i)\n",
        "  print(df['Type_of_house'][df['Type_of_house'] == i].count())"
      ]
    },
    {
      "cell_type": "code",
      "execution_count": null,
      "metadata": {
        "id": "6nkCG8y5G2Iz"
      },
      "outputs": [],
      "source": [
        "# df.drop(df[df['Type_of_house'] == 'Biệt thự, nhà liền kề'].index, inplace = True)\n",
        "# df.drop(df[df['Type_of_house'] == 'Các loại khác'].index, inplace = True)\n",
        "# df.drop(df[df['Type_of_house'] == 'Kho, xưởng'].index, inplace = True)\n",
        "# df.drop(df[df['Type_of_house'] == 'Mặt bằng'].index, inplace = True)\n",
        "# df.drop(df[df['Type_of_house'] == 'Nhà hàng, khách sạn'].index, inplace = True)\n",
        "# df.drop(df[df['Type_of_house'] == 'Phòng trọ, nhà trọ'].index, inplace = True)\n",
        "# df.drop(df[df['Type_of_house'] == 'Shop, kiot, quán'].index, inplace = True)\n",
        "# df.drop(df[df['Type_of_house'] == 'Trang trại'].index, inplace = True)\n",
        "# df.drop(df[df['Type_of_house'] == 'Văn phòng'].index, inplace = True)\n",
        "#df.drop(df[df['Type_of_house'] == 'Đất nông, lâm nghiệp'].index, inplace = True)\n",
        "# df.drop(df[df['Type_of_house'] == 'Đất nền, liền kề, đất dự án'].index, inplace = True)\n",
        "# df.drop(df[df['Type_of_house'] == 'Đất thổ cư, đất ở'].index, inplace = True)"
      ]
    },
    {
      "cell_type": "code",
      "execution_count": null,
      "metadata": {
        "colab": {
          "base_uri": "https://localhost:8080/"
        },
        "id": "xvVWilJluBaA",
        "outputId": "6591afdc-f14d-42e1-cef6-1e4296cf3150"
      },
      "outputs": [
        {
          "name": "stdout",
          "output_type": "stream",
          "text": [
            "Yes\n",
            "19261\n",
            "No\n",
            "6249\n"
          ]
        }
      ],
      "source": [
        "l = df['Legal_paper'].unique()\n",
        "for i in l:\n",
        "  print(i)\n",
        "  print(df['District'][df['Legal_paper'] == i].count())"
      ]
    },
    {
      "cell_type": "markdown",
      "metadata": {
        "id": "aIU6HVpvjCHR"
      },
      "source": [
        "##**Các trường thuộc tính ảnh hưởng đến giá nhà**"
      ]
    },
    {
      "cell_type": "code",
      "execution_count": null,
      "metadata": {
        "id": "xCIMY5kknk5o"
      },
      "outputs": [],
      "source": [
        "import seaborn as sns"
      ]
    },
    {
      "cell_type": "code",
      "execution_count": null,
      "metadata": {
        "colab": {
          "base_uri": "https://localhost:8080/"
        },
        "id": "xbi6SwrZtrjA",
        "outputId": "9d4026ae-a588-4b07-8553-baa5bc5a394d"
      },
      "outputs": [
        {
          "name": "stdout",
          "output_type": "stream",
          "text": [
            "<class 'pandas.core.frame.DataFrame'>\n",
            "Int64Index: 25510 entries, 12480 to 4746\n",
            "Data columns (total 14 columns):\n",
            " #   Column         Non-Null Count  Dtype  \n",
            "---  ------         --------------  -----  \n",
            " 0   District       25510 non-null  object \n",
            " 1   Province       25510 non-null  object \n",
            " 2   Hsdieuchinh    25510 non-null  float64\n",
            " 3   Type_of_house  25510 non-null  object \n",
            " 4   Legal_paper    25510 non-null  object \n",
            " 5   WOS            25510 non-null  float64\n",
            " 6   WOS_Segment    25510 non-null  object \n",
            " 7   Area           25510 non-null  float64\n",
            " 8   Length         25510 non-null  float64\n",
            " 9   Width          25510 non-null  float64\n",
            " 10  Rooms          25510 non-null  int64  \n",
            " 11  Floors         25510 non-null  int64  \n",
            " 12  Price          25510 non-null  float64\n",
            " 13  Weight         25510 non-null  float64\n",
            "dtypes: float64(7), int64(2), object(5)\n",
            "memory usage: 2.9+ MB\n"
          ]
        }
      ],
      "source": [
        "df.info()"
      ]
    },
    {
      "cell_type": "code",
      "execution_count": null,
      "metadata": {
        "colab": {
          "base_uri": "https://localhost:8080/",
          "height": 641
        },
        "id": "d88QH5P2xoRK",
        "outputId": "5318458f-4545-4350-8ad5-682e94a64251"
      },
      "outputs": [
        {
          "data": {
            "text/html": [
              "\n",
              "  <div id=\"df-2dcd8167-3d9b-4d01-8f55-bc4c38ccde2e\">\n",
              "    <div class=\"colab-df-container\">\n",
              "      <div>\n",
              "<style scoped>\n",
              "    .dataframe tbody tr th:only-of-type {\n",
              "        vertical-align: middle;\n",
              "    }\n",
              "\n",
              "    .dataframe tbody tr th {\n",
              "        vertical-align: top;\n",
              "    }\n",
              "\n",
              "    .dataframe thead th {\n",
              "        text-align: right;\n",
              "    }\n",
              "</style>\n",
              "<table border=\"1\" class=\"dataframe\">\n",
              "  <thead>\n",
              "    <tr style=\"text-align: right;\">\n",
              "      <th></th>\n",
              "      <th>District</th>\n",
              "      <th>Province</th>\n",
              "      <th>Hsdieuchinh</th>\n",
              "      <th>Type_of_house</th>\n",
              "      <th>Legal_paper</th>\n",
              "      <th>WOS</th>\n",
              "      <th>WOS_Segment</th>\n",
              "      <th>Area</th>\n",
              "      <th>Length</th>\n",
              "      <th>Width</th>\n",
              "      <th>Rooms</th>\n",
              "      <th>Floors</th>\n",
              "      <th>Price</th>\n",
              "      <th>Weight</th>\n",
              "    </tr>\n",
              "  </thead>\n",
              "  <tbody>\n",
              "    <tr>\n",
              "      <th>12480</th>\n",
              "      <td>Quận Tân Bình</td>\n",
              "      <td>HCM</td>\n",
              "      <td>2.5</td>\n",
              "      <td>Biệt thự, nhà liền kề</td>\n",
              "      <td>Yes</td>\n",
              "      <td>7.0</td>\n",
              "      <td>Dưới 10</td>\n",
              "      <td>85.0</td>\n",
              "      <td>63.75</td>\n",
              "      <td>1.0</td>\n",
              "      <td>6</td>\n",
              "      <td>4</td>\n",
              "      <td>20800.0</td>\n",
              "      <td>4.0</td>\n",
              "    </tr>\n",
              "    <tr>\n",
              "      <th>18161</th>\n",
              "      <td>Quận 1</td>\n",
              "      <td>HCM</td>\n",
              "      <td>2.5</td>\n",
              "      <td>Biệt thự, nhà liền kề</td>\n",
              "      <td>No</td>\n",
              "      <td>7.0</td>\n",
              "      <td>Dưới 10</td>\n",
              "      <td>162.0</td>\n",
              "      <td>2.00</td>\n",
              "      <td>9.0</td>\n",
              "      <td>1</td>\n",
              "      <td>2</td>\n",
              "      <td>42000.0</td>\n",
              "      <td>4.0</td>\n",
              "    </tr>\n",
              "    <tr>\n",
              "      <th>18162</th>\n",
              "      <td>Quận 1</td>\n",
              "      <td>HCM</td>\n",
              "      <td>2.5</td>\n",
              "      <td>Biệt thự, nhà liền kề</td>\n",
              "      <td>No</td>\n",
              "      <td>7.0</td>\n",
              "      <td>Dưới 10</td>\n",
              "      <td>162.0</td>\n",
              "      <td>2.00</td>\n",
              "      <td>9.0</td>\n",
              "      <td>1</td>\n",
              "      <td>2</td>\n",
              "      <td>42000.0</td>\n",
              "      <td>5.0</td>\n",
              "    </tr>\n",
              "    <tr>\n",
              "      <th>16604</th>\n",
              "      <td>Quận Gò Vấp</td>\n",
              "      <td>HCM</td>\n",
              "      <td>2.3</td>\n",
              "      <td>Biệt thự, nhà liền kề</td>\n",
              "      <td>Yes</td>\n",
              "      <td>15.0</td>\n",
              "      <td>15-20m</td>\n",
              "      <td>114.0</td>\n",
              "      <td>19.00</td>\n",
              "      <td>6.0</td>\n",
              "      <td>5</td>\n",
              "      <td>5</td>\n",
              "      <td>27000.0</td>\n",
              "      <td>5.0</td>\n",
              "    </tr>\n",
              "    <tr>\n",
              "      <th>4838</th>\n",
              "      <td>Quận Tân Bình</td>\n",
              "      <td>HCM</td>\n",
              "      <td>2.5</td>\n",
              "      <td>Biệt thự, nhà liền kề</td>\n",
              "      <td>Yes</td>\n",
              "      <td>8.0</td>\n",
              "      <td>Dưới 10</td>\n",
              "      <td>160.0</td>\n",
              "      <td>16.00</td>\n",
              "      <td>1.0</td>\n",
              "      <td>50</td>\n",
              "      <td>7</td>\n",
              "      <td>20000.0</td>\n",
              "      <td>2.0</td>\n",
              "    </tr>\n",
              "    <tr>\n",
              "      <th>...</th>\n",
              "      <td>...</td>\n",
              "      <td>...</td>\n",
              "      <td>...</td>\n",
              "      <td>...</td>\n",
              "      <td>...</td>\n",
              "      <td>...</td>\n",
              "      <td>...</td>\n",
              "      <td>...</td>\n",
              "      <td>...</td>\n",
              "      <td>...</td>\n",
              "      <td>...</td>\n",
              "      <td>...</td>\n",
              "      <td>...</td>\n",
              "      <td>...</td>\n",
              "    </tr>\n",
              "    <tr>\n",
              "      <th>3248</th>\n",
              "      <td>Thành phố Thủ Đức</td>\n",
              "      <td>HCM</td>\n",
              "      <td>2.1</td>\n",
              "      <td>Đất thổ cư, đất ở</td>\n",
              "      <td>Yes</td>\n",
              "      <td>16.0</td>\n",
              "      <td>15-20m</td>\n",
              "      <td>216.0</td>\n",
              "      <td>18.00</td>\n",
              "      <td>12.0</td>\n",
              "      <td>0</td>\n",
              "      <td>0</td>\n",
              "      <td>18500.0</td>\n",
              "      <td>2.0</td>\n",
              "    </tr>\n",
              "    <tr>\n",
              "      <th>3247</th>\n",
              "      <td>Thành phố Thủ Đức</td>\n",
              "      <td>HCM</td>\n",
              "      <td>2.1</td>\n",
              "      <td>Đất thổ cư, đất ở</td>\n",
              "      <td>Yes</td>\n",
              "      <td>5.0</td>\n",
              "      <td>Dưới 10</td>\n",
              "      <td>81.0</td>\n",
              "      <td>21.00</td>\n",
              "      <td>4.0</td>\n",
              "      <td>0</td>\n",
              "      <td>0</td>\n",
              "      <td>4650.0</td>\n",
              "      <td>2.0</td>\n",
              "    </tr>\n",
              "    <tr>\n",
              "      <th>3246</th>\n",
              "      <td>Thành phố Thủ Đức</td>\n",
              "      <td>HCM</td>\n",
              "      <td>2.1</td>\n",
              "      <td>Đất thổ cư, đất ở</td>\n",
              "      <td>Yes</td>\n",
              "      <td>7.0</td>\n",
              "      <td>Dưới 10</td>\n",
              "      <td>81.0</td>\n",
              "      <td>14.00</td>\n",
              "      <td>6.0</td>\n",
              "      <td>0</td>\n",
              "      <td>0</td>\n",
              "      <td>3600.0</td>\n",
              "      <td>3.0</td>\n",
              "    </tr>\n",
              "    <tr>\n",
              "      <th>3244</th>\n",
              "      <td>Thành phố Thủ Đức</td>\n",
              "      <td>HCM</td>\n",
              "      <td>2.1</td>\n",
              "      <td>Đất thổ cư, đất ở</td>\n",
              "      <td>Yes</td>\n",
              "      <td>4.0</td>\n",
              "      <td>Dưới 10</td>\n",
              "      <td>210.0</td>\n",
              "      <td>2.00</td>\n",
              "      <td>1.0</td>\n",
              "      <td>0</td>\n",
              "      <td>0</td>\n",
              "      <td>10000.0</td>\n",
              "      <td>2.0</td>\n",
              "    </tr>\n",
              "    <tr>\n",
              "      <th>4746</th>\n",
              "      <td>Quận Bình Thạnh</td>\n",
              "      <td>HCM</td>\n",
              "      <td>2.3</td>\n",
              "      <td>Đất thổ cư, đất ở</td>\n",
              "      <td>Yes</td>\n",
              "      <td>20.0</td>\n",
              "      <td>20-30m</td>\n",
              "      <td>120.0</td>\n",
              "      <td>2.00</td>\n",
              "      <td>6.0</td>\n",
              "      <td>0</td>\n",
              "      <td>0</td>\n",
              "      <td>4200.0</td>\n",
              "      <td>2.0</td>\n",
              "    </tr>\n",
              "  </tbody>\n",
              "</table>\n",
              "<p>25510 rows × 14 columns</p>\n",
              "</div>\n",
              "      <button class=\"colab-df-convert\" onclick=\"convertToInteractive('df-2dcd8167-3d9b-4d01-8f55-bc4c38ccde2e')\"\n",
              "              title=\"Convert this dataframe to an interactive table.\"\n",
              "              style=\"display:none;\">\n",
              "        \n",
              "  <svg xmlns=\"http://www.w3.org/2000/svg\" height=\"24px\"viewBox=\"0 0 24 24\"\n",
              "       width=\"24px\">\n",
              "    <path d=\"M0 0h24v24H0V0z\" fill=\"none\"/>\n",
              "    <path d=\"M18.56 5.44l.94 2.06.94-2.06 2.06-.94-2.06-.94-.94-2.06-.94 2.06-2.06.94zm-11 1L8.5 8.5l.94-2.06 2.06-.94-2.06-.94L8.5 2.5l-.94 2.06-2.06.94zm10 10l.94 2.06.94-2.06 2.06-.94-2.06-.94-.94-2.06-.94 2.06-2.06.94z\"/><path d=\"M17.41 7.96l-1.37-1.37c-.4-.4-.92-.59-1.43-.59-.52 0-1.04.2-1.43.59L10.3 9.45l-7.72 7.72c-.78.78-.78 2.05 0 2.83L4 21.41c.39.39.9.59 1.41.59.51 0 1.02-.2 1.41-.59l7.78-7.78 2.81-2.81c.8-.78.8-2.07 0-2.86zM5.41 20L4 18.59l7.72-7.72 1.47 1.35L5.41 20z\"/>\n",
              "  </svg>\n",
              "      </button>\n",
              "      \n",
              "  <style>\n",
              "    .colab-df-container {\n",
              "      display:flex;\n",
              "      flex-wrap:wrap;\n",
              "      gap: 12px;\n",
              "    }\n",
              "\n",
              "    .colab-df-convert {\n",
              "      background-color: #E8F0FE;\n",
              "      border: none;\n",
              "      border-radius: 50%;\n",
              "      cursor: pointer;\n",
              "      display: none;\n",
              "      fill: #1967D2;\n",
              "      height: 32px;\n",
              "      padding: 0 0 0 0;\n",
              "      width: 32px;\n",
              "    }\n",
              "\n",
              "    .colab-df-convert:hover {\n",
              "      background-color: #E2EBFA;\n",
              "      box-shadow: 0px 1px 2px rgba(60, 64, 67, 0.3), 0px 1px 3px 1px rgba(60, 64, 67, 0.15);\n",
              "      fill: #174EA6;\n",
              "    }\n",
              "\n",
              "    [theme=dark] .colab-df-convert {\n",
              "      background-color: #3B4455;\n",
              "      fill: #D2E3FC;\n",
              "    }\n",
              "\n",
              "    [theme=dark] .colab-df-convert:hover {\n",
              "      background-color: #434B5C;\n",
              "      box-shadow: 0px 1px 3px 1px rgba(0, 0, 0, 0.15);\n",
              "      filter: drop-shadow(0px 1px 2px rgba(0, 0, 0, 0.3));\n",
              "      fill: #FFFFFF;\n",
              "    }\n",
              "  </style>\n",
              "\n",
              "      <script>\n",
              "        const buttonEl =\n",
              "          document.querySelector('#df-2dcd8167-3d9b-4d01-8f55-bc4c38ccde2e button.colab-df-convert');\n",
              "        buttonEl.style.display =\n",
              "          google.colab.kernel.accessAllowed ? 'block' : 'none';\n",
              "\n",
              "        async function convertToInteractive(key) {\n",
              "          const element = document.querySelector('#df-2dcd8167-3d9b-4d01-8f55-bc4c38ccde2e');\n",
              "          const dataTable =\n",
              "            await google.colab.kernel.invokeFunction('convertToInteractive',\n",
              "                                                     [key], {});\n",
              "          if (!dataTable) return;\n",
              "\n",
              "          const docLinkHtml = 'Like what you see? Visit the ' +\n",
              "            '<a target=\"_blank\" href=https://colab.research.google.com/notebooks/data_table.ipynb>data table notebook</a>'\n",
              "            + ' to learn more about interactive tables.';\n",
              "          element.innerHTML = '';\n",
              "          dataTable['output_type'] = 'display_data';\n",
              "          await google.colab.output.renderOutput(dataTable, element);\n",
              "          const docLink = document.createElement('div');\n",
              "          docLink.innerHTML = docLinkHtml;\n",
              "          element.appendChild(docLink);\n",
              "        }\n",
              "      </script>\n",
              "    </div>\n",
              "  </div>\n",
              "  "
            ],
            "text/plain": [
              "                District Province  Hsdieuchinh          Type_of_house  \\\n",
              "12480      Quận Tân Bình      HCM          2.5  Biệt thự, nhà liền kề   \n",
              "18161             Quận 1      HCM          2.5  Biệt thự, nhà liền kề   \n",
              "18162             Quận 1      HCM          2.5  Biệt thự, nhà liền kề   \n",
              "16604        Quận Gò Vấp      HCM          2.3  Biệt thự, nhà liền kề   \n",
              "4838       Quận Tân Bình      HCM          2.5  Biệt thự, nhà liền kề   \n",
              "...                  ...      ...          ...                    ...   \n",
              "3248   Thành phố Thủ Đức      HCM          2.1      Đất thổ cư, đất ở   \n",
              "3247   Thành phố Thủ Đức      HCM          2.1      Đất thổ cư, đất ở   \n",
              "3246   Thành phố Thủ Đức      HCM          2.1      Đất thổ cư, đất ở   \n",
              "3244   Thành phố Thủ Đức      HCM          2.1      Đất thổ cư, đất ở   \n",
              "4746     Quận Bình Thạnh      HCM          2.3      Đất thổ cư, đất ở   \n",
              "\n",
              "      Legal_paper   WOS WOS_Segment   Area  Length  Width  Rooms  Floors  \\\n",
              "12480         Yes   7.0     Dưới 10   85.0   63.75    1.0      6       4   \n",
              "18161          No   7.0     Dưới 10  162.0    2.00    9.0      1       2   \n",
              "18162          No   7.0     Dưới 10  162.0    2.00    9.0      1       2   \n",
              "16604         Yes  15.0      15-20m  114.0   19.00    6.0      5       5   \n",
              "4838          Yes   8.0     Dưới 10  160.0   16.00    1.0     50       7   \n",
              "...           ...   ...         ...    ...     ...    ...    ...     ...   \n",
              "3248          Yes  16.0      15-20m  216.0   18.00   12.0      0       0   \n",
              "3247          Yes   5.0     Dưới 10   81.0   21.00    4.0      0       0   \n",
              "3246          Yes   7.0     Dưới 10   81.0   14.00    6.0      0       0   \n",
              "3244          Yes   4.0     Dưới 10  210.0    2.00    1.0      0       0   \n",
              "4746          Yes  20.0      20-30m  120.0    2.00    6.0      0       0   \n",
              "\n",
              "         Price  Weight  \n",
              "12480  20800.0     4.0  \n",
              "18161  42000.0     4.0  \n",
              "18162  42000.0     5.0  \n",
              "16604  27000.0     5.0  \n",
              "4838   20000.0     2.0  \n",
              "...        ...     ...  \n",
              "3248   18500.0     2.0  \n",
              "3247    4650.0     2.0  \n",
              "3246    3600.0     3.0  \n",
              "3244   10000.0     2.0  \n",
              "4746    4200.0     2.0  \n",
              "\n",
              "[25510 rows x 14 columns]"
            ]
          },
          "execution_count": 80,
          "metadata": {},
          "output_type": "execute_result"
        }
      ],
      "source": [
        "df"
      ]
    },
    {
      "cell_type": "code",
      "execution_count": null,
      "metadata": {
        "colab": {
          "base_uri": "https://localhost:8080/"
        },
        "id": "k2WuFLw-yE1m",
        "outputId": "ddab6fb2-22c4-4ced-d310-5b503d5cc535"
      },
      "outputs": [
        {
          "data": {
            "text/plain": [
              "Price          1.000000\n",
              "Area           0.108088\n",
              "Length         0.098914\n",
              "Width          0.098874\n",
              "Rooms          0.014610\n",
              "WOS            0.010534\n",
              "Floors         0.003503\n",
              "Hsdieuchinh   -0.007740\n",
              "Weight        -0.015925\n",
              "Name: Price, dtype: float64"
            ]
          },
          "execution_count": 81,
          "metadata": {},
          "output_type": "execute_result"
        }
      ],
      "source": [
        "corr=df.corr()[\"Price\"]\n",
        "corr[np.argsort(corr, axis=0)[::-1]]"
      ]
    },
    {
      "cell_type": "code",
      "execution_count": null,
      "metadata": {
        "colab": {
          "base_uri": "https://localhost:8080/"
        },
        "id": "BqQrasKw4uEK",
        "outputId": "284a5a7f-6f62-4301-9ef2-15a7429b22a6"
      },
      "outputs": [
        {
          "data": {
            "text/plain": [
              "4.0    7458\n",
              "5.0    6259\n",
              "3.0    6255\n",
              "2.0    4955\n",
              "1.0     583\n",
              "Name: Weight, dtype: int64"
            ]
          },
          "execution_count": 82,
          "metadata": {},
          "output_type": "execute_result"
        }
      ],
      "source": [
        "df.Weight.value_counts()"
      ]
    },
    {
      "cell_type": "code",
      "execution_count": null,
      "metadata": {
        "colab": {
          "base_uri": "https://localhost:8080/"
        },
        "id": "EElKFFfD5UiZ",
        "outputId": "f21dd0f1-7ea0-4d98-b1bd-b07e90b0728f"
      },
      "outputs": [
        {
          "data": {
            "text/plain": [
              "5000.0       317\n",
              "7000.0       314\n",
              "6000.0       287\n",
              "7500.0       262\n",
              "6500.0       258\n",
              "            ... \n",
              "1624100.0      1\n",
              "6599.0         1\n",
              "48600.0        1\n",
              "85500.0        1\n",
              "14257.0        1\n",
              "Name: Price, Length: 2018, dtype: int64"
            ]
          },
          "execution_count": 83,
          "metadata": {},
          "output_type": "execute_result"
        }
      ],
      "source": [
        "df.Price.value_counts()"
      ]
    },
    {
      "cell_type": "code",
      "execution_count": null,
      "metadata": {
        "colab": {
          "base_uri": "https://localhost:8080/",
          "height": 561
        },
        "id": "zo3t-5VqjY2K",
        "outputId": "3bfd88f6-dd21-400f-8150-6ffd1c98f48a"
      },
      "outputs": [
        {
          "data": {
            "text/plain": [
              "<function seaborn.utils.despine(fig=None, ax=None, top=True, right=True, left=False, bottom=False, offset=None, trim=False)>"
            ]
          },
          "execution_count": 84,
          "metadata": {},
          "output_type": "execute_result"
        },
        {
          "data": {
            "image/png": "[encoded data removed]",
            "text/plain": [
              "<Figure size 842.4x595.44 with 1 Axes>"
            ]
          },
          "metadata": {},
          "output_type": "display_data"
        }
      ],
      "source": [
        "from matplotlib import figure\n",
        "sns.set(rc={'figure.figsize':(11.7,8.27)})\n",
        "df['Rooms'].value_counts().plot(kind='bar')\n",
        "plt.title('number of Bedroom')\n",
        "plt.xlabel('Bedrooms')\n",
        "plt.ylabel('Count')\n",
        "sns.despine"
      ]
    },
    {
      "cell_type": "code",
      "execution_count": null,
      "metadata": {
        "colab": {
          "base_uri": "https://localhost:8080/"
        },
        "id": "LJ8jZ1_V7aBm",
        "outputId": "31901492-a2da-4fc3-cf7c-1d587afb8565"
      },
      "outputs": [
        {
          "data": {
            "text/plain": [
              "Index(['District', 'Province', 'Hsdieuchinh', 'Type_of_house', 'Legal_paper',\n",
              "       'WOS', 'WOS_Segment', 'Area', 'Length', 'Width', 'Rooms', 'Floors',\n",
              "       'Price', 'Weight'],\n",
              "      dtype='object')"
            ]
          },
          "execution_count": 85,
          "metadata": {},
          "output_type": "execute_result"
        }
      ],
      "source": [
        "df.columns"
      ]
    },
    {
      "cell_type": "code",
      "execution_count": null,
      "metadata": {
        "colab": {
          "base_uri": "https://localhost:8080/",
          "height": 546
        },
        "id": "5nDsY8zc7UGt",
        "outputId": "9c3517bc-251d-42ca-cb46-0be2b01a06b6"
      },
      "outputs": [
        {
          "data": {
            "text/plain": [
              "Text(0.5, 1.0, 'Price vs Square Feet')"
            ]
          },
          "execution_count": 86,
          "metadata": {},
          "output_type": "execute_result"
        },
        {
          "data": {
            "image/png": "[encoded data removed]",
            "text/plain": [
              "<Figure size 842.4x595.44 with 1 Axes>"
            ]
          },
          "metadata": {},
          "output_type": "display_data"
        }
      ],
      "source": [
        "plt.scatter(df.Price,df.Area)\n",
        "plt.title(\"Price vs Square Feet\")"
      ]
    },
    {
      "cell_type": "code",
      "execution_count": null,
      "metadata": {
        "colab": {
          "base_uri": "https://localhost:8080/"
        },
        "id": "E35BPzU2rsP2",
        "outputId": "08f0c4ed-4149-48f6-92ee-e1e759f36726"
      },
      "outputs": [
        {
          "data": {
            "text/plain": [
              "152.42809578070043"
            ]
          },
          "execution_count": 87,
          "metadata": {},
          "output_type": "execute_result"
        }
      ],
      "source": [
        "#skewness  \n",
        "\n",
        "df['Price'].skew()"
      ]
    },
    {
      "cell_type": "code",
      "execution_count": null,
      "metadata": {
        "colab": {
          "base_uri": "https://localhost:8080/"
        },
        "id": "J-bZumQvrtCO",
        "outputId": "a402c7d7-e259-4f68-8c1a-c24219f5d526"
      },
      "outputs": [
        {
          "data": {
            "text/plain": [
              "23890.107577335923"
            ]
          },
          "execution_count": 88,
          "metadata": {},
          "output_type": "execute_result"
        }
      ],
      "source": [
        "#kurtosis\n",
        "\n",
        "df['Price'].kurt()"
      ]
    },
    {
      "cell_type": "markdown",
      "metadata": {
        "id": "JNI7qQwIsaWy"
      },
      "source": [
        "##**Checking For Highly Correlated Columns**"
      ]
    },
    {
      "cell_type": "code",
      "execution_count": null,
      "metadata": {
        "colab": {
          "base_uri": "https://localhost:8080/",
          "height": 332
        },
        "id": "5YIy4pzLrCY7",
        "outputId": "3c9f30a6-65b3-46f9-eec3-19067aaa0d8c"
      },
      "outputs": [
        {
          "data": {
            "text/html": [
              "\n",
              "  <div id=\"df-78eff8cb-d4de-4bb6-95e8-9272516341da\">\n",
              "    <div class=\"colab-df-container\">\n",
              "      <div>\n",
              "<style scoped>\n",
              "    .dataframe tbody tr th:only-of-type {\n",
              "        vertical-align: middle;\n",
              "    }\n",
              "\n",
              "    .dataframe tbody tr th {\n",
              "        vertical-align: top;\n",
              "    }\n",
              "\n",
              "    .dataframe thead th {\n",
              "        text-align: right;\n",
              "    }\n",
              "</style>\n",
              "<table border=\"1\" class=\"dataframe\">\n",
              "  <thead>\n",
              "    <tr style=\"text-align: right;\">\n",
              "      <th></th>\n",
              "      <th>Hsdieuchinh</th>\n",
              "      <th>WOS</th>\n",
              "      <th>Area</th>\n",
              "      <th>Length</th>\n",
              "      <th>Width</th>\n",
              "      <th>Rooms</th>\n",
              "      <th>Floors</th>\n",
              "      <th>Price</th>\n",
              "      <th>Weight</th>\n",
              "    </tr>\n",
              "  </thead>\n",
              "  <tbody>\n",
              "    <tr>\n",
              "      <th>Hsdieuchinh</th>\n",
              "      <td>1.0</td>\n",
              "      <td>NaN</td>\n",
              "      <td>NaN</td>\n",
              "      <td>NaN</td>\n",
              "      <td>NaN</td>\n",
              "      <td>NaN</td>\n",
              "      <td>NaN</td>\n",
              "      <td>NaN</td>\n",
              "      <td>NaN</td>\n",
              "    </tr>\n",
              "    <tr>\n",
              "      <th>WOS</th>\n",
              "      <td>NaN</td>\n",
              "      <td>1.0</td>\n",
              "      <td>NaN</td>\n",
              "      <td>NaN</td>\n",
              "      <td>NaN</td>\n",
              "      <td>NaN</td>\n",
              "      <td>NaN</td>\n",
              "      <td>NaN</td>\n",
              "      <td>NaN</td>\n",
              "    </tr>\n",
              "    <tr>\n",
              "      <th>Area</th>\n",
              "      <td>NaN</td>\n",
              "      <td>NaN</td>\n",
              "      <td>1.000000</td>\n",
              "      <td>0.973280</td>\n",
              "      <td>0.972291</td>\n",
              "      <td>NaN</td>\n",
              "      <td>NaN</td>\n",
              "      <td>NaN</td>\n",
              "      <td>NaN</td>\n",
              "    </tr>\n",
              "    <tr>\n",
              "      <th>Length</th>\n",
              "      <td>NaN</td>\n",
              "      <td>NaN</td>\n",
              "      <td>0.973280</td>\n",
              "      <td>1.000000</td>\n",
              "      <td>0.998786</td>\n",
              "      <td>NaN</td>\n",
              "      <td>NaN</td>\n",
              "      <td>NaN</td>\n",
              "      <td>NaN</td>\n",
              "    </tr>\n",
              "    <tr>\n",
              "      <th>Width</th>\n",
              "      <td>NaN</td>\n",
              "      <td>NaN</td>\n",
              "      <td>0.972291</td>\n",
              "      <td>0.998786</td>\n",
              "      <td>1.000000</td>\n",
              "      <td>NaN</td>\n",
              "      <td>NaN</td>\n",
              "      <td>NaN</td>\n",
              "      <td>NaN</td>\n",
              "    </tr>\n",
              "    <tr>\n",
              "      <th>Rooms</th>\n",
              "      <td>NaN</td>\n",
              "      <td>NaN</td>\n",
              "      <td>NaN</td>\n",
              "      <td>NaN</td>\n",
              "      <td>NaN</td>\n",
              "      <td>1.0</td>\n",
              "      <td>NaN</td>\n",
              "      <td>NaN</td>\n",
              "      <td>NaN</td>\n",
              "    </tr>\n",
              "    <tr>\n",
              "      <th>Floors</th>\n",
              "      <td>NaN</td>\n",
              "      <td>NaN</td>\n",
              "      <td>NaN</td>\n",
              "      <td>NaN</td>\n",
              "      <td>NaN</td>\n",
              "      <td>NaN</td>\n",
              "      <td>1.0</td>\n",
              "      <td>NaN</td>\n",
              "      <td>NaN</td>\n",
              "    </tr>\n",
              "    <tr>\n",
              "      <th>Price</th>\n",
              "      <td>NaN</td>\n",
              "      <td>NaN</td>\n",
              "      <td>NaN</td>\n",
              "      <td>NaN</td>\n",
              "      <td>NaN</td>\n",
              "      <td>NaN</td>\n",
              "      <td>NaN</td>\n",
              "      <td>1.0</td>\n",
              "      <td>NaN</td>\n",
              "    </tr>\n",
              "    <tr>\n",
              "      <th>Weight</th>\n",
              "      <td>NaN</td>\n",
              "      <td>NaN</td>\n",
              "      <td>NaN</td>\n",
              "      <td>NaN</td>\n",
              "      <td>NaN</td>\n",
              "      <td>NaN</td>\n",
              "      <td>NaN</td>\n",
              "      <td>NaN</td>\n",
              "      <td>1.0</td>\n",
              "    </tr>\n",
              "  </tbody>\n",
              "</table>\n",
              "</div>\n",
              "      <button class=\"colab-df-convert\" onclick=\"convertToInteractive('df-78eff8cb-d4de-4bb6-95e8-9272516341da')\"\n",
              "              title=\"Convert this dataframe to an interactive table.\"\n",
              "              style=\"display:none;\">\n",
              "        \n",
              "  <svg xmlns=\"http://www.w3.org/2000/svg\" height=\"24px\"viewBox=\"0 0 24 24\"\n",
              "       width=\"24px\">\n",
              "    <path d=\"M0 0h24v24H0V0z\" fill=\"none\"/>\n",
              "    <path d=\"M18.56 5.44l.94 2.06.94-2.06 2.06-.94-2.06-.94-.94-2.06-.94 2.06-2.06.94zm-11 1L8.5 8.5l.94-2.06 2.06-.94-2.06-.94L8.5 2.5l-.94 2.06-2.06.94zm10 10l.94 2.06.94-2.06 2.06-.94-2.06-.94-.94-2.06-.94 2.06-2.06.94z\"/><path d=\"M17.41 7.96l-1.37-1.37c-.4-.4-.92-.59-1.43-.59-.52 0-1.04.2-1.43.59L10.3 9.45l-7.72 7.72c-.78.78-.78 2.05 0 2.83L4 21.41c.39.39.9.59 1.41.59.51 0 1.02-.2 1.41-.59l7.78-7.78 2.81-2.81c.8-.78.8-2.07 0-2.86zM5.41 20L4 18.59l7.72-7.72 1.47 1.35L5.41 20z\"/>\n",
              "  </svg>\n",
              "      </button>\n",
              "      \n",
              "  <style>\n",
              "    .colab-df-container {\n",
              "      display:flex;\n",
              "      flex-wrap:wrap;\n",
              "      gap: 12px;\n",
              "    }\n",
              "\n",
              "    .colab-df-convert {\n",
              "      background-color: #E8F0FE;\n",
              "      border: none;\n",
              "      border-radius: 50%;\n",
              "      cursor: pointer;\n",
              "      display: none;\n",
              "      fill: #1967D2;\n",
              "      height: 32px;\n",
              "      padding: 0 0 0 0;\n",
              "      width: 32px;\n",
              "    }\n",
              "\n",
              "    .colab-df-convert:hover {\n",
              "      background-color: #E2EBFA;\n",
              "      box-shadow: 0px 1px 2px rgba(60, 64, 67, 0.3), 0px 1px 3px 1px rgba(60, 64, 67, 0.15);\n",
              "      fill: #174EA6;\n",
              "    }\n",
              "\n",
              "    [theme=dark] .colab-df-convert {\n",
              "      background-color: #3B4455;\n",
              "      fill: #D2E3FC;\n",
              "    }\n",
              "\n",
              "    [theme=dark] .colab-df-convert:hover {\n",
              "      background-color: #434B5C;\n",
              "      box-shadow: 0px 1px 3px 1px rgba(0, 0, 0, 0.15);\n",
              "      filter: drop-shadow(0px 1px 2px rgba(0, 0, 0, 0.3));\n",
              "      fill: #FFFFFF;\n",
              "    }\n",
              "  </style>\n",
              "\n",
              "      <script>\n",
              "        const buttonEl =\n",
              "          document.querySelector('#df-78eff8cb-d4de-4bb6-95e8-9272516341da button.colab-df-convert');\n",
              "        buttonEl.style.display =\n",
              "          google.colab.kernel.accessAllowed ? 'block' : 'none';\n",
              "\n",
              "        async function convertToInteractive(key) {\n",
              "          const element = document.querySelector('#df-78eff8cb-d4de-4bb6-95e8-9272516341da');\n",
              "          const dataTable =\n",
              "            await google.colab.kernel.invokeFunction('convertToInteractive',\n",
              "                                                     [key], {});\n",
              "          if (!dataTable) return;\n",
              "\n",
              "          const docLinkHtml = 'Like what you see? Visit the ' +\n",
              "            '<a target=\"_blank\" href=https://colab.research.google.com/notebooks/data_table.ipynb>data table notebook</a>'\n",
              "            + ' to learn more about interactive tables.';\n",
              "          element.innerHTML = '';\n",
              "          dataTable['output_type'] = 'display_data';\n",
              "          await google.colab.output.renderOutput(dataTable, element);\n",
              "          const docLink = document.createElement('div');\n",
              "          docLink.innerHTML = docLinkHtml;\n",
              "          element.appendChild(docLink);\n",
              "        }\n",
              "      </script>\n",
              "    </div>\n",
              "  </div>\n",
              "  "
            ],
            "text/plain": [
              "             Hsdieuchinh  WOS      Area    Length     Width  Rooms  Floors  \\\n",
              "Hsdieuchinh          1.0  NaN       NaN       NaN       NaN    NaN     NaN   \n",
              "WOS                  NaN  1.0       NaN       NaN       NaN    NaN     NaN   \n",
              "Area                 NaN  NaN  1.000000  0.973280  0.972291    NaN     NaN   \n",
              "Length               NaN  NaN  0.973280  1.000000  0.998786    NaN     NaN   \n",
              "Width                NaN  NaN  0.972291  0.998786  1.000000    NaN     NaN   \n",
              "Rooms                NaN  NaN       NaN       NaN       NaN    1.0     NaN   \n",
              "Floors               NaN  NaN       NaN       NaN       NaN    NaN     1.0   \n",
              "Price                NaN  NaN       NaN       NaN       NaN    NaN     NaN   \n",
              "Weight               NaN  NaN       NaN       NaN       NaN    NaN     NaN   \n",
              "\n",
              "             Price  Weight  \n",
              "Hsdieuchinh    NaN     NaN  \n",
              "WOS            NaN     NaN  \n",
              "Area           NaN     NaN  \n",
              "Length         NaN     NaN  \n",
              "Width          NaN     NaN  \n",
              "Rooms          NaN     NaN  \n",
              "Floors         NaN     NaN  \n",
              "Price          1.0     NaN  \n",
              "Weight         NaN     1.0  "
            ]
          },
          "execution_count": 89,
          "metadata": {},
          "output_type": "execute_result"
        }
      ],
      "source": [
        "corr = df.corr()\n",
        "corr_greater_than_75 = corr[corr>=.75]\n",
        "#corr_greater_than_75 = corr\n",
        "corr_greater_than_75 "
      ]
    },
    {
      "cell_type": "code",
      "execution_count": null,
      "metadata": {
        "colab": {
          "base_uri": "https://localhost:8080/",
          "height": 495
        },
        "id": "IxwmXu2drXUt",
        "outputId": "c31511ea-a528-4502-a28e-158fbaa6054a"
      },
      "outputs": [
        {
          "data": {
            "image/png": "[encoded data removed]",
            "text/plain": [
              "<Figure size 864x576 with 2 Axes>"
            ]
          },
          "metadata": {},
          "output_type": "display_data"
        }
      ],
      "source": [
        "plt.figure(figsize=(12,8))\n",
        "sns.heatmap(corr_greater_than_75, cmap=\"Reds\", annot = True);"
      ]
    },
    {
      "cell_type": "markdown",
      "metadata": {
        "id": "ZfjxoaXslOwt"
      },
      "source": [
        "##**Removing outliers using IQR method**"
      ]
    },
    {
      "cell_type": "code",
      "execution_count": null,
      "metadata": {
        "colab": {
          "base_uri": "https://localhost:8080/"
        },
        "id": "LjxtI6DelSRs",
        "outputId": "f51c3d6f-83ac-487c-815b-fc101d829dd4"
      },
      "outputs": [
        {
          "name": "stdout",
          "output_type": "stream",
          "text": [
            "The final length of the dataset is 21831 rows.\n"
          ]
        }
      ],
      "source": [
        "def remove_outlier_IQR(df, series):\n",
        "    Q1=df[series].quantile(0.25)\n",
        "    Q3=df[series].quantile(0.75)\n",
        "    IQR=Q3-Q1\n",
        "    df_final=df[~((df[series]<(Q1-3*IQR)) | (df[series]>(Q3+3*IQR)))]\n",
        "    return df_final\n",
        "\n",
        "removed_outliers = df\n",
        "columns_to_remove_outliers = ['Area','Price'] \n",
        "\n",
        "for column in columns_to_remove_outliers:\n",
        "    removed_outliers = remove_outlier_IQR(removed_outliers, column)\n",
        "    \n",
        "print(\"The final length of the dataset is\", str(len(removed_outliers)), \"rows.\")"
      ]
    },
    {
      "cell_type": "code",
      "execution_count": null,
      "metadata": {
        "colab": {
          "base_uri": "https://localhost:8080/",
          "height": 641
        },
        "id": "Wy5ZwqGHXPRc",
        "outputId": "8f1f0a0e-5618-45e8-ce98-e28b9f4118d2"
      },
      "outputs": [
        {
          "data": {
            "text/html": [
              "\n",
              "  <div id=\"df-c0200f1f-0ecb-4e90-873d-d8d214dc9863\">\n",
              "    <div class=\"colab-df-container\">\n",
              "      <div>\n",
              "<style scoped>\n",
              "    .dataframe tbody tr th:only-of-type {\n",
              "        vertical-align: middle;\n",
              "    }\n",
              "\n",
              "    .dataframe tbody tr th {\n",
              "        vertical-align: top;\n",
              "    }\n",
              "\n",
              "    .dataframe thead th {\n",
              "        text-align: right;\n",
              "    }\n",
              "</style>\n",
              "<table border=\"1\" class=\"dataframe\">\n",
              "  <thead>\n",
              "    <tr style=\"text-align: right;\">\n",
              "      <th></th>\n",
              "      <th>District</th>\n",
              "      <th>Province</th>\n",
              "      <th>Hsdieuchinh</th>\n",
              "      <th>Type_of_house</th>\n",
              "      <th>Legal_paper</th>\n",
              "      <th>WOS</th>\n",
              "      <th>WOS_Segment</th>\n",
              "      <th>Area</th>\n",
              "      <th>Length</th>\n",
              "      <th>Width</th>\n",
              "      <th>Rooms</th>\n",
              "      <th>Floors</th>\n",
              "      <th>Price</th>\n",
              "      <th>Weight</th>\n",
              "    </tr>\n",
              "  </thead>\n",
              "  <tbody>\n",
              "    <tr>\n",
              "      <th>12480</th>\n",
              "      <td>Quận Tân Bình</td>\n",
              "      <td>HCM</td>\n",
              "      <td>2.5</td>\n",
              "      <td>Biệt thự, nhà liền kề</td>\n",
              "      <td>Yes</td>\n",
              "      <td>7.0</td>\n",
              "      <td>Dưới 10</td>\n",
              "      <td>85.0</td>\n",
              "      <td>63.75</td>\n",
              "      <td>1.0</td>\n",
              "      <td>6</td>\n",
              "      <td>4</td>\n",
              "      <td>20800.0</td>\n",
              "      <td>4.0</td>\n",
              "    </tr>\n",
              "    <tr>\n",
              "      <th>18161</th>\n",
              "      <td>Quận 1</td>\n",
              "      <td>HCM</td>\n",
              "      <td>2.5</td>\n",
              "      <td>Biệt thự, nhà liền kề</td>\n",
              "      <td>No</td>\n",
              "      <td>7.0</td>\n",
              "      <td>Dưới 10</td>\n",
              "      <td>162.0</td>\n",
              "      <td>2.00</td>\n",
              "      <td>9.0</td>\n",
              "      <td>1</td>\n",
              "      <td>2</td>\n",
              "      <td>42000.0</td>\n",
              "      <td>4.0</td>\n",
              "    </tr>\n",
              "    <tr>\n",
              "      <th>18162</th>\n",
              "      <td>Quận 1</td>\n",
              "      <td>HCM</td>\n",
              "      <td>2.5</td>\n",
              "      <td>Biệt thự, nhà liền kề</td>\n",
              "      <td>No</td>\n",
              "      <td>7.0</td>\n",
              "      <td>Dưới 10</td>\n",
              "      <td>162.0</td>\n",
              "      <td>2.00</td>\n",
              "      <td>9.0</td>\n",
              "      <td>1</td>\n",
              "      <td>2</td>\n",
              "      <td>42000.0</td>\n",
              "      <td>5.0</td>\n",
              "    </tr>\n",
              "    <tr>\n",
              "      <th>16604</th>\n",
              "      <td>Quận Gò Vấp</td>\n",
              "      <td>HCM</td>\n",
              "      <td>2.3</td>\n",
              "      <td>Biệt thự, nhà liền kề</td>\n",
              "      <td>Yes</td>\n",
              "      <td>15.0</td>\n",
              "      <td>15-20m</td>\n",
              "      <td>114.0</td>\n",
              "      <td>19.00</td>\n",
              "      <td>6.0</td>\n",
              "      <td>5</td>\n",
              "      <td>5</td>\n",
              "      <td>27000.0</td>\n",
              "      <td>5.0</td>\n",
              "    </tr>\n",
              "    <tr>\n",
              "      <th>4838</th>\n",
              "      <td>Quận Tân Bình</td>\n",
              "      <td>HCM</td>\n",
              "      <td>2.5</td>\n",
              "      <td>Biệt thự, nhà liền kề</td>\n",
              "      <td>Yes</td>\n",
              "      <td>8.0</td>\n",
              "      <td>Dưới 10</td>\n",
              "      <td>160.0</td>\n",
              "      <td>16.00</td>\n",
              "      <td>1.0</td>\n",
              "      <td>50</td>\n",
              "      <td>7</td>\n",
              "      <td>20000.0</td>\n",
              "      <td>2.0</td>\n",
              "    </tr>\n",
              "    <tr>\n",
              "      <th>...</th>\n",
              "      <td>...</td>\n",
              "      <td>...</td>\n",
              "      <td>...</td>\n",
              "      <td>...</td>\n",
              "      <td>...</td>\n",
              "      <td>...</td>\n",
              "      <td>...</td>\n",
              "      <td>...</td>\n",
              "      <td>...</td>\n",
              "      <td>...</td>\n",
              "      <td>...</td>\n",
              "      <td>...</td>\n",
              "      <td>...</td>\n",
              "      <td>...</td>\n",
              "    </tr>\n",
              "    <tr>\n",
              "      <th>3248</th>\n",
              "      <td>Thành phố Thủ Đức</td>\n",
              "      <td>HCM</td>\n",
              "      <td>2.1</td>\n",
              "      <td>Đất thổ cư, đất ở</td>\n",
              "      <td>Yes</td>\n",
              "      <td>16.0</td>\n",
              "      <td>15-20m</td>\n",
              "      <td>216.0</td>\n",
              "      <td>18.00</td>\n",
              "      <td>12.0</td>\n",
              "      <td>0</td>\n",
              "      <td>0</td>\n",
              "      <td>18500.0</td>\n",
              "      <td>2.0</td>\n",
              "    </tr>\n",
              "    <tr>\n",
              "      <th>3247</th>\n",
              "      <td>Thành phố Thủ Đức</td>\n",
              "      <td>HCM</td>\n",
              "      <td>2.1</td>\n",
              "      <td>Đất thổ cư, đất ở</td>\n",
              "      <td>Yes</td>\n",
              "      <td>5.0</td>\n",
              "      <td>Dưới 10</td>\n",
              "      <td>81.0</td>\n",
              "      <td>21.00</td>\n",
              "      <td>4.0</td>\n",
              "      <td>0</td>\n",
              "      <td>0</td>\n",
              "      <td>4650.0</td>\n",
              "      <td>2.0</td>\n",
              "    </tr>\n",
              "    <tr>\n",
              "      <th>3246</th>\n",
              "      <td>Thành phố Thủ Đức</td>\n",
              "      <td>HCM</td>\n",
              "      <td>2.1</td>\n",
              "      <td>Đất thổ cư, đất ở</td>\n",
              "      <td>Yes</td>\n",
              "      <td>7.0</td>\n",
              "      <td>Dưới 10</td>\n",
              "      <td>81.0</td>\n",
              "      <td>14.00</td>\n",
              "      <td>6.0</td>\n",
              "      <td>0</td>\n",
              "      <td>0</td>\n",
              "      <td>3600.0</td>\n",
              "      <td>3.0</td>\n",
              "    </tr>\n",
              "    <tr>\n",
              "      <th>3244</th>\n",
              "      <td>Thành phố Thủ Đức</td>\n",
              "      <td>HCM</td>\n",
              "      <td>2.1</td>\n",
              "      <td>Đất thổ cư, đất ở</td>\n",
              "      <td>Yes</td>\n",
              "      <td>4.0</td>\n",
              "      <td>Dưới 10</td>\n",
              "      <td>210.0</td>\n",
              "      <td>2.00</td>\n",
              "      <td>1.0</td>\n",
              "      <td>0</td>\n",
              "      <td>0</td>\n",
              "      <td>10000.0</td>\n",
              "      <td>2.0</td>\n",
              "    </tr>\n",
              "    <tr>\n",
              "      <th>4746</th>\n",
              "      <td>Quận Bình Thạnh</td>\n",
              "      <td>HCM</td>\n",
              "      <td>2.3</td>\n",
              "      <td>Đất thổ cư, đất ở</td>\n",
              "      <td>Yes</td>\n",
              "      <td>20.0</td>\n",
              "      <td>20-30m</td>\n",
              "      <td>120.0</td>\n",
              "      <td>2.00</td>\n",
              "      <td>6.0</td>\n",
              "      <td>0</td>\n",
              "      <td>0</td>\n",
              "      <td>4200.0</td>\n",
              "      <td>2.0</td>\n",
              "    </tr>\n",
              "  </tbody>\n",
              "</table>\n",
              "<p>21831 rows × 14 columns</p>\n",
              "</div>\n",
              "      <button class=\"colab-df-convert\" onclick=\"convertToInteractive('df-c0200f1f-0ecb-4e90-873d-d8d214dc9863')\"\n",
              "              title=\"Convert this dataframe to an interactive table.\"\n",
              "              style=\"display:none;\">\n",
              "        \n",
              "  <svg xmlns=\"http://www.w3.org/2000/svg\" height=\"24px\"viewBox=\"0 0 24 24\"\n",
              "       width=\"24px\">\n",
              "    <path d=\"M0 0h24v24H0V0z\" fill=\"none\"/>\n",
              "    <path d=\"M18.56 5.44l.94 2.06.94-2.06 2.06-.94-2.06-.94-.94-2.06-.94 2.06-2.06.94zm-11 1L8.5 8.5l.94-2.06 2.06-.94-2.06-.94L8.5 2.5l-.94 2.06-2.06.94zm10 10l.94 2.06.94-2.06 2.06-.94-2.06-.94-.94-2.06-.94 2.06-2.06.94z\"/><path d=\"M17.41 7.96l-1.37-1.37c-.4-.4-.92-.59-1.43-.59-.52 0-1.04.2-1.43.59L10.3 9.45l-7.72 7.72c-.78.78-.78 2.05 0 2.83L4 21.41c.39.39.9.59 1.41.59.51 0 1.02-.2 1.41-.59l7.78-7.78 2.81-2.81c.8-.78.8-2.07 0-2.86zM5.41 20L4 18.59l7.72-7.72 1.47 1.35L5.41 20z\"/>\n",
              "  </svg>\n",
              "      </button>\n",
              "      \n",
              "  <style>\n",
              "    .colab-df-container {\n",
              "      display:flex;\n",
              "      flex-wrap:wrap;\n",
              "      gap: 12px;\n",
              "    }\n",
              "\n",
              "    .colab-df-convert {\n",
              "      background-color: #E8F0FE;\n",
              "      border: none;\n",
              "      border-radius: 50%;\n",
              "      cursor: pointer;\n",
              "      display: none;\n",
              "      fill: #1967D2;\n",
              "      height: 32px;\n",
              "      padding: 0 0 0 0;\n",
              "      width: 32px;\n",
              "    }\n",
              "\n",
              "    .colab-df-convert:hover {\n",
              "      background-color: #E2EBFA;\n",
              "      box-shadow: 0px 1px 2px rgba(60, 64, 67, 0.3), 0px 1px 3px 1px rgba(60, 64, 67, 0.15);\n",
              "      fill: #174EA6;\n",
              "    }\n",
              "\n",
              "    [theme=dark] .colab-df-convert {\n",
              "      background-color: #3B4455;\n",
              "      fill: #D2E3FC;\n",
              "    }\n",
              "\n",
              "    [theme=dark] .colab-df-convert:hover {\n",
              "      background-color: #434B5C;\n",
              "      box-shadow: 0px 1px 3px 1px rgba(0, 0, 0, 0.15);\n",
              "      filter: drop-shadow(0px 1px 2px rgba(0, 0, 0, 0.3));\n",
              "      fill: #FFFFFF;\n",
              "    }\n",
              "  </style>\n",
              "\n",
              "      <script>\n",
              "        const buttonEl =\n",
              "          document.querySelector('#df-c0200f1f-0ecb-4e90-873d-d8d214dc9863 button.colab-df-convert');\n",
              "        buttonEl.style.display =\n",
              "          google.colab.kernel.accessAllowed ? 'block' : 'none';\n",
              "\n",
              "        async function convertToInteractive(key) {\n",
              "          const element = document.querySelector('#df-c0200f1f-0ecb-4e90-873d-d8d214dc9863');\n",
              "          const dataTable =\n",
              "            await google.colab.kernel.invokeFunction('convertToInteractive',\n",
              "                                                     [key], {});\n",
              "          if (!dataTable) return;\n",
              "\n",
              "          const docLinkHtml = 'Like what you see? Visit the ' +\n",
              "            '<a target=\"_blank\" href=https://colab.research.google.com/notebooks/data_table.ipynb>data table notebook</a>'\n",
              "            + ' to learn more about interactive tables.';\n",
              "          element.innerHTML = '';\n",
              "          dataTable['output_type'] = 'display_data';\n",
              "          await google.colab.output.renderOutput(dataTable, element);\n",
              "          const docLink = document.createElement('div');\n",
              "          docLink.innerHTML = docLinkHtml;\n",
              "          element.appendChild(docLink);\n",
              "        }\n",
              "      </script>\n",
              "    </div>\n",
              "  </div>\n",
              "  "
            ],
            "text/plain": [
              "                District Province  Hsdieuchinh          Type_of_house  \\\n",
              "12480      Quận Tân Bình      HCM          2.5  Biệt thự, nhà liền kề   \n",
              "18161             Quận 1      HCM          2.5  Biệt thự, nhà liền kề   \n",
              "18162             Quận 1      HCM          2.5  Biệt thự, nhà liền kề   \n",
              "16604        Quận Gò Vấp      HCM          2.3  Biệt thự, nhà liền kề   \n",
              "4838       Quận Tân Bình      HCM          2.5  Biệt thự, nhà liền kề   \n",
              "...                  ...      ...          ...                    ...   \n",
              "3248   Thành phố Thủ Đức      HCM          2.1      Đất thổ cư, đất ở   \n",
              "3247   Thành phố Thủ Đức      HCM          2.1      Đất thổ cư, đất ở   \n",
              "3246   Thành phố Thủ Đức      HCM          2.1      Đất thổ cư, đất ở   \n",
              "3244   Thành phố Thủ Đức      HCM          2.1      Đất thổ cư, đất ở   \n",
              "4746     Quận Bình Thạnh      HCM          2.3      Đất thổ cư, đất ở   \n",
              "\n",
              "      Legal_paper   WOS WOS_Segment   Area  Length  Width  Rooms  Floors  \\\n",
              "12480         Yes   7.0     Dưới 10   85.0   63.75    1.0      6       4   \n",
              "18161          No   7.0     Dưới 10  162.0    2.00    9.0      1       2   \n",
              "18162          No   7.0     Dưới 10  162.0    2.00    9.0      1       2   \n",
              "16604         Yes  15.0      15-20m  114.0   19.00    6.0      5       5   \n",
              "4838          Yes   8.0     Dưới 10  160.0   16.00    1.0     50       7   \n",
              "...           ...   ...         ...    ...     ...    ...    ...     ...   \n",
              "3248          Yes  16.0      15-20m  216.0   18.00   12.0      0       0   \n",
              "3247          Yes   5.0     Dưới 10   81.0   21.00    4.0      0       0   \n",
              "3246          Yes   7.0     Dưới 10   81.0   14.00    6.0      0       0   \n",
              "3244          Yes   4.0     Dưới 10  210.0    2.00    1.0      0       0   \n",
              "4746          Yes  20.0      20-30m  120.0    2.00    6.0      0       0   \n",
              "\n",
              "         Price  Weight  \n",
              "12480  20800.0     4.0  \n",
              "18161  42000.0     4.0  \n",
              "18162  42000.0     5.0  \n",
              "16604  27000.0     5.0  \n",
              "4838   20000.0     2.0  \n",
              "...        ...     ...  \n",
              "3248   18500.0     2.0  \n",
              "3247    4650.0     2.0  \n",
              "3246    3600.0     3.0  \n",
              "3244   10000.0     2.0  \n",
              "4746    4200.0     2.0  \n",
              "\n",
              "[21831 rows x 14 columns]"
            ]
          },
          "execution_count": 92,
          "metadata": {},
          "output_type": "execute_result"
        }
      ],
      "source": [
        "removed_outliers"
      ]
    },
    {
      "cell_type": "code",
      "execution_count": null,
      "metadata": {
        "colab": {
          "base_uri": "https://localhost:8080/"
        },
        "id": "kQ3lOQ6KMEF3",
        "outputId": "271db3ab-e997-4db6-8613-ffae3f036ad8"
      },
      "outputs": [
        {
          "name": "stdout",
          "output_type": "stream",
          "text": [
            "<class 'pandas.core.frame.DataFrame'>\n",
            "Int64Index: 21831 entries, 12480 to 4746\n",
            "Data columns (total 14 columns):\n",
            " #   Column         Non-Null Count  Dtype  \n",
            "---  ------         --------------  -----  \n",
            " 0   District       21831 non-null  object \n",
            " 1   Province       21831 non-null  object \n",
            " 2   Hsdieuchinh    21831 non-null  float64\n",
            " 3   Type_of_house  21831 non-null  object \n",
            " 4   Legal_paper    21831 non-null  object \n",
            " 5   WOS            21831 non-null  float64\n",
            " 6   WOS_Segment    21831 non-null  object \n",
            " 7   Area           21831 non-null  float64\n",
            " 8   Length         21831 non-null  float64\n",
            " 9   Width          21831 non-null  float64\n",
            " 10  Rooms          21831 non-null  int64  \n",
            " 11  Floors         21831 non-null  int64  \n",
            " 12  Price          21831 non-null  float64\n",
            " 13  Weight         21831 non-null  float64\n",
            "dtypes: float64(7), int64(2), object(5)\n",
            "memory usage: 2.5+ MB\n"
          ]
        }
      ],
      "source": [
        "removed_outliers.info()"
      ]
    },
    {
      "cell_type": "code",
      "execution_count": null,
      "metadata": {
        "id": "Uo8nQ4iGVfO7"
      },
      "outputs": [],
      "source": [
        "df = df.drop(['WOS', 'Length', 'Width'], axis=1)"
      ]
    },
    {
      "cell_type": "markdown",
      "metadata": {
        "id": "Tnn2P5M9k6-m"
      },
      "source": [
        "#**Step6: Building Model**"
      ]
    },
    {
      "cell_type": "code",
      "execution_count": null,
      "metadata": {
        "id": "dFWzvoX_fEIe"
      },
      "outputs": [],
      "source": [
        "from sklearn.preprocessing import  OneHotEncoder, StandardScaler\n",
        "from sklearn.ensemble import RandomForestRegressor\n",
        "from sklearn.model_selection import train_test_split\n",
        "from sklearn.pipeline import make_pipeline\n",
        "from sklearn.compose import make_column_transformer\n",
        "from sklearn.model_selection import RandomizedSearchCV\n",
        "from sklearn.linear_model import LinearRegression\n",
        "from sklearn.svm import SVR\n",
        "from sklearn.tree import DecisionTreeRegressor"
      ]
    },
    {
      "cell_type": "code",
      "execution_count": null,
      "metadata": {
        "id": "mo4LbdQ1Xl9P"
      },
      "outputs": [],
      "source": [
        "housing = removed_outliers\n",
        "\n",
        "# Separate predictors and response (price) variables\n",
        "X = housing.loc[:, housing.columns != 'Price']\n",
        "y = housing[['Price']]"
      ]
    },
    {
      "cell_type": "code",
      "execution_count": null,
      "metadata": {
        "id": "FWZ-dIKLYHrG"
      },
      "outputs": [],
      "source": [
        "X_train, X_test, y_train, y_test = train_test_split(X, y, test_size=0.2,random_state=None)"
      ]
    },
    {
      "cell_type": "code",
      "execution_count": null,
      "metadata": {
        "colab": {
          "base_uri": "https://localhost:8080/"
        },
        "id": "EVEVrEBeqfIc",
        "outputId": "444a2d89-2a13-4610-d475-4d9bb0c1bb75"
      },
      "outputs": [
        {
          "data": {
            "text/plain": [
              "((17464, 13), (17464, 1))"
            ]
          },
          "execution_count": 98,
          "metadata": {},
          "output_type": "execute_result"
        }
      ],
      "source": [
        "X_train.shape, y_train.shape"
      ]
    },
    {
      "cell_type": "code",
      "execution_count": null,
      "metadata": {
        "colab": {
          "base_uri": "https://localhost:8080/"
        },
        "id": "_HtB44Q8qniD",
        "outputId": "d439ded8-548e-4a39-b2c1-dc8260086508"
      },
      "outputs": [
        {
          "data": {
            "text/plain": [
              "((4367, 13), (4367, 1))"
            ]
          },
          "execution_count": 99,
          "metadata": {},
          "output_type": "execute_result"
        }
      ],
      "source": [
        "X_test.shape, y_test.shape"
      ]
    },
    {
      "cell_type": "markdown",
      "metadata": {
        "id": "BBiET5NGYERq"
      },
      "source": [
        "###**Class Training Model**"
      ]
    },
    {
      "cell_type": "code",
      "execution_count": null,
      "metadata": {
        "colab": {
          "base_uri": "https://localhost:8080/",
          "height": 206
        },
        "id": "EY4tfb_9M4O6",
        "outputId": "b79c9aa0-1aaf-4ee0-b5ad-f7caa9d882e2"
      },
      "outputs": [
        {
          "data": {
            "text/html": [
              "\n",
              "  <div id=\"df-c0f74f10-e5cb-4c88-9269-ca4cec2bcbbf\">\n",
              "    <div class=\"colab-df-container\">\n",
              "      <div>\n",
              "<style scoped>\n",
              "    .dataframe tbody tr th:only-of-type {\n",
              "        vertical-align: middle;\n",
              "    }\n",
              "\n",
              "    .dataframe tbody tr th {\n",
              "        vertical-align: top;\n",
              "    }\n",
              "\n",
              "    .dataframe thead th {\n",
              "        text-align: right;\n",
              "    }\n",
              "</style>\n",
              "<table border=\"1\" class=\"dataframe\">\n",
              "  <thead>\n",
              "    <tr style=\"text-align: right;\">\n",
              "      <th></th>\n",
              "      <th>District</th>\n",
              "      <th>Province</th>\n",
              "      <th>Hsdieuchinh</th>\n",
              "      <th>Type_of_house</th>\n",
              "      <th>Legal_paper</th>\n",
              "      <th>WOS_Segment</th>\n",
              "      <th>Area</th>\n",
              "      <th>Rooms</th>\n",
              "      <th>Floors</th>\n",
              "      <th>Price</th>\n",
              "      <th>Weight</th>\n",
              "    </tr>\n",
              "  </thead>\n",
              "  <tbody>\n",
              "    <tr>\n",
              "      <th>12480</th>\n",
              "      <td>Quận Tân Bình</td>\n",
              "      <td>HCM</td>\n",
              "      <td>2.5</td>\n",
              "      <td>Biệt thự, nhà liền kề</td>\n",
              "      <td>Yes</td>\n",
              "      <td>Dưới 10</td>\n",
              "      <td>85.0</td>\n",
              "      <td>6</td>\n",
              "      <td>4</td>\n",
              "      <td>20800.0</td>\n",
              "      <td>4.0</td>\n",
              "    </tr>\n",
              "    <tr>\n",
              "      <th>18161</th>\n",
              "      <td>Quận 1</td>\n",
              "      <td>HCM</td>\n",
              "      <td>2.5</td>\n",
              "      <td>Biệt thự, nhà liền kề</td>\n",
              "      <td>No</td>\n",
              "      <td>Dưới 10</td>\n",
              "      <td>162.0</td>\n",
              "      <td>1</td>\n",
              "      <td>2</td>\n",
              "      <td>42000.0</td>\n",
              "      <td>4.0</td>\n",
              "    </tr>\n",
              "    <tr>\n",
              "      <th>18162</th>\n",
              "      <td>Quận 1</td>\n",
              "      <td>HCM</td>\n",
              "      <td>2.5</td>\n",
              "      <td>Biệt thự, nhà liền kề</td>\n",
              "      <td>No</td>\n",
              "      <td>Dưới 10</td>\n",
              "      <td>162.0</td>\n",
              "      <td>1</td>\n",
              "      <td>2</td>\n",
              "      <td>42000.0</td>\n",
              "      <td>5.0</td>\n",
              "    </tr>\n",
              "    <tr>\n",
              "      <th>16604</th>\n",
              "      <td>Quận Gò Vấp</td>\n",
              "      <td>HCM</td>\n",
              "      <td>2.3</td>\n",
              "      <td>Biệt thự, nhà liền kề</td>\n",
              "      <td>Yes</td>\n",
              "      <td>15-20m</td>\n",
              "      <td>114.0</td>\n",
              "      <td>5</td>\n",
              "      <td>5</td>\n",
              "      <td>27000.0</td>\n",
              "      <td>5.0</td>\n",
              "    </tr>\n",
              "    <tr>\n",
              "      <th>4838</th>\n",
              "      <td>Quận Tân Bình</td>\n",
              "      <td>HCM</td>\n",
              "      <td>2.5</td>\n",
              "      <td>Biệt thự, nhà liền kề</td>\n",
              "      <td>Yes</td>\n",
              "      <td>Dưới 10</td>\n",
              "      <td>160.0</td>\n",
              "      <td>50</td>\n",
              "      <td>7</td>\n",
              "      <td>20000.0</td>\n",
              "      <td>2.0</td>\n",
              "    </tr>\n",
              "  </tbody>\n",
              "</table>\n",
              "</div>\n",
              "      <button class=\"colab-df-convert\" onclick=\"convertToInteractive('df-c0f74f10-e5cb-4c88-9269-ca4cec2bcbbf')\"\n",
              "              title=\"Convert this dataframe to an interactive table.\"\n",
              "              style=\"display:none;\">\n",
              "        \n",
              "  <svg xmlns=\"http://www.w3.org/2000/svg\" height=\"24px\"viewBox=\"0 0 24 24\"\n",
              "       width=\"24px\">\n",
              "    <path d=\"M0 0h24v24H0V0z\" fill=\"none\"/>\n",
              "    <path d=\"M18.56 5.44l.94 2.06.94-2.06 2.06-.94-2.06-.94-.94-2.06-.94 2.06-2.06.94zm-11 1L8.5 8.5l.94-2.06 2.06-.94-2.06-.94L8.5 2.5l-.94 2.06-2.06.94zm10 10l.94 2.06.94-2.06 2.06-.94-2.06-.94-.94-2.06-.94 2.06-2.06.94z\"/><path d=\"M17.41 7.96l-1.37-1.37c-.4-.4-.92-.59-1.43-.59-.52 0-1.04.2-1.43.59L10.3 9.45l-7.72 7.72c-.78.78-.78 2.05 0 2.83L4 21.41c.39.39.9.59 1.41.59.51 0 1.02-.2 1.41-.59l7.78-7.78 2.81-2.81c.8-.78.8-2.07 0-2.86zM5.41 20L4 18.59l7.72-7.72 1.47 1.35L5.41 20z\"/>\n",
              "  </svg>\n",
              "      </button>\n",
              "      \n",
              "  <style>\n",
              "    .colab-df-container {\n",
              "      display:flex;\n",
              "      flex-wrap:wrap;\n",
              "      gap: 12px;\n",
              "    }\n",
              "\n",
              "    .colab-df-convert {\n",
              "      background-color: #E8F0FE;\n",
              "      border: none;\n",
              "      border-radius: 50%;\n",
              "      cursor: pointer;\n",
              "      display: none;\n",
              "      fill: #1967D2;\n",
              "      height: 32px;\n",
              "      padding: 0 0 0 0;\n",
              "      width: 32px;\n",
              "    }\n",
              "\n",
              "    .colab-df-convert:hover {\n",
              "      background-color: #E2EBFA;\n",
              "      box-shadow: 0px 1px 2px rgba(60, 64, 67, 0.3), 0px 1px 3px 1px rgba(60, 64, 67, 0.15);\n",
              "      fill: #174EA6;\n",
              "    }\n",
              "\n",
              "    [theme=dark] .colab-df-convert {\n",
              "      background-color: #3B4455;\n",
              "      fill: #D2E3FC;\n",
              "    }\n",
              "\n",
              "    [theme=dark] .colab-df-convert:hover {\n",
              "      background-color: #434B5C;\n",
              "      box-shadow: 0px 1px 3px 1px rgba(0, 0, 0, 0.15);\n",
              "      filter: drop-shadow(0px 1px 2px rgba(0, 0, 0, 0.3));\n",
              "      fill: #FFFFFF;\n",
              "    }\n",
              "  </style>\n",
              "\n",
              "      <script>\n",
              "        const buttonEl =\n",
              "          document.querySelector('#df-c0f74f10-e5cb-4c88-9269-ca4cec2bcbbf button.colab-df-convert');\n",
              "        buttonEl.style.display =\n",
              "          google.colab.kernel.accessAllowed ? 'block' : 'none';\n",
              "\n",
              "        async function convertToInteractive(key) {\n",
              "          const element = document.querySelector('#df-c0f74f10-e5cb-4c88-9269-ca4cec2bcbbf');\n",
              "          const dataTable =\n",
              "            await google.colab.kernel.invokeFunction('convertToInteractive',\n",
              "                                                     [key], {});\n",
              "          if (!dataTable) return;\n",
              "\n",
              "          const docLinkHtml = 'Like what you see? Visit the ' +\n",
              "            '<a target=\"_blank\" href=https://colab.research.google.com/notebooks/data_table.ipynb>data table notebook</a>'\n",
              "            + ' to learn more about interactive tables.';\n",
              "          element.innerHTML = '';\n",
              "          dataTable['output_type'] = 'display_data';\n",
              "          await google.colab.output.renderOutput(dataTable, element);\n",
              "          const docLink = document.createElement('div');\n",
              "          docLink.innerHTML = docLinkHtml;\n",
              "          element.appendChild(docLink);\n",
              "        }\n",
              "      </script>\n",
              "    </div>\n",
              "  </div>\n",
              "  "
            ],
            "text/plain": [
              "            District Province  Hsdieuchinh          Type_of_house Legal_paper  \\\n",
              "12480  Quận Tân Bình      HCM          2.5  Biệt thự, nhà liền kề         Yes   \n",
              "18161         Quận 1      HCM          2.5  Biệt thự, nhà liền kề          No   \n",
              "18162         Quận 1      HCM          2.5  Biệt thự, nhà liền kề          No   \n",
              "16604    Quận Gò Vấp      HCM          2.3  Biệt thự, nhà liền kề         Yes   \n",
              "4838   Quận Tân Bình      HCM          2.5  Biệt thự, nhà liền kề         Yes   \n",
              "\n",
              "      WOS_Segment   Area  Rooms  Floors    Price  Weight  \n",
              "12480     Dưới 10   85.0      6       4  20800.0     4.0  \n",
              "18161     Dưới 10  162.0      1       2  42000.0     4.0  \n",
              "18162     Dưới 10  162.0      1       2  42000.0     5.0  \n",
              "16604      15-20m  114.0      5       5  27000.0     5.0  \n",
              "4838      Dưới 10  160.0     50       7  20000.0     2.0  "
            ]
          },
          "execution_count": 100,
          "metadata": {},
          "output_type": "execute_result"
        }
      ],
      "source": [
        "df.head()"
      ]
    },
    {
      "cell_type": "code",
      "execution_count": null,
      "metadata": {
        "id": "LuHvbOhOJLjj"
      },
      "outputs": [],
      "source": [
        "# Xóa thử trong so\n",
        "#df = df.drop(['Weight'], axis=1)"
      ]
    },
    {
      "cell_type": "code",
      "execution_count": null,
      "metadata": {
        "colab": {
          "base_uri": "https://localhost:8080/"
        },
        "id": "c7rYf_O2N1Bb",
        "outputId": "1d93b84d-0018-4166-b23c-d1a0d31222a2"
      },
      "outputs": [
        {
          "data": {
            "text/plain": [
              "Index(['District', 'Province', 'Hsdieuchinh', 'Type_of_house', 'Legal_paper',\n",
              "       'WOS_Segment', 'Area', 'Rooms', 'Floors', 'Price', 'Weight'],\n",
              "      dtype='object')"
            ]
          },
          "execution_count": 102,
          "metadata": {},
          "output_type": "execute_result"
        }
      ],
      "source": [
        "df.columns"
      ]
    },
    {
      "cell_type": "code",
      "execution_count": null,
      "metadata": {
        "id": "gYP-PkVDEV5P"
      },
      "outputs": [],
      "source": [
        "import xgboost\n",
        "from sklearn.ensemble import GradientBoostingRegressor\n",
        "from sklearn.metrics import accuracy_score\n",
        "from sklearn.metrics import mean_absolute_error\n",
        "from sklearn.metrics import mean_squared_error\n",
        "# RMSE print(\"RMSE\",np.sqrt(mean_squared_error(y_test,y_pred)))\n",
        "from sklearn.preprocessing import MinMaxScaler"
      ]
    },
    {
      "cell_type": "code",
      "execution_count": null,
      "metadata": {
        "id": "FPG3YwkdaikH"
      },
      "outputs": [],
      "source": [
        "class TrainModel:\n",
        "  \"\"\"\n",
        "    Class TrainModel dùng để xây dựng model dự đoán với input là tập dữ liệu đã chia \n",
        "    và các model bao gồm RandomForest, Linear Regression, Support Vector Regressor, Decision Tree\n",
        "    Output là model và score(độ chính xác của model).  \n",
        "    Class Trainmodel gồm các hàm thành phần:\n",
        "        + Hàm __init__(): \n",
        "              -- contructor khởi tạo các mô hình định (RF, LR, SVR, DT); \n",
        "              -- các param mẫu (param_RF) cho việc thực hiện Gridsearch;\n",
        "              -- column_trans: encode label trong các cột\n",
        "              -- scaler: chuẩn hóa dữ liệu với Standard Scaler\n",
        "              -- X_train, X_test, y_train, y_test: các trường dữ liệu phân chia trước khi vào huấn luyện\n",
        "        + Hàm makepipe(): tạo hệ thống pipe xử lý song song việc encol label model và train model\n",
        "        + Hàm RandomForest(): xây dựng mô hình hồi quy RandomForest\n",
        "        + Hàm LinearReg(): xây dựng mô hình hồi quy LinearRegression\n",
        "        + Hàm SupportVectorReg(): xây dựng mô hình hồi quy SVR\n",
        "        + Hàm DecisionTree(): xây dựng mô hình hồi quy DT\n",
        "        + Hàm GridSearch(): dùng công cụ hộ trợ sklearn.GridSearchCV() tuning cho mô hình với tập param mẫu trên toàn bộ dữ liệu train, tìm ra param tốt nhất cho mô hình (best_param_) và score(best_score).\n",
        "\n",
        "  \"\"\"\n",
        "  def __init__(self,X_train, X_test, y_train, y_test):\n",
        "    self.data = pd.DataFrame({'Model': [], 'Accuracy': [], 'R2': [], 'MAE': [], 'MSE': []})\n",
        "    self.RF = RandomForestRegressor()\n",
        "    self.LR =  LinearRegression()\n",
        "    self.SVR = SVR(C=5000.0, epsilon=1)\n",
        "    self.DT = DecisionTreeRegressor()\n",
        "    self.xgboost = xgboost.XGBRegressor()\n",
        "    self.GBR= GradientBoostingRegressor(n_estimators=2000, max_depth=5, min_samples_split=2, learning_rate=0.1, loss='ls')\n",
        "    # param mẫu RandomForest cho GridSearch() \n",
        "    self.param_RF = {'n_estimators': [100,500,1000,1500,2000],\n",
        "               'max_features': ['sqrt'],\n",
        "               'max_depth': [39,40],\n",
        "               'min_samples_split': [1,2],\n",
        "               'min_samples_leaf': [1,2]}\n",
        "    \n",
        "    self.param_GBR = {'n_estimators': [100,300,400,500,600,1000,1500],\n",
        "               'max_depth': [10],\n",
        "               'min_samples_split': [2],\n",
        "               'learning_rate': [0.5]}\n",
        "\n",
        "\n",
        "\n",
        "    #encoder label \n",
        "    self.column_trans = make_column_transformer((OneHotEncoder(sparse=False),['District']),\n",
        "                                        (OneHotEncoder(sparse=False),['Province']),\n",
        "                                        (OneHotEncoder(sparse=False),['Type_of_house']),\n",
        "                                        (OneHotEncoder(sparse=False),['Legal_paper']),\n",
        "                                        (OneHotEncoder(sparse=False),['WOS_Segment']),\n",
        "                                        remainder='passthrough')\n",
        "    #self.scaler = StandardScaler()\n",
        "    self.scaler = MinMaxScaler()\n",
        "    self.X_train = X_train \n",
        "    self.X_test = X_test\n",
        "    self.y_train = y_train\n",
        "    self.y_test= y_test\n",
        "\n",
        "  def makepipe(self,model):\n",
        "    pipe = make_pipeline(self.column_trans,self.scaler,model)\n",
        "    return pipe\n",
        "  def get_data(self):\n",
        "    return self.data  \n",
        "  def GradientBoostingRegressor(self):\n",
        "    pipe = self.makepipe(self.GBR)\n",
        "    pipe.fit(self.X_train,self.y_train)  \n",
        "    y_predict = pipe.predict(self.X_test)\n",
        "    data_dic = {'Model':'','Accuracy':'','R2':'','MAE':'','MSE':''}\n",
        "    data_dic['Model'] = 'GradientBoostingRegressor'\n",
        "    data_dic['R2'] = r2_score(self.y_test,y_predict)\n",
        "    data_dic['Accuracy'] = pipe.score(self.X_test,self.y_test)\n",
        "    data_dic['MAE'] = mean_absolute_error(self.y_test,y_predict)\n",
        "    data_dic['MSE'] = mean_squared_error(self.y_test,y_predict) \n",
        "    self.data = self.data.append(data_dic,ignore_index = True) \n",
        "    return pipe\n",
        "  def RandomForest(self):\n",
        "    pipe = self.makepipe(self.RF)\n",
        "    pipe.fit(self.X_train,self.y_train)  \n",
        "    y_predict = pipe.predict(self.X_test)\n",
        "    data_dic = {'Model':'','Accuracy':'','R2':'','MAE':'','MSE':''}\n",
        "    data_dic['Model'] = 'RandomForest'\n",
        "    data_dic['R2'] = r2_score(self.y_test,y_predict)\n",
        "    data_dic['Accuracy'] = pipe.score(self.X_test,self.y_test)\n",
        "    data_dic['MAE'] = mean_absolute_error(self.y_test,y_predict)\n",
        "    data_dic['MSE'] = mean_squared_error(self.y_test,y_predict) \n",
        "    self.data = self.data.append(data_dic,ignore_index = True)  \n",
        "    return pipe\n",
        "  def LinearReg(self):\n",
        "    pipe = self.makepipe(self.LR)\n",
        "    pipe.fit(self.X_train,self.y_train)  \n",
        "    y_predict = pipe.predict(self.X_test)\n",
        "    data_dic = {'Model':'','Accuracy':'','R2':'','MAE':'','MSE':''}\n",
        "    data_dic['Model'] = 'Linear Regression'\n",
        "    data_dic['R2'] = r2_score(self.y_test,y_predict)\n",
        "    data_dic['Accuracy'] = pipe.score(self.X_test,self.y_test)\n",
        "    data_dic['MAE'] = mean_absolute_error(self.y_test,y_predict)\n",
        "    data_dic['MSE'] = mean_squared_error(self.y_test,y_predict) \n",
        "    self.data = self.data.append(data_dic,ignore_index = True)  \n",
        "    return pipe\n",
        "  def SupportVectorReg(self):\n",
        "    pipe = self.makepipe(self.SVR)\n",
        "    pipe.fit(self.X_train,self.y_train)  \n",
        "    y_predict = pipe.predict(self.X_test) \n",
        "    data_dic = {'Model':'','Accuracy':'','R2':'','MAE':'','MSE':''}\n",
        "    data_dic['Model'] = 'Support Vector Machine'\n",
        "    data_dic['R2'] = r2_score(self.y_test,y_predict)\n",
        "    data_dic['Accuracy'] = pipe.score(self.X_test,self.y_test)\n",
        "    data_dic['MAE'] = mean_absolute_error(self.y_test,y_predict)\n",
        "    data_dic['MSE'] = mean_squared_error(self.y_test,y_predict) \n",
        "    self.data = self.data.append(data_dic,ignore_index = True) \n",
        "    return pipe\n",
        "  def DecisionTree(self):\n",
        "    pipe = self.makepipe(self.DT)\n",
        "    pipe.fit(self.X_train,self.y_train)  \n",
        "    y_predict = pipe.predict(self.X_test)\n",
        "    data_dic = {'Model':'','Accuracy':'','R2':'','MAE':'','MSE':''}\n",
        "    data_dic['Model'] = 'Decision Tree'\n",
        "    data_dic['R2'] = r2_score(self.y_test,y_predict)\n",
        "    data_dic['Accuracy'] = pipe.score(self.X_test,self.y_test)\n",
        "    data_dic['MAE'] = mean_absolute_error(self.y_test,y_predict)\n",
        "    data_dic['MSE'] = mean_squared_error(self.y_test,y_predict) \n",
        "    self.data = self.data.append(data_dic,ignore_index = True)  \n",
        "    return pipe\n",
        "  def Xgboost(self):\n",
        "    pipe = self.makepipe(self.xgboost)\n",
        "    pipe.fit(self.X_train,self.y_train)  \n",
        "    y_predict = pipe.predict(self.X_test)\n",
        "    data_dic = {'Model':'','Accuracy':'','R2':'','MAE':'','MSE':''}\n",
        "    data_dic['Model'] = 'Xgboost'\n",
        "    data_dic['R2'] = r2_score(self.y_test,y_predict)\n",
        "    data_dic['Accuracy'] = pipe.score(self.X_test,self.y_test)\n",
        "    data_dic['MAE'] = mean_absolute_error(self.y_test,y_predict)\n",
        "    data_dic['MSE'] = mean_squared_error(self.y_test,y_predict) \n",
        "    self.data = self.data.append(data_dic,ignore_index = True)  \n",
        "    return pipe\n",
        "    \n",
        "  def GridSearch(self, name):\n",
        "    if name == 'Random Forest':\n",
        "      Grid = self.makepipe(GridSearchCV(estimator=self.RF, param_grid=self.param_RF, \n",
        "                              cv=3, verbose=0))\n",
        "      Grid_search = Grid.fit(self.X_train, np.array(self.y_train).ravel())\n",
        "    elif name == 'GBR':\n",
        "      Grid = self.makepipe(GridSearchCV(estimator=self.GBR, param_grid=self.param_GBR, \n",
        "                              cv=3, verbose=0))\n",
        "      Grid_search = Grid.fit(self.X_train, np.array(self.y_train).ravel())\n",
        "      \n",
        "    model = self.makepipe(Grid_search[2].best_estimator_).fit(self.X_train, np.array(self.y_train).ravel())\n",
        "    y_predict = model.predict(self.X_test)\n",
        "    return Grid_search, model, r2_score(self.y_test,y_predict)\n",
        "    "
      ]
    },
    {
      "cell_type": "markdown",
      "metadata": {
        "id": "VslfT3h7esWR"
      },
      "source": [
        "###**Modeling**"
      ]
    },
    {
      "cell_type": "code",
      "execution_count": null,
      "metadata": {
        "id": "lmgaHqbkeqn_"
      },
      "outputs": [],
      "source": [
        "model = TrainModel(X_train, X_test, y_train, y_test)"
      ]
    },
    {
      "cell_type": "code",
      "execution_count": null,
      "metadata": {
        "colab": {
          "base_uri": "https://localhost:8080/"
        },
        "id": "jt_ACJhge55g",
        "outputId": "0d04d917-c603-45f8-f768-765c33d9cc93"
      },
      "outputs": [
        {
          "data": {
            "text/plain": [
              "array(['Quận 10', 'Quận Bình Tân', 'Quận Gò Vấp', 'Thành phố Thủ Đức',\n",
              "       'Huyện Nhà Bè', 'Quận 7', 'Quận Tân Bình', 'Quận Tân Phú',\n",
              "       'Quận 2', 'Huyện Bình Chánh', 'Quận 11', 'Quận Phú Nhuận',\n",
              "       'Quận Bình Thạnh', 'Quận 12', 'Huyện Hóc Môn', 'Quận 4', 'Quận 3',\n",
              "       'Quận 1', 'Quận 6', 'Quận 5', 'Quận 8', 'Huyện Củ Chi', 'Quận 9',\n",
              "       'Huyện Cần Giờ'], dtype=object)"
            ]
          },
          "execution_count": 106,
          "metadata": {},
          "output_type": "execute_result"
        }
      ],
      "source": [
        "model.X_train.District.unique()"
      ]
    },
    {
      "cell_type": "markdown",
      "metadata": {
        "id": "2_cEnGya0ret"
      },
      "source": [
        "####**Gradient Boosting Regressor**"
      ]
    },
    {
      "cell_type": "code",
      "execution_count": null,
      "metadata": {
        "colab": {
          "base_uri": "https://localhost:8080/"
        },
        "id": "G_C-7mDVzZuv",
        "outputId": "efaebdb0-75f7-4602-ac3a-6be4cc913d4b"
      },
      "outputs": [
        {
          "name": "stderr",
          "output_type": "stream",
          "text": [
            "/usr/local/lib/python3.7/dist-packages/sklearn/ensemble/_gb.py:494: DataConversionWarning: A column-vector y was passed when a 1d array was expected. Please change the shape of y to (n_samples, ), for example using ravel().\n",
            "  y = column_or_1d(y, warn=True)\n",
            "/usr/local/lib/python3.7/dist-packages/sklearn/ensemble/_gb.py:290: FutureWarning: The loss 'ls' was deprecated in v1.0 and will be removed in version 1.2. Use 'squared_error' which is equivalent.\n",
            "  FutureWarning,\n"
          ]
        }
      ],
      "source": [
        "pipe_GBR = model.GradientBoostingRegressor()"
      ]
    },
    {
      "cell_type": "markdown",
      "metadata": {
        "id": "DHytlGOJBzVP"
      },
      "source": [
        "####**Random Forest**"
      ]
    },
    {
      "cell_type": "code",
      "execution_count": null,
      "metadata": {
        "colab": {
          "base_uri": "https://localhost:8080/"
        },
        "id": "mrpYxrCFeBqo",
        "outputId": "7f8d8c86-17cb-4729-ae20-488703ab2686"
      },
      "outputs": [
        {
          "name": "stderr",
          "output_type": "stream",
          "text": [
            "/usr/local/lib/python3.7/dist-packages/sklearn/pipeline.py:394: DataConversionWarning: A column-vector y was passed when a 1d array was expected. Please change the shape of y to (n_samples,), for example using ravel().\n",
            "  self._final_estimator.fit(Xt, y, **fit_params_last_step)\n"
          ]
        }
      ],
      "source": [
        "pipe_RF = model.RandomForest()"
      ]
    },
    {
      "cell_type": "markdown",
      "metadata": {
        "id": "P3UdQ3Ed_COU"
      },
      "source": [
        "####**Linear Regession**"
      ]
    },
    {
      "cell_type": "code",
      "execution_count": null,
      "metadata": {
        "id": "HpRfFQ24fC6L"
      },
      "outputs": [],
      "source": [
        "pipe_LR = model.LinearReg()"
      ]
    },
    {
      "cell_type": "markdown",
      "metadata": {
        "id": "VY9C8Ag6_CX6"
      },
      "source": [
        "####**Support Vector Regressor**"
      ]
    },
    {
      "cell_type": "code",
      "execution_count": null,
      "metadata": {
        "colab": {
          "base_uri": "https://localhost:8080/"
        },
        "id": "XclBjI7ffOha",
        "outputId": "53908439-b3ea-45a7-c069-64e35a3f6b90"
      },
      "outputs": [
        {
          "name": "stderr",
          "output_type": "stream",
          "text": [
            "/usr/local/lib/python3.7/dist-packages/sklearn/utils/validation.py:993: DataConversionWarning: A column-vector y was passed when a 1d array was expected. Please change the shape of y to (n_samples, ), for example using ravel().\n",
            "  y = column_or_1d(y, warn=True)\n"
          ]
        }
      ],
      "source": [
        "pipe_SVR = model.SupportVectorReg()"
      ]
    },
    {
      "cell_type": "markdown",
      "metadata": {
        "id": "iUL1GxPy_CgN"
      },
      "source": [
        "####**Decision Tree**"
      ]
    },
    {
      "cell_type": "code",
      "execution_count": null,
      "metadata": {
        "id": "FR87rwVrft1N"
      },
      "outputs": [],
      "source": [
        "pipe_DT = model.DecisionTree()"
      ]
    },
    {
      "cell_type": "markdown",
      "metadata": {
        "id": "v-mZhflAaYl9"
      },
      "source": [
        "###**Evaluate Metrics**\n"
      ]
    },
    {
      "cell_type": "code",
      "execution_count": null,
      "metadata": {
        "colab": {
          "base_uri": "https://localhost:8080/",
          "height": 206
        },
        "id": "MZf1puWRcGYi",
        "outputId": "82ac4527-66fe-4308-a39b-8df8f0136949"
      },
      "outputs": [
        {
          "data": {
            "text/html": [
              "\n",
              "  <div id=\"df-3f2913a7-14a3-478f-92d6-a58374e57e7b\">\n",
              "    <div class=\"colab-df-container\">\n",
              "      <div>\n",
              "<style scoped>\n",
              "    .dataframe tbody tr th:only-of-type {\n",
              "        vertical-align: middle;\n",
              "    }\n",
              "\n",
              "    .dataframe tbody tr th {\n",
              "        vertical-align: top;\n",
              "    }\n",
              "\n",
              "    .dataframe thead th {\n",
              "        text-align: right;\n",
              "    }\n",
              "</style>\n",
              "<table border=\"1\" class=\"dataframe\">\n",
              "  <thead>\n",
              "    <tr style=\"text-align: right;\">\n",
              "      <th></th>\n",
              "      <th>Model</th>\n",
              "      <th>Accuracy</th>\n",
              "      <th>R2</th>\n",
              "      <th>MAE</th>\n",
              "      <th>MSE</th>\n",
              "    </tr>\n",
              "  </thead>\n",
              "  <tbody>\n",
              "    <tr>\n",
              "      <th>0</th>\n",
              "      <td>GradientBoostingRegressor</td>\n",
              "      <td>0.829096</td>\n",
              "      <td>0.829096</td>\n",
              "      <td>3043.304623</td>\n",
              "      <td>2.784573e+07</td>\n",
              "    </tr>\n",
              "    <tr>\n",
              "      <th>1</th>\n",
              "      <td>RandomForest</td>\n",
              "      <td>0.830760</td>\n",
              "      <td>0.830760</td>\n",
              "      <td>2997.342490</td>\n",
              "      <td>2.757463e+07</td>\n",
              "    </tr>\n",
              "    <tr>\n",
              "      <th>2</th>\n",
              "      <td>Linear Regression</td>\n",
              "      <td>0.672860</td>\n",
              "      <td>0.672860</td>\n",
              "      <td>4759.592878</td>\n",
              "      <td>5.330167e+07</td>\n",
              "    </tr>\n",
              "    <tr>\n",
              "      <th>3</th>\n",
              "      <td>Support Vector Machine</td>\n",
              "      <td>0.740165</td>\n",
              "      <td>0.740165</td>\n",
              "      <td>3694.102351</td>\n",
              "      <td>4.233557e+07</td>\n",
              "    </tr>\n",
              "    <tr>\n",
              "      <th>4</th>\n",
              "      <td>Decision Tree</td>\n",
              "      <td>0.676199</td>\n",
              "      <td>0.676199</td>\n",
              "      <td>3769.283282</td>\n",
              "      <td>5.275755e+07</td>\n",
              "    </tr>\n",
              "  </tbody>\n",
              "</table>\n",
              "</div>\n",
              "      <button class=\"colab-df-convert\" onclick=\"convertToInteractive('df-3f2913a7-14a3-478f-92d6-a58374e57e7b')\"\n",
              "              title=\"Convert this dataframe to an interactive table.\"\n",
              "              style=\"display:none;\">\n",
              "        \n",
              "  <svg xmlns=\"http://www.w3.org/2000/svg\" height=\"24px\"viewBox=\"0 0 24 24\"\n",
              "       width=\"24px\">\n",
              "    <path d=\"M0 0h24v24H0V0z\" fill=\"none\"/>\n",
              "    <path d=\"M18.56 5.44l.94 2.06.94-2.06 2.06-.94-2.06-.94-.94-2.06-.94 2.06-2.06.94zm-11 1L8.5 8.5l.94-2.06 2.06-.94-2.06-.94L8.5 2.5l-.94 2.06-2.06.94zm10 10l.94 2.06.94-2.06 2.06-.94-2.06-.94-.94-2.06-.94 2.06-2.06.94z\"/><path d=\"M17.41 7.96l-1.37-1.37c-.4-.4-.92-.59-1.43-.59-.52 0-1.04.2-1.43.59L10.3 9.45l-7.72 7.72c-.78.78-.78 2.05 0 2.83L4 21.41c.39.39.9.59 1.41.59.51 0 1.02-.2 1.41-.59l7.78-7.78 2.81-2.81c.8-.78.8-2.07 0-2.86zM5.41 20L4 18.59l7.72-7.72 1.47 1.35L5.41 20z\"/>\n",
              "  </svg>\n",
              "      </button>\n",
              "      \n",
              "  <style>\n",
              "    .colab-df-container {\n",
              "      display:flex;\n",
              "      flex-wrap:wrap;\n",
              "      gap: 12px;\n",
              "    }\n",
              "\n",
              "    .colab-df-convert {\n",
              "      background-color: #E8F0FE;\n",
              "      border: none;\n",
              "      border-radius: 50%;\n",
              "      cursor: pointer;\n",
              "      display: none;\n",
              "      fill: #1967D2;\n",
              "      height: 32px;\n",
              "      padding: 0 0 0 0;\n",
              "      width: 32px;\n",
              "    }\n",
              "\n",
              "    .colab-df-convert:hover {\n",
              "      background-color: #E2EBFA;\n",
              "      box-shadow: 0px 1px 2px rgba(60, 64, 67, 0.3), 0px 1px 3px 1px rgba(60, 64, 67, 0.15);\n",
              "      fill: #174EA6;\n",
              "    }\n",
              "\n",
              "    [theme=dark] .colab-df-convert {\n",
              "      background-color: #3B4455;\n",
              "      fill: #D2E3FC;\n",
              "    }\n",
              "\n",
              "    [theme=dark] .colab-df-convert:hover {\n",
              "      background-color: #434B5C;\n",
              "      box-shadow: 0px 1px 3px 1px rgba(0, 0, 0, 0.15);\n",
              "      filter: drop-shadow(0px 1px 2px rgba(0, 0, 0, 0.3));\n",
              "      fill: #FFFFFF;\n",
              "    }\n",
              "  </style>\n",
              "\n",
              "      <script>\n",
              "        const buttonEl =\n",
              "          document.querySelector('#df-3f2913a7-14a3-478f-92d6-a58374e57e7b button.colab-df-convert');\n",
              "        buttonEl.style.display =\n",
              "          google.colab.kernel.accessAllowed ? 'block' : 'none';\n",
              "\n",
              "        async function convertToInteractive(key) {\n",
              "          const element = document.querySelector('#df-3f2913a7-14a3-478f-92d6-a58374e57e7b');\n",
              "          const dataTable =\n",
              "            await google.colab.kernel.invokeFunction('convertToInteractive',\n",
              "                                                     [key], {});\n",
              "          if (!dataTable) return;\n",
              "\n",
              "          const docLinkHtml = 'Like what you see? Visit the ' +\n",
              "            '<a target=\"_blank\" href=https://colab.research.google.com/notebooks/data_table.ipynb>data table notebook</a>'\n",
              "            + ' to learn more about interactive tables.';\n",
              "          element.innerHTML = '';\n",
              "          dataTable['output_type'] = 'display_data';\n",
              "          await google.colab.output.renderOutput(dataTable, element);\n",
              "          const docLink = document.createElement('div');\n",
              "          docLink.innerHTML = docLinkHtml;\n",
              "          element.appendChild(docLink);\n",
              "        }\n",
              "      </script>\n",
              "    </div>\n",
              "  </div>\n",
              "  "
            ],
            "text/plain": [
              "                       Model  Accuracy        R2          MAE           MSE\n",
              "0  GradientBoostingRegressor  0.829096  0.829096  3043.304623  2.784573e+07\n",
              "1               RandomForest  0.830760  0.830760  2997.342490  2.757463e+07\n",
              "2          Linear Regression  0.672860  0.672860  4759.592878  5.330167e+07\n",
              "3     Support Vector Machine  0.740165  0.740165  3694.102351  4.233557e+07\n",
              "4              Decision Tree  0.676199  0.676199  3769.283282  5.275755e+07"
            ]
          },
          "execution_count": 112,
          "metadata": {},
          "output_type": "execute_result"
        }
      ],
      "source": [
        "df_metric = model.get_data()\n",
        "df_metric"
      ]
    },
    {
      "cell_type": "markdown",
      "metadata": {
        "id": "ii0nc2ZasroK"
      },
      "source": [
        "###**Find Best Model with Grid Search**"
      ]
    },
    {
      "cell_type": "code",
      "execution_count": null,
      "metadata": {
        "id": "DB3FvAvQC2lL"
      },
      "outputs": [],
      "source": [
        "#Grid_search_RF, pipe_RF, score = model.GridSearch(\"Random Forest\")\n",
        "#score"
      ]
    },
    {
      "cell_type": "code",
      "execution_count": null,
      "metadata": {
        "id": "GopehdAzCCcX"
      },
      "outputs": [],
      "source": [
        "#Grid_search_RF[2].best_params_"
      ]
    },
    {
      "cell_type": "code",
      "execution_count": null,
      "metadata": {
        "id": "0mI60CGj3RGH"
      },
      "outputs": [],
      "source": [
        "#Grid_search_GBR, pipe_GBR, score = model.GridSearch(\"GBR\")\n",
        "#score"
      ]
    },
    {
      "cell_type": "code",
      "execution_count": null,
      "metadata": {
        "id": "UxEFaSTZ3bC4"
      },
      "outputs": [],
      "source": [
        "#Grid_search_GBR[2].best_params_"
      ]
    },
    {
      "cell_type": "markdown",
      "metadata": {
        "id": "mWHWcAy859jp"
      },
      "source": [
        "##**Cross Validation**"
      ]
    },
    {
      "cell_type": "code",
      "execution_count": null,
      "metadata": {
        "colab": {
          "base_uri": "https://localhost:8080/"
        },
        "id": "LSMj5HvwJvla",
        "outputId": "c2db94ca-279d-4759-8852-6cf109db6fc6"
      },
      "outputs": [
        {
          "data": {
            "text/plain": [
              "Pipeline(steps=[('columntransformer',\n",
              "                 ColumnTransformer(remainder='passthrough',\n",
              "                                   transformers=[('onehotencoder-1',\n",
              "                                                  OneHotEncoder(sparse=False),\n",
              "                                                  ['District']),\n",
              "                                                 ('onehotencoder-2',\n",
              "                                                  OneHotEncoder(sparse=False),\n",
              "                                                  ['Province']),\n",
              "                                                 ('onehotencoder-3',\n",
              "                                                  OneHotEncoder(sparse=False),\n",
              "                                                  ['Type_of_house']),\n",
              "                                                 ('onehotencoder-4',\n",
              "                                                  OneHotEncoder(sparse=False),\n",
              "                                                  ['Legal_paper']),\n",
              "                                                 ('onehotencoder-5',\n",
              "                                                  OneHotEncoder(sparse=False),\n",
              "                                                  ['WOS_Segment'])])),\n",
              "                ('minmaxscaler', MinMaxScaler()),\n",
              "                ('randomforestregressor', RandomForestRegressor())])"
            ]
          },
          "execution_count": 117,
          "metadata": {},
          "output_type": "execute_result"
        }
      ],
      "source": [
        "pipe_RF"
      ]
    },
    {
      "cell_type": "code",
      "execution_count": null,
      "metadata": {
        "id": "CdtEIAaq58K5"
      },
      "outputs": [],
      "source": [
        "from sklearn.model_selection import cross_val_score\n",
        "from sklearn.model_selection import KFold"
      ]
    },
    {
      "cell_type": "code",
      "execution_count": null,
      "metadata": {
        "id": "1z0m9x8H58mB"
      },
      "outputs": [],
      "source": [
        "kf = KFold(n_splits=5, shuffle = True, random_state=True)\n",
        "scores = cross_val_score(pipe_RF, X, np.array(y).ravel(), cv=kf)"
      ]
    },
    {
      "cell_type": "code",
      "execution_count": null,
      "metadata": {
        "colab": {
          "base_uri": "https://localhost:8080/"
        },
        "id": "ukzwFvSA3nne",
        "outputId": "486ee134-01ed-4efd-bb2e-dc06310ace1d"
      },
      "outputs": [
        {
          "data": {
            "text/plain": [
              "array([0.8253885 , 0.82014065, 0.8400847 , 0.81230501, 0.8274565 ])"
            ]
          },
          "execution_count": 120,
          "metadata": {},
          "output_type": "execute_result"
        }
      ],
      "source": [
        "scores"
      ]
    },
    {
      "cell_type": "code",
      "execution_count": null,
      "metadata": {
        "colab": {
          "base_uri": "https://localhost:8080/"
        },
        "id": "hNtJrIK-NIwu",
        "outputId": "e4a5c924-34aa-403d-9228-c7908385037d"
      },
      "outputs": [
        {
          "name": "stdout",
          "output_type": "stream",
          "text": [
            "0.8400847019662648\n"
          ]
        }
      ],
      "source": [
        "print(max(scores))"
      ]
    },
    {
      "cell_type": "code",
      "execution_count": null,
      "metadata": {
        "colab": {
          "background_save": true,
          "base_uri": "https://localhost:8080/"
        },
        "id": "Q_wZE8fV58-S",
        "outputId": "a72446d4-fd97-4a3a-d328-d197588a025a"
      },
      "outputs": [
        {
          "name": "stderr",
          "output_type": "stream",
          "text": [
            "/usr/local/lib/python3.7/dist-packages/sklearn/ensemble/_gb.py:290: FutureWarning: The loss 'ls' was deprecated in v1.0 and will be removed in version 1.2. Use 'squared_error' which is equivalent.\n",
            "  FutureWarning,\n",
            "/usr/local/lib/python3.7/dist-packages/sklearn/ensemble/_gb.py:290: FutureWarning: The loss 'ls' was deprecated in v1.0 and will be removed in version 1.2. Use 'squared_error' which is equivalent.\n",
            "  FutureWarning,\n",
            "/usr/local/lib/python3.7/dist-packages/sklearn/ensemble/_gb.py:290: FutureWarning: The loss 'ls' was deprecated in v1.0 and will be removed in version 1.2. Use 'squared_error' which is equivalent.\n",
            "  FutureWarning,\n",
            "/usr/local/lib/python3.7/dist-packages/sklearn/ensemble/_gb.py:290: FutureWarning: The loss 'ls' was deprecated in v1.0 and will be removed in version 1.2. Use 'squared_error' which is equivalent.\n",
            "  FutureWarning,\n",
            "/usr/local/lib/python3.7/dist-packages/sklearn/ensemble/_gb.py:290: FutureWarning: The loss 'ls' was deprecated in v1.0 and will be removed in version 1.2. Use 'squared_error' which is equivalent.\n",
            "  FutureWarning,\n"
          ]
        }
      ],
      "source": [
        "scores1 = cross_val_score(pipe_GBR, X, np.array(y).ravel(), cv=kf)"
      ]
    },
    {
      "cell_type": "code",
      "execution_count": null,
      "metadata": {
        "colab": {
          "background_save": true
        },
        "id": "Kv33nvJO3p8Y",
        "outputId": "99dbc99f-f5bd-4ca8-e5c6-f5b9a3ed92f5"
      },
      "outputs": [
        {
          "data": {
            "text/plain": [
              "array([0.81709123, 0.82587024, 0.83227305, 0.81966958, 0.8324198 ])"
            ]
          },
          "execution_count": 123,
          "metadata": {},
          "output_type": "execute_result"
        }
      ],
      "source": [
        "scores1"
      ]
    },
    {
      "cell_type": "code",
      "execution_count": null,
      "metadata": {
        "colab": {
          "background_save": true
        },
        "id": "zgjVyzXdNM_N",
        "outputId": "ec44ab52-7eb4-4493-afa0-dd45240981c4"
      },
      "outputs": [
        {
          "name": "stdout",
          "output_type": "stream",
          "text": [
            "0.8324197995911484\n"
          ]
        }
      ],
      "source": [
        "print(max(scores1))"
      ]
    },
    {
      "cell_type": "markdown",
      "metadata": {
        "id": "rCFRyA1HQeHe"
      },
      "source": [
        "##**Save best model**"
      ]
    },
    {
      "cell_type": "code",
      "execution_count": null,
      "metadata": {
        "colab": {
          "background_save": true
        },
        "id": "ZV2DApJh25jj"
      },
      "outputs": [],
      "source": [
        "# import pickle\n",
        "# #save the model to disk\n",
        "# filename = 'finalized_model2.sav'\n",
        "# pickle.dump(pipe_RF, open(filename, 'wb'))"
      ]
    },
    {
      "cell_type": "code",
      "execution_count": null,
      "metadata": {
        "colab": {
          "background_save": true
        },
        "id": "2m4IQq9FX3Rd"
      },
      "outputs": [],
      "source": []
    }
  ],
  "metadata": {
    "colab": {
      "collapsed_sections": [],
      "toc_visible": true,
      "provenance": []
    },
    "kernelspec": {
      "display_name": "Python 3",
      "name": "python3"
    },
    "language_info": {
      "name": "python"
    }
  },
  "nbformat": 4,
  "nbformat_minor": 0
}